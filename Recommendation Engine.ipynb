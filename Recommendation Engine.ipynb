{
 "cells": [
  {
   "cell_type": "code",
   "execution_count": 1,
   "metadata": {},
   "outputs": [],
   "source": [
    "# Import modules\n",
    "\n",
    "%load_ext autoreload\n",
    "%autoreload 2\n",
    "\n",
    "import pandas as pd\n",
    "import numpy as np\n",
    "import time\n",
    "import turicreate as tc\n",
    "from sklearn.model_selection import train_test_split\n",
    "\n",
    "import sys\n",
    "sys.path.append(\"..\")"
   ]
  },
  {
   "cell_type": "code",
   "execution_count": 2,
   "metadata": {},
   "outputs": [],
   "source": [
    "#Load data\n",
    "data = pd.read_csv('AHG.csv')\n"
   ]
  },
  {
   "cell_type": "code",
   "execution_count": 3,
   "metadata": {},
   "outputs": [
    {
     "name": "stdout",
     "output_type": "stream",
     "text": [
      "\n",
      "DataFrame:\n",
      "shape :  (60398, 3)\n",
      "   CustomerID  ProductID  SalesOrderLineNumber\n",
      "0       21768        310                     1\n",
      "1       28389        346                     1\n",
      "2       25863        346                     1\n",
      "3       14501        336                     1\n",
      "4       11003        346                     1\n"
     ]
    }
   ],
   "source": [
    "# After loading the dataset, we should look at the content of each columns.\n",
    "\n",
    "# Looking at the  file\n",
    "print(\"\\nDataFrame:\")\n",
    "print(\"shape : \", data.shape)\n",
    "print(data.head())\n"
   ]
  },
  {
   "cell_type": "markdown",
   "metadata": {},
   "source": [
    "# Create Dummy\n",
    "\n",
    "Dummy for marking whether a customer bought that item or not.\n",
    "If one buys an item, then purchase_dummy are marked as 1"
   ]
  },
  {
   "cell_type": "code",
   "execution_count": 4,
   "metadata": {},
   "outputs": [],
   "source": [
    "def create_data_dummy(data):\n",
    "    data_dummy = data.copy()\n",
    "    data_dummy['purchase_dummy'] = 1\n",
    "    return data_dummy\n",
    "data_dummy = create_data_dummy(data)"
   ]
  },
  {
   "cell_type": "markdown",
   "metadata": {},
   "source": [
    "# Normalize item values across Customers"
   ]
  },
  {
   "cell_type": "code",
   "execution_count": 5,
   "metadata": {},
   "outputs": [
    {
     "data": {
      "text/html": [
       "<div>\n",
       "<style scoped>\n",
       "    .dataframe tbody tr th:only-of-type {\n",
       "        vertical-align: middle;\n",
       "    }\n",
       "\n",
       "    .dataframe tbody tr th {\n",
       "        vertical-align: top;\n",
       "    }\n",
       "\n",
       "    .dataframe thead th {\n",
       "        text-align: right;\n",
       "    }\n",
       "</style>\n",
       "<table border=\"1\" class=\"dataframe\">\n",
       "  <thead>\n",
       "    <tr style=\"text-align: right;\">\n",
       "      <th>ProductID</th>\n",
       "      <th>214</th>\n",
       "      <th>217</th>\n",
       "      <th>222</th>\n",
       "      <th>225</th>\n",
       "      <th>228</th>\n",
       "      <th>231</th>\n",
       "      <th>234</th>\n",
       "      <th>237</th>\n",
       "      <th>310</th>\n",
       "      <th>311</th>\n",
       "      <th>...</th>\n",
       "      <th>594</th>\n",
       "      <th>595</th>\n",
       "      <th>596</th>\n",
       "      <th>597</th>\n",
       "      <th>598</th>\n",
       "      <th>599</th>\n",
       "      <th>600</th>\n",
       "      <th>604</th>\n",
       "      <th>605</th>\n",
       "      <th>606</th>\n",
       "    </tr>\n",
       "    <tr>\n",
       "      <th>CustomerID</th>\n",
       "      <th></th>\n",
       "      <th></th>\n",
       "      <th></th>\n",
       "      <th></th>\n",
       "      <th></th>\n",
       "      <th></th>\n",
       "      <th></th>\n",
       "      <th></th>\n",
       "      <th></th>\n",
       "      <th></th>\n",
       "      <th></th>\n",
       "      <th></th>\n",
       "      <th></th>\n",
       "      <th></th>\n",
       "      <th></th>\n",
       "      <th></th>\n",
       "      <th></th>\n",
       "      <th></th>\n",
       "      <th></th>\n",
       "      <th></th>\n",
       "      <th></th>\n",
       "    </tr>\n",
       "  </thead>\n",
       "  <tbody>\n",
       "    <tr>\n",
       "      <th>11000</th>\n",
       "      <td>4.0</td>\n",
       "      <td>NaN</td>\n",
       "      <td>NaN</td>\n",
       "      <td>NaN</td>\n",
       "      <td>NaN</td>\n",
       "      <td>NaN</td>\n",
       "      <td>NaN</td>\n",
       "      <td>NaN</td>\n",
       "      <td>NaN</td>\n",
       "      <td>NaN</td>\n",
       "      <td>...</td>\n",
       "      <td>NaN</td>\n",
       "      <td>NaN</td>\n",
       "      <td>NaN</td>\n",
       "      <td>NaN</td>\n",
       "      <td>NaN</td>\n",
       "      <td>NaN</td>\n",
       "      <td>NaN</td>\n",
       "      <td>NaN</td>\n",
       "      <td>NaN</td>\n",
       "      <td>NaN</td>\n",
       "    </tr>\n",
       "    <tr>\n",
       "      <th>11001</th>\n",
       "      <td>NaN</td>\n",
       "      <td>4.0</td>\n",
       "      <td>NaN</td>\n",
       "      <td>6.0</td>\n",
       "      <td>NaN</td>\n",
       "      <td>NaN</td>\n",
       "      <td>NaN</td>\n",
       "      <td>NaN</td>\n",
       "      <td>NaN</td>\n",
       "      <td>NaN</td>\n",
       "      <td>...</td>\n",
       "      <td>NaN</td>\n",
       "      <td>NaN</td>\n",
       "      <td>NaN</td>\n",
       "      <td>NaN</td>\n",
       "      <td>NaN</td>\n",
       "      <td>NaN</td>\n",
       "      <td>NaN</td>\n",
       "      <td>1.0</td>\n",
       "      <td>NaN</td>\n",
       "      <td>NaN</td>\n",
       "    </tr>\n",
       "    <tr>\n",
       "      <th>11002</th>\n",
       "      <td>NaN</td>\n",
       "      <td>NaN</td>\n",
       "      <td>2.0</td>\n",
       "      <td>NaN</td>\n",
       "      <td>NaN</td>\n",
       "      <td>NaN</td>\n",
       "      <td>NaN</td>\n",
       "      <td>NaN</td>\n",
       "      <td>NaN</td>\n",
       "      <td>NaN</td>\n",
       "      <td>...</td>\n",
       "      <td>NaN</td>\n",
       "      <td>NaN</td>\n",
       "      <td>NaN</td>\n",
       "      <td>NaN</td>\n",
       "      <td>NaN</td>\n",
       "      <td>NaN</td>\n",
       "      <td>NaN</td>\n",
       "      <td>NaN</td>\n",
       "      <td>NaN</td>\n",
       "      <td>NaN</td>\n",
       "    </tr>\n",
       "    <tr>\n",
       "      <th>11003</th>\n",
       "      <td>NaN</td>\n",
       "      <td>NaN</td>\n",
       "      <td>NaN</td>\n",
       "      <td>4.0</td>\n",
       "      <td>NaN</td>\n",
       "      <td>NaN</td>\n",
       "      <td>NaN</td>\n",
       "      <td>NaN</td>\n",
       "      <td>NaN</td>\n",
       "      <td>NaN</td>\n",
       "      <td>...</td>\n",
       "      <td>NaN</td>\n",
       "      <td>NaN</td>\n",
       "      <td>NaN</td>\n",
       "      <td>NaN</td>\n",
       "      <td>NaN</td>\n",
       "      <td>NaN</td>\n",
       "      <td>NaN</td>\n",
       "      <td>NaN</td>\n",
       "      <td>NaN</td>\n",
       "      <td>NaN</td>\n",
       "    </tr>\n",
       "    <tr>\n",
       "      <th>11004</th>\n",
       "      <td>3.0</td>\n",
       "      <td>2.0</td>\n",
       "      <td>NaN</td>\n",
       "      <td>NaN</td>\n",
       "      <td>NaN</td>\n",
       "      <td>NaN</td>\n",
       "      <td>NaN</td>\n",
       "      <td>NaN</td>\n",
       "      <td>NaN</td>\n",
       "      <td>NaN</td>\n",
       "      <td>...</td>\n",
       "      <td>NaN</td>\n",
       "      <td>NaN</td>\n",
       "      <td>NaN</td>\n",
       "      <td>NaN</td>\n",
       "      <td>NaN</td>\n",
       "      <td>NaN</td>\n",
       "      <td>NaN</td>\n",
       "      <td>NaN</td>\n",
       "      <td>NaN</td>\n",
       "      <td>NaN</td>\n",
       "    </tr>\n",
       "    <tr>\n",
       "      <th>...</th>\n",
       "      <td>...</td>\n",
       "      <td>...</td>\n",
       "      <td>...</td>\n",
       "      <td>...</td>\n",
       "      <td>...</td>\n",
       "      <td>...</td>\n",
       "      <td>...</td>\n",
       "      <td>...</td>\n",
       "      <td>...</td>\n",
       "      <td>...</td>\n",
       "      <td>...</td>\n",
       "      <td>...</td>\n",
       "      <td>...</td>\n",
       "      <td>...</td>\n",
       "      <td>...</td>\n",
       "      <td>...</td>\n",
       "      <td>...</td>\n",
       "      <td>...</td>\n",
       "      <td>...</td>\n",
       "      <td>...</td>\n",
       "      <td>...</td>\n",
       "    </tr>\n",
       "    <tr>\n",
       "      <th>29479</th>\n",
       "      <td>NaN</td>\n",
       "      <td>NaN</td>\n",
       "      <td>NaN</td>\n",
       "      <td>NaN</td>\n",
       "      <td>NaN</td>\n",
       "      <td>NaN</td>\n",
       "      <td>NaN</td>\n",
       "      <td>NaN</td>\n",
       "      <td>NaN</td>\n",
       "      <td>NaN</td>\n",
       "      <td>...</td>\n",
       "      <td>NaN</td>\n",
       "      <td>NaN</td>\n",
       "      <td>NaN</td>\n",
       "      <td>NaN</td>\n",
       "      <td>NaN</td>\n",
       "      <td>NaN</td>\n",
       "      <td>NaN</td>\n",
       "      <td>NaN</td>\n",
       "      <td>NaN</td>\n",
       "      <td>NaN</td>\n",
       "    </tr>\n",
       "    <tr>\n",
       "      <th>29480</th>\n",
       "      <td>NaN</td>\n",
       "      <td>4.0</td>\n",
       "      <td>NaN</td>\n",
       "      <td>5.0</td>\n",
       "      <td>NaN</td>\n",
       "      <td>NaN</td>\n",
       "      <td>NaN</td>\n",
       "      <td>NaN</td>\n",
       "      <td>NaN</td>\n",
       "      <td>NaN</td>\n",
       "      <td>...</td>\n",
       "      <td>NaN</td>\n",
       "      <td>NaN</td>\n",
       "      <td>NaN</td>\n",
       "      <td>NaN</td>\n",
       "      <td>NaN</td>\n",
       "      <td>NaN</td>\n",
       "      <td>NaN</td>\n",
       "      <td>NaN</td>\n",
       "      <td>NaN</td>\n",
       "      <td>NaN</td>\n",
       "    </tr>\n",
       "    <tr>\n",
       "      <th>29481</th>\n",
       "      <td>NaN</td>\n",
       "      <td>NaN</td>\n",
       "      <td>NaN</td>\n",
       "      <td>NaN</td>\n",
       "      <td>NaN</td>\n",
       "      <td>NaN</td>\n",
       "      <td>NaN</td>\n",
       "      <td>NaN</td>\n",
       "      <td>NaN</td>\n",
       "      <td>NaN</td>\n",
       "      <td>...</td>\n",
       "      <td>NaN</td>\n",
       "      <td>NaN</td>\n",
       "      <td>NaN</td>\n",
       "      <td>NaN</td>\n",
       "      <td>NaN</td>\n",
       "      <td>NaN</td>\n",
       "      <td>NaN</td>\n",
       "      <td>NaN</td>\n",
       "      <td>NaN</td>\n",
       "      <td>NaN</td>\n",
       "    </tr>\n",
       "    <tr>\n",
       "      <th>29482</th>\n",
       "      <td>NaN</td>\n",
       "      <td>NaN</td>\n",
       "      <td>NaN</td>\n",
       "      <td>NaN</td>\n",
       "      <td>NaN</td>\n",
       "      <td>NaN</td>\n",
       "      <td>NaN</td>\n",
       "      <td>NaN</td>\n",
       "      <td>NaN</td>\n",
       "      <td>NaN</td>\n",
       "      <td>...</td>\n",
       "      <td>NaN</td>\n",
       "      <td>NaN</td>\n",
       "      <td>NaN</td>\n",
       "      <td>NaN</td>\n",
       "      <td>NaN</td>\n",
       "      <td>NaN</td>\n",
       "      <td>NaN</td>\n",
       "      <td>NaN</td>\n",
       "      <td>NaN</td>\n",
       "      <td>NaN</td>\n",
       "    </tr>\n",
       "    <tr>\n",
       "      <th>29483</th>\n",
       "      <td>NaN</td>\n",
       "      <td>NaN</td>\n",
       "      <td>NaN</td>\n",
       "      <td>NaN</td>\n",
       "      <td>NaN</td>\n",
       "      <td>NaN</td>\n",
       "      <td>NaN</td>\n",
       "      <td>NaN</td>\n",
       "      <td>NaN</td>\n",
       "      <td>NaN</td>\n",
       "      <td>...</td>\n",
       "      <td>NaN</td>\n",
       "      <td>NaN</td>\n",
       "      <td>NaN</td>\n",
       "      <td>NaN</td>\n",
       "      <td>NaN</td>\n",
       "      <td>NaN</td>\n",
       "      <td>NaN</td>\n",
       "      <td>NaN</td>\n",
       "      <td>NaN</td>\n",
       "      <td>NaN</td>\n",
       "    </tr>\n",
       "  </tbody>\n",
       "</table>\n",
       "<p>18484 rows × 158 columns</p>\n",
       "</div>"
      ],
      "text/plain": [
       "ProductID   214  217  222  225  228  231  234  237  310  311  ...  594  595  \\\n",
       "CustomerID                                                    ...             \n",
       "11000       4.0  NaN  NaN  NaN  NaN  NaN  NaN  NaN  NaN  NaN  ...  NaN  NaN   \n",
       "11001       NaN  4.0  NaN  6.0  NaN  NaN  NaN  NaN  NaN  NaN  ...  NaN  NaN   \n",
       "11002       NaN  NaN  2.0  NaN  NaN  NaN  NaN  NaN  NaN  NaN  ...  NaN  NaN   \n",
       "11003       NaN  NaN  NaN  4.0  NaN  NaN  NaN  NaN  NaN  NaN  ...  NaN  NaN   \n",
       "11004       3.0  2.0  NaN  NaN  NaN  NaN  NaN  NaN  NaN  NaN  ...  NaN  NaN   \n",
       "...         ...  ...  ...  ...  ...  ...  ...  ...  ...  ...  ...  ...  ...   \n",
       "29479       NaN  NaN  NaN  NaN  NaN  NaN  NaN  NaN  NaN  NaN  ...  NaN  NaN   \n",
       "29480       NaN  4.0  NaN  5.0  NaN  NaN  NaN  NaN  NaN  NaN  ...  NaN  NaN   \n",
       "29481       NaN  NaN  NaN  NaN  NaN  NaN  NaN  NaN  NaN  NaN  ...  NaN  NaN   \n",
       "29482       NaN  NaN  NaN  NaN  NaN  NaN  NaN  NaN  NaN  NaN  ...  NaN  NaN   \n",
       "29483       NaN  NaN  NaN  NaN  NaN  NaN  NaN  NaN  NaN  NaN  ...  NaN  NaN   \n",
       "\n",
       "ProductID   596  597  598  599  600  604  605  606  \n",
       "CustomerID                                          \n",
       "11000       NaN  NaN  NaN  NaN  NaN  NaN  NaN  NaN  \n",
       "11001       NaN  NaN  NaN  NaN  NaN  1.0  NaN  NaN  \n",
       "11002       NaN  NaN  NaN  NaN  NaN  NaN  NaN  NaN  \n",
       "11003       NaN  NaN  NaN  NaN  NaN  NaN  NaN  NaN  \n",
       "11004       NaN  NaN  NaN  NaN  NaN  NaN  NaN  NaN  \n",
       "...         ...  ...  ...  ...  ...  ...  ...  ...  \n",
       "29479       NaN  NaN  NaN  NaN  NaN  NaN  NaN  NaN  \n",
       "29480       NaN  NaN  NaN  NaN  NaN  NaN  NaN  NaN  \n",
       "29481       NaN  NaN  NaN  NaN  NaN  NaN  NaN  NaN  \n",
       "29482       NaN  NaN  NaN  NaN  NaN  NaN  NaN  NaN  \n",
       "29483       NaN  NaN  NaN  NaN  NaN  NaN  NaN  NaN  \n",
       "\n",
       "[18484 rows x 158 columns]"
      ]
     },
     "execution_count": 5,
     "metadata": {},
     "output_type": "execute_result"
    }
   ],
   "source": [
    "df_matrix = pd.pivot_table(data, values='SalesOrderLineNumber', \n",
    "                           index='CustomerID', columns='ProductID')\n",
    "\n",
    "df_matrix"
   ]
  },
  {
   "cell_type": "code",
   "execution_count": 6,
   "metadata": {},
   "outputs": [
    {
     "data": {
      "text/html": [
       "<div>\n",
       "<style scoped>\n",
       "    .dataframe tbody tr th:only-of-type {\n",
       "        vertical-align: middle;\n",
       "    }\n",
       "\n",
       "    .dataframe tbody tr th {\n",
       "        vertical-align: top;\n",
       "    }\n",
       "\n",
       "    .dataframe thead th {\n",
       "        text-align: right;\n",
       "    }\n",
       "</style>\n",
       "<table border=\"1\" class=\"dataframe\">\n",
       "  <thead>\n",
       "    <tr style=\"text-align: right;\">\n",
       "      <th>ProductID</th>\n",
       "      <th>214</th>\n",
       "      <th>217</th>\n",
       "      <th>222</th>\n",
       "      <th>225</th>\n",
       "      <th>228</th>\n",
       "      <th>231</th>\n",
       "      <th>234</th>\n",
       "      <th>237</th>\n",
       "      <th>310</th>\n",
       "      <th>311</th>\n",
       "      <th>...</th>\n",
       "      <th>594</th>\n",
       "      <th>595</th>\n",
       "      <th>596</th>\n",
       "      <th>597</th>\n",
       "      <th>598</th>\n",
       "      <th>599</th>\n",
       "      <th>600</th>\n",
       "      <th>604</th>\n",
       "      <th>605</th>\n",
       "      <th>606</th>\n",
       "    </tr>\n",
       "    <tr>\n",
       "      <th>CustomerID</th>\n",
       "      <th></th>\n",
       "      <th></th>\n",
       "      <th></th>\n",
       "      <th></th>\n",
       "      <th></th>\n",
       "      <th></th>\n",
       "      <th></th>\n",
       "      <th></th>\n",
       "      <th></th>\n",
       "      <th></th>\n",
       "      <th></th>\n",
       "      <th></th>\n",
       "      <th></th>\n",
       "      <th></th>\n",
       "      <th></th>\n",
       "      <th></th>\n",
       "      <th></th>\n",
       "      <th></th>\n",
       "      <th></th>\n",
       "      <th></th>\n",
       "      <th></th>\n",
       "    </tr>\n",
       "  </thead>\n",
       "  <tbody>\n",
       "    <tr>\n",
       "      <th>11000</th>\n",
       "      <td>0.500000</td>\n",
       "      <td>NaN</td>\n",
       "      <td>NaN</td>\n",
       "      <td>NaN</td>\n",
       "      <td>NaN</td>\n",
       "      <td>NaN</td>\n",
       "      <td>NaN</td>\n",
       "      <td>NaN</td>\n",
       "      <td>NaN</td>\n",
       "      <td>NaN</td>\n",
       "      <td>...</td>\n",
       "      <td>NaN</td>\n",
       "      <td>NaN</td>\n",
       "      <td>NaN</td>\n",
       "      <td>NaN</td>\n",
       "      <td>NaN</td>\n",
       "      <td>NaN</td>\n",
       "      <td>NaN</td>\n",
       "      <td>NaN</td>\n",
       "      <td>NaN</td>\n",
       "      <td>NaN</td>\n",
       "    </tr>\n",
       "    <tr>\n",
       "      <th>11001</th>\n",
       "      <td>NaN</td>\n",
       "      <td>0.500000</td>\n",
       "      <td>NaN</td>\n",
       "      <td>0.714286</td>\n",
       "      <td>NaN</td>\n",
       "      <td>NaN</td>\n",
       "      <td>NaN</td>\n",
       "      <td>NaN</td>\n",
       "      <td>NaN</td>\n",
       "      <td>NaN</td>\n",
       "      <td>...</td>\n",
       "      <td>NaN</td>\n",
       "      <td>NaN</td>\n",
       "      <td>NaN</td>\n",
       "      <td>NaN</td>\n",
       "      <td>NaN</td>\n",
       "      <td>NaN</td>\n",
       "      <td>NaN</td>\n",
       "      <td>0.0</td>\n",
       "      <td>NaN</td>\n",
       "      <td>NaN</td>\n",
       "    </tr>\n",
       "    <tr>\n",
       "      <th>11002</th>\n",
       "      <td>NaN</td>\n",
       "      <td>NaN</td>\n",
       "      <td>0.2</td>\n",
       "      <td>NaN</td>\n",
       "      <td>NaN</td>\n",
       "      <td>NaN</td>\n",
       "      <td>NaN</td>\n",
       "      <td>NaN</td>\n",
       "      <td>NaN</td>\n",
       "      <td>NaN</td>\n",
       "      <td>...</td>\n",
       "      <td>NaN</td>\n",
       "      <td>NaN</td>\n",
       "      <td>NaN</td>\n",
       "      <td>NaN</td>\n",
       "      <td>NaN</td>\n",
       "      <td>NaN</td>\n",
       "      <td>NaN</td>\n",
       "      <td>NaN</td>\n",
       "      <td>NaN</td>\n",
       "      <td>NaN</td>\n",
       "    </tr>\n",
       "    <tr>\n",
       "      <th>11003</th>\n",
       "      <td>NaN</td>\n",
       "      <td>NaN</td>\n",
       "      <td>NaN</td>\n",
       "      <td>0.428571</td>\n",
       "      <td>NaN</td>\n",
       "      <td>NaN</td>\n",
       "      <td>NaN</td>\n",
       "      <td>NaN</td>\n",
       "      <td>NaN</td>\n",
       "      <td>NaN</td>\n",
       "      <td>...</td>\n",
       "      <td>NaN</td>\n",
       "      <td>NaN</td>\n",
       "      <td>NaN</td>\n",
       "      <td>NaN</td>\n",
       "      <td>NaN</td>\n",
       "      <td>NaN</td>\n",
       "      <td>NaN</td>\n",
       "      <td>NaN</td>\n",
       "      <td>NaN</td>\n",
       "      <td>NaN</td>\n",
       "    </tr>\n",
       "    <tr>\n",
       "      <th>11004</th>\n",
       "      <td>0.333333</td>\n",
       "      <td>0.166667</td>\n",
       "      <td>NaN</td>\n",
       "      <td>NaN</td>\n",
       "      <td>NaN</td>\n",
       "      <td>NaN</td>\n",
       "      <td>NaN</td>\n",
       "      <td>NaN</td>\n",
       "      <td>NaN</td>\n",
       "      <td>NaN</td>\n",
       "      <td>...</td>\n",
       "      <td>NaN</td>\n",
       "      <td>NaN</td>\n",
       "      <td>NaN</td>\n",
       "      <td>NaN</td>\n",
       "      <td>NaN</td>\n",
       "      <td>NaN</td>\n",
       "      <td>NaN</td>\n",
       "      <td>NaN</td>\n",
       "      <td>NaN</td>\n",
       "      <td>NaN</td>\n",
       "    </tr>\n",
       "    <tr>\n",
       "      <th>...</th>\n",
       "      <td>...</td>\n",
       "      <td>...</td>\n",
       "      <td>...</td>\n",
       "      <td>...</td>\n",
       "      <td>...</td>\n",
       "      <td>...</td>\n",
       "      <td>...</td>\n",
       "      <td>...</td>\n",
       "      <td>...</td>\n",
       "      <td>...</td>\n",
       "      <td>...</td>\n",
       "      <td>...</td>\n",
       "      <td>...</td>\n",
       "      <td>...</td>\n",
       "      <td>...</td>\n",
       "      <td>...</td>\n",
       "      <td>...</td>\n",
       "      <td>...</td>\n",
       "      <td>...</td>\n",
       "      <td>...</td>\n",
       "      <td>...</td>\n",
       "    </tr>\n",
       "    <tr>\n",
       "      <th>29479</th>\n",
       "      <td>NaN</td>\n",
       "      <td>NaN</td>\n",
       "      <td>NaN</td>\n",
       "      <td>NaN</td>\n",
       "      <td>NaN</td>\n",
       "      <td>NaN</td>\n",
       "      <td>NaN</td>\n",
       "      <td>NaN</td>\n",
       "      <td>NaN</td>\n",
       "      <td>NaN</td>\n",
       "      <td>...</td>\n",
       "      <td>NaN</td>\n",
       "      <td>NaN</td>\n",
       "      <td>NaN</td>\n",
       "      <td>NaN</td>\n",
       "      <td>NaN</td>\n",
       "      <td>NaN</td>\n",
       "      <td>NaN</td>\n",
       "      <td>NaN</td>\n",
       "      <td>NaN</td>\n",
       "      <td>NaN</td>\n",
       "    </tr>\n",
       "    <tr>\n",
       "      <th>29480</th>\n",
       "      <td>NaN</td>\n",
       "      <td>0.500000</td>\n",
       "      <td>NaN</td>\n",
       "      <td>0.571429</td>\n",
       "      <td>NaN</td>\n",
       "      <td>NaN</td>\n",
       "      <td>NaN</td>\n",
       "      <td>NaN</td>\n",
       "      <td>NaN</td>\n",
       "      <td>NaN</td>\n",
       "      <td>...</td>\n",
       "      <td>NaN</td>\n",
       "      <td>NaN</td>\n",
       "      <td>NaN</td>\n",
       "      <td>NaN</td>\n",
       "      <td>NaN</td>\n",
       "      <td>NaN</td>\n",
       "      <td>NaN</td>\n",
       "      <td>NaN</td>\n",
       "      <td>NaN</td>\n",
       "      <td>NaN</td>\n",
       "    </tr>\n",
       "    <tr>\n",
       "      <th>29481</th>\n",
       "      <td>NaN</td>\n",
       "      <td>NaN</td>\n",
       "      <td>NaN</td>\n",
       "      <td>NaN</td>\n",
       "      <td>NaN</td>\n",
       "      <td>NaN</td>\n",
       "      <td>NaN</td>\n",
       "      <td>NaN</td>\n",
       "      <td>NaN</td>\n",
       "      <td>NaN</td>\n",
       "      <td>...</td>\n",
       "      <td>NaN</td>\n",
       "      <td>NaN</td>\n",
       "      <td>NaN</td>\n",
       "      <td>NaN</td>\n",
       "      <td>NaN</td>\n",
       "      <td>NaN</td>\n",
       "      <td>NaN</td>\n",
       "      <td>NaN</td>\n",
       "      <td>NaN</td>\n",
       "      <td>NaN</td>\n",
       "    </tr>\n",
       "    <tr>\n",
       "      <th>29482</th>\n",
       "      <td>NaN</td>\n",
       "      <td>NaN</td>\n",
       "      <td>NaN</td>\n",
       "      <td>NaN</td>\n",
       "      <td>NaN</td>\n",
       "      <td>NaN</td>\n",
       "      <td>NaN</td>\n",
       "      <td>NaN</td>\n",
       "      <td>NaN</td>\n",
       "      <td>NaN</td>\n",
       "      <td>...</td>\n",
       "      <td>NaN</td>\n",
       "      <td>NaN</td>\n",
       "      <td>NaN</td>\n",
       "      <td>NaN</td>\n",
       "      <td>NaN</td>\n",
       "      <td>NaN</td>\n",
       "      <td>NaN</td>\n",
       "      <td>NaN</td>\n",
       "      <td>NaN</td>\n",
       "      <td>NaN</td>\n",
       "    </tr>\n",
       "    <tr>\n",
       "      <th>29483</th>\n",
       "      <td>NaN</td>\n",
       "      <td>NaN</td>\n",
       "      <td>NaN</td>\n",
       "      <td>NaN</td>\n",
       "      <td>NaN</td>\n",
       "      <td>NaN</td>\n",
       "      <td>NaN</td>\n",
       "      <td>NaN</td>\n",
       "      <td>NaN</td>\n",
       "      <td>NaN</td>\n",
       "      <td>...</td>\n",
       "      <td>NaN</td>\n",
       "      <td>NaN</td>\n",
       "      <td>NaN</td>\n",
       "      <td>NaN</td>\n",
       "      <td>NaN</td>\n",
       "      <td>NaN</td>\n",
       "      <td>NaN</td>\n",
       "      <td>NaN</td>\n",
       "      <td>NaN</td>\n",
       "      <td>NaN</td>\n",
       "    </tr>\n",
       "  </tbody>\n",
       "</table>\n",
       "<p>18484 rows × 158 columns</p>\n",
       "</div>"
      ],
      "text/plain": [
       "ProductID        214       217  222       225  228  231  234  237  310  311  \\\n",
       "CustomerID                                                                    \n",
       "11000       0.500000       NaN  NaN       NaN  NaN  NaN  NaN  NaN  NaN  NaN   \n",
       "11001            NaN  0.500000  NaN  0.714286  NaN  NaN  NaN  NaN  NaN  NaN   \n",
       "11002            NaN       NaN  0.2       NaN  NaN  NaN  NaN  NaN  NaN  NaN   \n",
       "11003            NaN       NaN  NaN  0.428571  NaN  NaN  NaN  NaN  NaN  NaN   \n",
       "11004       0.333333  0.166667  NaN       NaN  NaN  NaN  NaN  NaN  NaN  NaN   \n",
       "...              ...       ...  ...       ...  ...  ...  ...  ...  ...  ...   \n",
       "29479            NaN       NaN  NaN       NaN  NaN  NaN  NaN  NaN  NaN  NaN   \n",
       "29480            NaN  0.500000  NaN  0.571429  NaN  NaN  NaN  NaN  NaN  NaN   \n",
       "29481            NaN       NaN  NaN       NaN  NaN  NaN  NaN  NaN  NaN  NaN   \n",
       "29482            NaN       NaN  NaN       NaN  NaN  NaN  NaN  NaN  NaN  NaN   \n",
       "29483            NaN       NaN  NaN       NaN  NaN  NaN  NaN  NaN  NaN  NaN   \n",
       "\n",
       "ProductID   ...  594  595  596  597  598  599  600  604  605  606  \n",
       "CustomerID  ...                                                    \n",
       "11000       ...  NaN  NaN  NaN  NaN  NaN  NaN  NaN  NaN  NaN  NaN  \n",
       "11001       ...  NaN  NaN  NaN  NaN  NaN  NaN  NaN  0.0  NaN  NaN  \n",
       "11002       ...  NaN  NaN  NaN  NaN  NaN  NaN  NaN  NaN  NaN  NaN  \n",
       "11003       ...  NaN  NaN  NaN  NaN  NaN  NaN  NaN  NaN  NaN  NaN  \n",
       "11004       ...  NaN  NaN  NaN  NaN  NaN  NaN  NaN  NaN  NaN  NaN  \n",
       "...         ...  ...  ...  ...  ...  ...  ...  ...  ...  ...  ...  \n",
       "29479       ...  NaN  NaN  NaN  NaN  NaN  NaN  NaN  NaN  NaN  NaN  \n",
       "29480       ...  NaN  NaN  NaN  NaN  NaN  NaN  NaN  NaN  NaN  NaN  \n",
       "29481       ...  NaN  NaN  NaN  NaN  NaN  NaN  NaN  NaN  NaN  NaN  \n",
       "29482       ...  NaN  NaN  NaN  NaN  NaN  NaN  NaN  NaN  NaN  NaN  \n",
       "29483       ...  NaN  NaN  NaN  NaN  NaN  NaN  NaN  NaN  NaN  NaN  \n",
       "\n",
       "[18484 rows x 158 columns]"
      ]
     },
     "execution_count": 6,
     "metadata": {},
     "output_type": "execute_result"
    }
   ],
   "source": [
    "df_matrix_norm = (df_matrix-df_matrix.min())/(df_matrix.max()-df_matrix.min())\n",
    "\n",
    "df_matrix_norm"
   ]
  },
  {
   "cell_type": "code",
   "execution_count": 7,
   "metadata": {},
   "outputs": [
    {
     "name": "stdout",
     "output_type": "stream",
     "text": [
      "(48140, 3)\n"
     ]
    },
    {
     "data": {
      "text/html": [
       "<div>\n",
       "<style scoped>\n",
       "    .dataframe tbody tr th:only-of-type {\n",
       "        vertical-align: middle;\n",
       "    }\n",
       "\n",
       "    .dataframe tbody tr th {\n",
       "        vertical-align: top;\n",
       "    }\n",
       "\n",
       "    .dataframe thead th {\n",
       "        text-align: right;\n",
       "    }\n",
       "</style>\n",
       "<table border=\"1\" class=\"dataframe\">\n",
       "  <thead>\n",
       "    <tr style=\"text-align: right;\">\n",
       "      <th></th>\n",
       "      <th>CustomerID</th>\n",
       "      <th>ProductID</th>\n",
       "      <th>scaled_purchase_freq</th>\n",
       "    </tr>\n",
       "  </thead>\n",
       "  <tbody>\n",
       "    <tr>\n",
       "      <th>0</th>\n",
       "      <td>11000</td>\n",
       "      <td>214</td>\n",
       "      <td>0.500000</td>\n",
       "    </tr>\n",
       "    <tr>\n",
       "      <th>4</th>\n",
       "      <td>11004</td>\n",
       "      <td>214</td>\n",
       "      <td>0.333333</td>\n",
       "    </tr>\n",
       "    <tr>\n",
       "      <th>7</th>\n",
       "      <td>11007</td>\n",
       "      <td>214</td>\n",
       "      <td>0.166667</td>\n",
       "    </tr>\n",
       "    <tr>\n",
       "      <th>8</th>\n",
       "      <td>11008</td>\n",
       "      <td>214</td>\n",
       "      <td>0.166667</td>\n",
       "    </tr>\n",
       "    <tr>\n",
       "      <th>19</th>\n",
       "      <td>11019</td>\n",
       "      <td>214</td>\n",
       "      <td>0.000000</td>\n",
       "    </tr>\n",
       "  </tbody>\n",
       "</table>\n",
       "</div>"
      ],
      "text/plain": [
       "    CustomerID ProductID  scaled_purchase_freq\n",
       "0        11000       214              0.500000\n",
       "4        11004       214              0.333333\n",
       "7        11007       214              0.166667\n",
       "8        11008       214              0.166667\n",
       "19       11019       214              0.000000"
      ]
     },
     "execution_count": 7,
     "metadata": {},
     "output_type": "execute_result"
    }
   ],
   "source": [
    "# create a table for input to the modeling  \n",
    "d = df_matrix_norm.reset_index() \n",
    "d.index.names = ['scaled_purchase_freq'] \n",
    "data_norm = pd.melt(d, id_vars=['CustomerID'], value_name='scaled_purchase_freq').dropna()\n",
    "print(data_norm.shape)\n",
    "data_norm.head()"
   ]
  },
  {
   "cell_type": "markdown",
   "metadata": {},
   "source": [
    "The above steps can be combined to a function defined below:"
   ]
  },
  {
   "cell_type": "code",
   "execution_count": 8,
   "metadata": {},
   "outputs": [],
   "source": [
    "def normalize_data(data):\n",
    "    df_matrix = pd.pivot_table(data, values='SalesOrderLineNumber', index='CustomerID', columns='ProductID')\n",
    "    df_matrix_norm = (df_matrix-df_matrix.min())/(df_matrix.max()-df_matrix.min())\n",
    "    d = df_matrix_norm.reset_index()\n",
    "    d.index.names = ['scaled_purchase_freq']\n",
    "    return pd.melt(d, id_vars=['CustomerID'], value_name='scaled_purchase_freq').dropna()"
   ]
  },
  {
   "cell_type": "markdown",
   "metadata": {},
   "source": [
    "In this step, we have normalized their purchase history, from 0–1 (with 1 being the most number of purchase for an item and 0 being 0 purchase count for that item).\n",
    "\n",
    "# Split train and test set"
   ]
  },
  {
   "cell_type": "code",
   "execution_count": 9,
   "metadata": {},
   "outputs": [],
   "source": [
    "# We use 80:20 ratio for our train-test set size.\n",
    "#Our training portion will be used to develop a predictive model, while the other to evaluate the model’s performance.\n",
    "\n",
    "def split_data(data):\n",
    "    '''\n",
    "    Splits dataset into training and test set.\n",
    "    \n",
    "    Args:\n",
    "        data (pandas.DataFrame)\n",
    "        \n",
    "    Returns\n",
    "        train_data (tc.SFrame)\n",
    "        test_data (tc.SFrame)\n",
    "    '''\n",
    "    train, test = train_test_split(data, test_size = .2)\n",
    "    train_data = tc.SFrame(train)\n",
    "    test_data = tc.SFrame(test)\n",
    "    return train_data, test_data"
   ]
  },
  {
   "cell_type": "code",
   "execution_count": 10,
   "metadata": {},
   "outputs": [],
   "source": [
    "#Now that we have three datasets with SalesOrderLineNumber, purchase dummy, and scaled purchase counts, \n",
    "#we would like to split each for modeling.\n",
    "\n",
    "train_data, test_data = split_data(data)\n",
    "train_data_dummy, test_data_dummy = split_data(data_dummy)\n",
    "train_data_norm, test_data_norm = split_data(data_norm)"
   ]
  },
  {
   "cell_type": "markdown",
   "metadata": {},
   "source": [
    "# Define Models using Turicreate library"
   ]
  },
  {
   "cell_type": "code",
   "execution_count": 11,
   "metadata": {},
   "outputs": [],
   "source": [
    "# constant variables to define field names include:\n",
    "user_id = 'CustomerID'\n",
    "item_id = 'ProductID'\n",
    "users_to_recommend = list(data[user_id])\n",
    "n_rec = 10 # number of items to recommend\n",
    "n_display = 30 # to display the first few rows in an output dataset"
   ]
  },
  {
   "cell_type": "code",
   "execution_count": 12,
   "metadata": {},
   "outputs": [],
   "source": [
    "def model(train_data, name, user_id, item_id, target, users_to_recommend, n_rec, n_display):\n",
    "    if name == 'popularity':\n",
    "        model = tc.popularity_recommender.create(train_data, \n",
    "                                                    user_id=user_id, \n",
    "                                                    item_id=item_id, \n",
    "                                                    target=target)\n",
    "    elif name == 'cosine':\n",
    "        model = tc.item_similarity_recommender.create(train_data, \n",
    "                                                    user_id=user_id, \n",
    "                                                    item_id=item_id, \n",
    "                                                    target=target, \n",
    "                                                    similarity_type='cosine')\n",
    "    elif name == 'pearson':\n",
    "        model = tc.item_similarity_recommender.create(train_data, \n",
    "                                                    user_id=user_id, \n",
    "                                                    item_id=item_id, \n",
    "                                                    target=target, \n",
    "                                                    similarity_type='pearson')\n",
    "        \n",
    "    recom = model.recommend(users=users_to_recommend, k=n_rec)\n",
    "    recom.print_rows(n_display)\n",
    "    return model"
   ]
  },
  {
   "cell_type": "markdown",
   "metadata": {},
   "source": [
    "# Using Popularity Model as Baseline"
   ]
  },
  {
   "cell_type": "code",
   "execution_count": 13,
   "metadata": {},
   "outputs": [
    {
     "data": {
      "text/html": [
       "<pre>Preparing data set.</pre>"
      ],
      "text/plain": [
       "Preparing data set."
      ]
     },
     "metadata": {},
     "output_type": "display_data"
    },
    {
     "data": {
      "text/html": [
       "<pre>    Data has 48318 observations with 17748 users and 158 items.</pre>"
      ],
      "text/plain": [
       "    Data has 48318 observations with 17748 users and 158 items."
      ]
     },
     "metadata": {},
     "output_type": "display_data"
    },
    {
     "data": {
      "text/html": [
       "<pre>    Data prepared in: 0.202093s</pre>"
      ],
      "text/plain": [
       "    Data prepared in: 0.202093s"
      ]
     },
     "metadata": {},
     "output_type": "display_data"
    },
    {
     "data": {
      "text/html": [
       "<pre>48318 observations to process; with 158 unique items.</pre>"
      ],
      "text/plain": [
       "48318 observations to process; with 158 unique items."
      ]
     },
     "metadata": {},
     "output_type": "display_data"
    },
    {
     "data": {
      "text/html": [
       "<pre>recommendations finished on 1000/60398 queries. users per second: 268456</pre>"
      ],
      "text/plain": [
       "recommendations finished on 1000/60398 queries. users per second: 268456"
      ]
     },
     "metadata": {},
     "output_type": "display_data"
    },
    {
     "data": {
      "text/html": [
       "<pre>recommendations finished on 2000/60398 queries. users per second: 352858</pre>"
      ],
      "text/plain": [
       "recommendations finished on 2000/60398 queries. users per second: 352858"
      ]
     },
     "metadata": {},
     "output_type": "display_data"
    },
    {
     "data": {
      "text/html": [
       "<pre>recommendations finished on 3000/60398 queries. users per second: 407000</pre>"
      ],
      "text/plain": [
       "recommendations finished on 3000/60398 queries. users per second: 407000"
      ]
     },
     "metadata": {},
     "output_type": "display_data"
    },
    {
     "data": {
      "text/html": [
       "<pre>recommendations finished on 4000/60398 queries. users per second: 427762</pre>"
      ],
      "text/plain": [
       "recommendations finished on 4000/60398 queries. users per second: 427762"
      ]
     },
     "metadata": {},
     "output_type": "display_data"
    },
    {
     "data": {
      "text/html": [
       "<pre>recommendations finished on 5000/60398 queries. users per second: 453391</pre>"
      ],
      "text/plain": [
       "recommendations finished on 5000/60398 queries. users per second: 453391"
      ]
     },
     "metadata": {},
     "output_type": "display_data"
    },
    {
     "data": {
      "text/html": [
       "<pre>recommendations finished on 6000/60398 queries. users per second: 461113</pre>"
      ],
      "text/plain": [
       "recommendations finished on 6000/60398 queries. users per second: 461113"
      ]
     },
     "metadata": {},
     "output_type": "display_data"
    },
    {
     "data": {
      "text/html": [
       "<pre>recommendations finished on 7000/60398 queries. users per second: 449900</pre>"
      ],
      "text/plain": [
       "recommendations finished on 7000/60398 queries. users per second: 449900"
      ]
     },
     "metadata": {},
     "output_type": "display_data"
    },
    {
     "data": {
      "text/html": [
       "<pre>recommendations finished on 8000/60398 queries. users per second: 443164</pre>"
      ],
      "text/plain": [
       "recommendations finished on 8000/60398 queries. users per second: 443164"
      ]
     },
     "metadata": {},
     "output_type": "display_data"
    },
    {
     "data": {
      "text/html": [
       "<pre>recommendations finished on 9000/60398 queries. users per second: 437254</pre>"
      ],
      "text/plain": [
       "recommendations finished on 9000/60398 queries. users per second: 437254"
      ]
     },
     "metadata": {},
     "output_type": "display_data"
    },
    {
     "data": {
      "text/html": [
       "<pre>recommendations finished on 10000/60398 queries. users per second: 427186</pre>"
      ],
      "text/plain": [
       "recommendations finished on 10000/60398 queries. users per second: 427186"
      ]
     },
     "metadata": {},
     "output_type": "display_data"
    },
    {
     "data": {
      "text/html": [
       "<pre>recommendations finished on 11000/60398 queries. users per second: 414875</pre>"
      ],
      "text/plain": [
       "recommendations finished on 11000/60398 queries. users per second: 414875"
      ]
     },
     "metadata": {},
     "output_type": "display_data"
    },
    {
     "data": {
      "text/html": [
       "<pre>recommendations finished on 12000/60398 queries. users per second: 419815</pre>"
      ],
      "text/plain": [
       "recommendations finished on 12000/60398 queries. users per second: 419815"
      ]
     },
     "metadata": {},
     "output_type": "display_data"
    },
    {
     "data": {
      "text/html": [
       "<pre>recommendations finished on 13000/60398 queries. users per second: 415761</pre>"
      ],
      "text/plain": [
       "recommendations finished on 13000/60398 queries. users per second: 415761"
      ]
     },
     "metadata": {},
     "output_type": "display_data"
    },
    {
     "data": {
      "text/html": [
       "<pre>recommendations finished on 14000/60398 queries. users per second: 423806</pre>"
      ],
      "text/plain": [
       "recommendations finished on 14000/60398 queries. users per second: 423806"
      ]
     },
     "metadata": {},
     "output_type": "display_data"
    },
    {
     "data": {
      "text/html": [
       "<pre>recommendations finished on 15000/60398 queries. users per second: 431406</pre>"
      ],
      "text/plain": [
       "recommendations finished on 15000/60398 queries. users per second: 431406"
      ]
     },
     "metadata": {},
     "output_type": "display_data"
    },
    {
     "data": {
      "text/html": [
       "<pre>recommendations finished on 16000/60398 queries. users per second: 431569</pre>"
      ],
      "text/plain": [
       "recommendations finished on 16000/60398 queries. users per second: 431569"
      ]
     },
     "metadata": {},
     "output_type": "display_data"
    },
    {
     "data": {
      "text/html": [
       "<pre>recommendations finished on 17000/60398 queries. users per second: 412061</pre>"
      ],
      "text/plain": [
       "recommendations finished on 17000/60398 queries. users per second: 412061"
      ]
     },
     "metadata": {},
     "output_type": "display_data"
    },
    {
     "data": {
      "text/html": [
       "<pre>recommendations finished on 18000/60398 queries. users per second: 399938</pre>"
      ],
      "text/plain": [
       "recommendations finished on 18000/60398 queries. users per second: 399938"
      ]
     },
     "metadata": {},
     "output_type": "display_data"
    },
    {
     "data": {
      "text/html": [
       "<pre>recommendations finished on 19000/60398 queries. users per second: 380182</pre>"
      ],
      "text/plain": [
       "recommendations finished on 19000/60398 queries. users per second: 380182"
      ]
     },
     "metadata": {},
     "output_type": "display_data"
    },
    {
     "data": {
      "text/html": [
       "<pre>recommendations finished on 20000/60398 queries. users per second: 354145</pre>"
      ],
      "text/plain": [
       "recommendations finished on 20000/60398 queries. users per second: 354145"
      ]
     },
     "metadata": {},
     "output_type": "display_data"
    },
    {
     "data": {
      "text/html": [
       "<pre>recommendations finished on 21000/60398 queries. users per second: 342986</pre>"
      ],
      "text/plain": [
       "recommendations finished on 21000/60398 queries. users per second: 342986"
      ]
     },
     "metadata": {},
     "output_type": "display_data"
    },
    {
     "data": {
      "text/html": [
       "<pre>recommendations finished on 22000/60398 queries. users per second: 331420</pre>"
      ],
      "text/plain": [
       "recommendations finished on 22000/60398 queries. users per second: 331420"
      ]
     },
     "metadata": {},
     "output_type": "display_data"
    },
    {
     "data": {
      "text/html": [
       "<pre>recommendations finished on 23000/60398 queries. users per second: 309190</pre>"
      ],
      "text/plain": [
       "recommendations finished on 23000/60398 queries. users per second: 309190"
      ]
     },
     "metadata": {},
     "output_type": "display_data"
    },
    {
     "data": {
      "text/html": [
       "<pre>recommendations finished on 24000/60398 queries. users per second: 300726</pre>"
      ],
      "text/plain": [
       "recommendations finished on 24000/60398 queries. users per second: 300726"
      ]
     },
     "metadata": {},
     "output_type": "display_data"
    },
    {
     "data": {
      "text/html": [
       "<pre>recommendations finished on 25000/60398 queries. users per second: 294062</pre>"
      ],
      "text/plain": [
       "recommendations finished on 25000/60398 queries. users per second: 294062"
      ]
     },
     "metadata": {},
     "output_type": "display_data"
    },
    {
     "data": {
      "text/html": [
       "<pre>recommendations finished on 26000/60398 queries. users per second: 297861</pre>"
      ],
      "text/plain": [
       "recommendations finished on 26000/60398 queries. users per second: 297861"
      ]
     },
     "metadata": {},
     "output_type": "display_data"
    },
    {
     "name": "stdout",
     "output_type": "stream",
     "text": [
      "+------------+-----------+--------------------+------+\n",
      "| CustomerID | ProductID |       score        | rank |\n",
      "+------------+-----------+--------------------+------+\n",
      "|   21768    |    467    | 3.1763085399449036 |  1   |\n",
      "|   21768    |    463    | 3.146529562982005  |  2   |\n",
      "|   21768    |    465    | 3.0554156171284634 |  3   |\n",
      "|   21768    |    486    | 3.051813471502591  |  4   |\n",
      "|   21768    |    484    | 2.969401947148818  |  5   |\n",
      "|   21768    |    471    | 2.891304347826087  |  6   |\n",
      "|   21768    |    487    |  2.86218487394958  |  7   |\n",
      "|   21768    |    473    | 2.8089171974522293 |  8   |\n",
      "|   21768    |    228    | 2.789156626506024  |  9   |\n",
      "|   21768    |    234    | 2.7591036414565826 |  10  |\n",
      "|   28389    |    467    | 3.1763085399449036 |  1   |\n",
      "|   28389    |    463    | 3.146529562982005  |  2   |\n",
      "|   28389    |    465    | 3.0554156171284634 |  3   |\n",
      "|   28389    |    486    | 3.051813471502591  |  4   |\n",
      "|   28389    |    484    | 2.969401947148818  |  5   |\n",
      "|   28389    |    471    | 2.891304347826087  |  6   |\n",
      "|   28389    |    487    |  2.86218487394958  |  7   |\n",
      "|   28389    |    473    | 2.8089171974522293 |  8   |\n",
      "|   28389    |    228    | 2.789156626506024  |  9   |\n",
      "|   28389    |    234    | 2.7591036414565826 |  10  |\n",
      "|   25863    |    467    | 3.1763085399449036 |  1   |\n",
      "|   25863    |    463    | 3.146529562982005  |  2   |\n",
      "|   25863    |    465    | 3.0554156171284634 |  3   |\n",
      "|   25863    |    486    | 3.051813471502591  |  4   |\n",
      "|   25863    |    484    | 2.969401947148818  |  5   |\n",
      "|   25863    |    471    | 2.891304347826087  |  6   |\n",
      "|   25863    |    487    |  2.86218487394958  |  7   |\n",
      "|   25863    |    473    | 2.8089171974522293 |  8   |\n",
      "|   25863    |    228    | 2.789156626506024  |  9   |\n",
      "|   25863    |    234    | 2.7591036414565826 |  10  |\n",
      "+------------+-----------+--------------------+------+\n",
      "[603980 rows x 4 columns]\n",
      "\n"
     ]
    },
    {
     "data": {
      "text/html": [
       "<pre>recommendations finished on 27000/60398 queries. users per second: 298597</pre>"
      ],
      "text/plain": [
       "recommendations finished on 27000/60398 queries. users per second: 298597"
      ]
     },
     "metadata": {},
     "output_type": "display_data"
    },
    {
     "data": {
      "text/html": [
       "<pre>recommendations finished on 28000/60398 queries. users per second: 296969</pre>"
      ],
      "text/plain": [
       "recommendations finished on 28000/60398 queries. users per second: 296969"
      ]
     },
     "metadata": {},
     "output_type": "display_data"
    }
   ],
   "source": [
    "#Using SalesOrderLineNumber\n",
    "\n",
    "name = 'popularity'\n",
    "target = 'SalesOrderLineNumber'\n",
    "popularity = model(train_data, name, user_id, item_id, target, users_to_recommend, n_rec, n_display)"
   ]
  },
  {
   "cell_type": "code",
   "execution_count": 14,
   "metadata": {},
   "outputs": [
    {
     "data": {
      "text/html": [
       "<pre>recommendations finished on 29000/60398 queries. users per second: 295075</pre>"
      ],
      "text/plain": [
       "recommendations finished on 29000/60398 queries. users per second: 295075"
      ]
     },
     "metadata": {},
     "output_type": "display_data"
    },
    {
     "data": {
      "text/html": [
       "<pre>recommendations finished on 30000/60398 queries. users per second: 291528</pre>"
      ],
      "text/plain": [
       "recommendations finished on 30000/60398 queries. users per second: 291528"
      ]
     },
     "metadata": {},
     "output_type": "display_data"
    },
    {
     "data": {
      "text/html": [
       "<pre>recommendations finished on 31000/60398 queries. users per second: 282968</pre>"
      ],
      "text/plain": [
       "recommendations finished on 31000/60398 queries. users per second: 282968"
      ]
     },
     "metadata": {},
     "output_type": "display_data"
    },
    {
     "data": {
      "text/html": [
       "<pre>recommendations finished on 32000/60398 queries. users per second: 280921</pre>"
      ],
      "text/plain": [
       "recommendations finished on 32000/60398 queries. users per second: 280921"
      ]
     },
     "metadata": {},
     "output_type": "display_data"
    },
    {
     "data": {
      "text/html": [
       "<pre>recommendations finished on 33000/60398 queries. users per second: 269738</pre>"
      ],
      "text/plain": [
       "recommendations finished on 33000/60398 queries. users per second: 269738"
      ]
     },
     "metadata": {},
     "output_type": "display_data"
    },
    {
     "data": {
      "text/html": [
       "<pre>recommendations finished on 34000/60398 queries. users per second: 269226</pre>"
      ],
      "text/plain": [
       "recommendations finished on 34000/60398 queries. users per second: 269226"
      ]
     },
     "metadata": {},
     "output_type": "display_data"
    },
    {
     "data": {
      "text/html": [
       "<pre>recommendations finished on 35000/60398 queries. users per second: 266589</pre>"
      ],
      "text/plain": [
       "recommendations finished on 35000/60398 queries. users per second: 266589"
      ]
     },
     "metadata": {},
     "output_type": "display_data"
    },
    {
     "data": {
      "text/html": [
       "<pre>recommendations finished on 36000/60398 queries. users per second: 262119</pre>"
      ],
      "text/plain": [
       "recommendations finished on 36000/60398 queries. users per second: 262119"
      ]
     },
     "metadata": {},
     "output_type": "display_data"
    },
    {
     "data": {
      "text/html": [
       "<pre>recommendations finished on 37000/60398 queries. users per second: 259682</pre>"
      ],
      "text/plain": [
       "recommendations finished on 37000/60398 queries. users per second: 259682"
      ]
     },
     "metadata": {},
     "output_type": "display_data"
    },
    {
     "data": {
      "text/html": [
       "<pre>recommendations finished on 38000/60398 queries. users per second: 260862</pre>"
      ],
      "text/plain": [
       "recommendations finished on 38000/60398 queries. users per second: 260862"
      ]
     },
     "metadata": {},
     "output_type": "display_data"
    },
    {
     "data": {
      "text/html": [
       "<pre>recommendations finished on 39000/60398 queries. users per second: 259233</pre>"
      ],
      "text/plain": [
       "recommendations finished on 39000/60398 queries. users per second: 259233"
      ]
     },
     "metadata": {},
     "output_type": "display_data"
    },
    {
     "data": {
      "text/html": [
       "<pre>recommendations finished on 40000/60398 queries. users per second: 261505</pre>"
      ],
      "text/plain": [
       "recommendations finished on 40000/60398 queries. users per second: 261505"
      ]
     },
     "metadata": {},
     "output_type": "display_data"
    },
    {
     "data": {
      "text/html": [
       "<pre>recommendations finished on 41000/60398 queries. users per second: 258208</pre>"
      ],
      "text/plain": [
       "recommendations finished on 41000/60398 queries. users per second: 258208"
      ]
     },
     "metadata": {},
     "output_type": "display_data"
    },
    {
     "data": {
      "text/html": [
       "<pre>recommendations finished on 42000/60398 queries. users per second: 257996</pre>"
      ],
      "text/plain": [
       "recommendations finished on 42000/60398 queries. users per second: 257996"
      ]
     },
     "metadata": {},
     "output_type": "display_data"
    },
    {
     "data": {
      "text/html": [
       "<pre>recommendations finished on 43000/60398 queries. users per second: 256985</pre>"
      ],
      "text/plain": [
       "recommendations finished on 43000/60398 queries. users per second: 256985"
      ]
     },
     "metadata": {},
     "output_type": "display_data"
    },
    {
     "data": {
      "text/html": [
       "<pre>recommendations finished on 44000/60398 queries. users per second: 253135</pre>"
      ],
      "text/plain": [
       "recommendations finished on 44000/60398 queries. users per second: 253135"
      ]
     },
     "metadata": {},
     "output_type": "display_data"
    },
    {
     "data": {
      "text/html": [
       "<pre>recommendations finished on 45000/60398 queries. users per second: 252452</pre>"
      ],
      "text/plain": [
       "recommendations finished on 45000/60398 queries. users per second: 252452"
      ]
     },
     "metadata": {},
     "output_type": "display_data"
    },
    {
     "data": {
      "text/html": [
       "<pre>recommendations finished on 46000/60398 queries. users per second: 254361</pre>"
      ],
      "text/plain": [
       "recommendations finished on 46000/60398 queries. users per second: 254361"
      ]
     },
     "metadata": {},
     "output_type": "display_data"
    },
    {
     "data": {
      "text/html": [
       "<pre>recommendations finished on 47000/60398 queries. users per second: 252472</pre>"
      ],
      "text/plain": [
       "recommendations finished on 47000/60398 queries. users per second: 252472"
      ]
     },
     "metadata": {},
     "output_type": "display_data"
    },
    {
     "data": {
      "text/html": [
       "<pre>recommendations finished on 48000/60398 queries. users per second: 250415</pre>"
      ],
      "text/plain": [
       "recommendations finished on 48000/60398 queries. users per second: 250415"
      ]
     },
     "metadata": {},
     "output_type": "display_data"
    },
    {
     "data": {
      "text/html": [
       "<pre>recommendations finished on 49000/60398 queries. users per second: 248336</pre>"
      ],
      "text/plain": [
       "recommendations finished on 49000/60398 queries. users per second: 248336"
      ]
     },
     "metadata": {},
     "output_type": "display_data"
    },
    {
     "data": {
      "text/html": [
       "<pre>recommendations finished on 50000/60398 queries. users per second: 245402</pre>"
      ],
      "text/plain": [
       "recommendations finished on 50000/60398 queries. users per second: 245402"
      ]
     },
     "metadata": {},
     "output_type": "display_data"
    },
    {
     "data": {
      "text/html": [
       "<pre>recommendations finished on 51000/60398 queries. users per second: 242273</pre>"
      ],
      "text/plain": [
       "recommendations finished on 51000/60398 queries. users per second: 242273"
      ]
     },
     "metadata": {},
     "output_type": "display_data"
    },
    {
     "data": {
      "text/html": [
       "<pre>recommendations finished on 52000/60398 queries. users per second: 238762</pre>"
      ],
      "text/plain": [
       "recommendations finished on 52000/60398 queries. users per second: 238762"
      ]
     },
     "metadata": {},
     "output_type": "display_data"
    },
    {
     "data": {
      "text/html": [
       "<pre>recommendations finished on 53000/60398 queries. users per second: 229679</pre>"
      ],
      "text/plain": [
       "recommendations finished on 53000/60398 queries. users per second: 229679"
      ]
     },
     "metadata": {},
     "output_type": "display_data"
    },
    {
     "data": {
      "text/html": [
       "<pre>recommendations finished on 54000/60398 queries. users per second: 229235</pre>"
      ],
      "text/plain": [
       "recommendations finished on 54000/60398 queries. users per second: 229235"
      ]
     },
     "metadata": {},
     "output_type": "display_data"
    },
    {
     "data": {
      "text/html": [
       "<pre>recommendations finished on 55000/60398 queries. users per second: 230315</pre>"
      ],
      "text/plain": [
       "recommendations finished on 55000/60398 queries. users per second: 230315"
      ]
     },
     "metadata": {},
     "output_type": "display_data"
    },
    {
     "data": {
      "text/html": [
       "<pre>recommendations finished on 56000/60398 queries. users per second: 217321</pre>"
      ],
      "text/plain": [
       "recommendations finished on 56000/60398 queries. users per second: 217321"
      ]
     },
     "metadata": {},
     "output_type": "display_data"
    },
    {
     "data": {
      "text/html": [
       "<pre>recommendations finished on 57000/60398 queries. users per second: 213811</pre>"
      ],
      "text/plain": [
       "recommendations finished on 57000/60398 queries. users per second: 213811"
      ]
     },
     "metadata": {},
     "output_type": "display_data"
    },
    {
     "data": {
      "text/html": [
       "<pre>recommendations finished on 58000/60398 queries. users per second: 214558</pre>"
      ],
      "text/plain": [
       "recommendations finished on 58000/60398 queries. users per second: 214558"
      ]
     },
     "metadata": {},
     "output_type": "display_data"
    },
    {
     "data": {
      "text/html": [
       "<pre>recommendations finished on 59000/60398 queries. users per second: 215461</pre>"
      ],
      "text/plain": [
       "recommendations finished on 59000/60398 queries. users per second: 215461"
      ]
     },
     "metadata": {},
     "output_type": "display_data"
    },
    {
     "data": {
      "text/html": [
       "<pre>recommendations finished on 60000/60398 queries. users per second: 216355</pre>"
      ],
      "text/plain": [
       "recommendations finished on 60000/60398 queries. users per second: 216355"
      ]
     },
     "metadata": {},
     "output_type": "display_data"
    },
    {
     "data": {
      "text/html": [
       "<pre>Warning: Ignoring columns SalesOrderLineNumber;</pre>"
      ],
      "text/plain": [
       "Warning: Ignoring columns SalesOrderLineNumber;"
      ]
     },
     "metadata": {},
     "output_type": "display_data"
    },
    {
     "data": {
      "text/html": [
       "<pre>    To use these columns in scoring predictions, use a model that allows the use of additional features.</pre>"
      ],
      "text/plain": [
       "    To use these columns in scoring predictions, use a model that allows the use of additional features."
      ]
     },
     "metadata": {},
     "output_type": "display_data"
    },
    {
     "data": {
      "text/html": [
       "<pre>Preparing data set.</pre>"
      ],
      "text/plain": [
       "Preparing data set."
      ]
     },
     "metadata": {},
     "output_type": "display_data"
    },
    {
     "data": {
      "text/html": [
       "<pre>    Data has 48318 observations with 17750 users and 158 items.</pre>"
      ],
      "text/plain": [
       "    Data has 48318 observations with 17750 users and 158 items."
      ]
     },
     "metadata": {},
     "output_type": "display_data"
    },
    {
     "data": {
      "text/html": [
       "<pre>    Data prepared in: 0.05744s</pre>"
      ],
      "text/plain": [
       "    Data prepared in: 0.05744s"
      ]
     },
     "metadata": {},
     "output_type": "display_data"
    },
    {
     "data": {
      "text/html": [
       "<pre>48318 observations to process; with 158 unique items.</pre>"
      ],
      "text/plain": [
       "48318 observations to process; with 158 unique items."
      ]
     },
     "metadata": {},
     "output_type": "display_data"
    },
    {
     "data": {
      "text/html": [
       "<pre>recommendations finished on 1000/60398 queries. users per second: 46578.8</pre>"
      ],
      "text/plain": [
       "recommendations finished on 1000/60398 queries. users per second: 46578.8"
      ]
     },
     "metadata": {},
     "output_type": "display_data"
    },
    {
     "data": {
      "text/html": [
       "<pre>recommendations finished on 2000/60398 queries. users per second: 86404.3</pre>"
      ],
      "text/plain": [
       "recommendations finished on 2000/60398 queries. users per second: 86404.3"
      ]
     },
     "metadata": {},
     "output_type": "display_data"
    },
    {
     "data": {
      "text/html": [
       "<pre>recommendations finished on 3000/60398 queries. users per second: 121060</pre>"
      ],
      "text/plain": [
       "recommendations finished on 3000/60398 queries. users per second: 121060"
      ]
     },
     "metadata": {},
     "output_type": "display_data"
    },
    {
     "data": {
      "text/html": [
       "<pre>recommendations finished on 4000/60398 queries. users per second: 149365</pre>"
      ],
      "text/plain": [
       "recommendations finished on 4000/60398 queries. users per second: 149365"
      ]
     },
     "metadata": {},
     "output_type": "display_data"
    },
    {
     "data": {
      "text/html": [
       "<pre>recommendations finished on 5000/60398 queries. users per second: 174265</pre>"
      ],
      "text/plain": [
       "recommendations finished on 5000/60398 queries. users per second: 174265"
      ]
     },
     "metadata": {},
     "output_type": "display_data"
    },
    {
     "data": {
      "text/html": [
       "<pre>recommendations finished on 6000/60398 queries. users per second: 195427</pre>"
      ],
      "text/plain": [
       "recommendations finished on 6000/60398 queries. users per second: 195427"
      ]
     },
     "metadata": {},
     "output_type": "display_data"
    },
    {
     "data": {
      "text/html": [
       "<pre>recommendations finished on 7000/60398 queries. users per second: 212857</pre>"
      ],
      "text/plain": [
       "recommendations finished on 7000/60398 queries. users per second: 212857"
      ]
     },
     "metadata": {},
     "output_type": "display_data"
    },
    {
     "data": {
      "text/html": [
       "<pre>recommendations finished on 8000/60398 queries. users per second: 230508</pre>"
      ],
      "text/plain": [
       "recommendations finished on 8000/60398 queries. users per second: 230508"
      ]
     },
     "metadata": {},
     "output_type": "display_data"
    },
    {
     "data": {
      "text/html": [
       "<pre>recommendations finished on 9000/60398 queries. users per second: 245472</pre>"
      ],
      "text/plain": [
       "recommendations finished on 9000/60398 queries. users per second: 245472"
      ]
     },
     "metadata": {},
     "output_type": "display_data"
    },
    {
     "data": {
      "text/html": [
       "<pre>recommendations finished on 10000/60398 queries. users per second: 252710</pre>"
      ],
      "text/plain": [
       "recommendations finished on 10000/60398 queries. users per second: 252710"
      ]
     },
     "metadata": {},
     "output_type": "display_data"
    },
    {
     "data": {
      "text/html": [
       "<pre>recommendations finished on 11000/60398 queries. users per second: 257726</pre>"
      ],
      "text/plain": [
       "recommendations finished on 11000/60398 queries. users per second: 257726"
      ]
     },
     "metadata": {},
     "output_type": "display_data"
    },
    {
     "data": {
      "text/html": [
       "<pre>recommendations finished on 12000/60398 queries. users per second: 268318</pre>"
      ],
      "text/plain": [
       "recommendations finished on 12000/60398 queries. users per second: 268318"
      ]
     },
     "metadata": {},
     "output_type": "display_data"
    },
    {
     "data": {
      "text/html": [
       "<pre>recommendations finished on 13000/60398 queries. users per second: 278069</pre>"
      ],
      "text/plain": [
       "recommendations finished on 13000/60398 queries. users per second: 278069"
      ]
     },
     "metadata": {},
     "output_type": "display_data"
    },
    {
     "data": {
      "text/html": [
       "<pre>recommendations finished on 14000/60398 queries. users per second: 286715</pre>"
      ],
      "text/plain": [
       "recommendations finished on 14000/60398 queries. users per second: 286715"
      ]
     },
     "metadata": {},
     "output_type": "display_data"
    },
    {
     "data": {
      "text/html": [
       "<pre>recommendations finished on 15000/60398 queries. users per second: 284819</pre>"
      ],
      "text/plain": [
       "recommendations finished on 15000/60398 queries. users per second: 284819"
      ]
     },
     "metadata": {},
     "output_type": "display_data"
    },
    {
     "data": {
      "text/html": [
       "<pre>recommendations finished on 16000/60398 queries. users per second: 291163</pre>"
      ],
      "text/plain": [
       "recommendations finished on 16000/60398 queries. users per second: 291163"
      ]
     },
     "metadata": {},
     "output_type": "display_data"
    },
    {
     "data": {
      "text/html": [
       "<pre>recommendations finished on 17000/60398 queries. users per second: 296126</pre>"
      ],
      "text/plain": [
       "recommendations finished on 17000/60398 queries. users per second: 296126"
      ]
     },
     "metadata": {},
     "output_type": "display_data"
    },
    {
     "data": {
      "text/html": [
       "<pre>recommendations finished on 18000/60398 queries. users per second: 298602</pre>"
      ],
      "text/plain": [
       "recommendations finished on 18000/60398 queries. users per second: 298602"
      ]
     },
     "metadata": {},
     "output_type": "display_data"
    },
    {
     "data": {
      "text/html": [
       "<pre>recommendations finished on 19000/60398 queries. users per second: 305633</pre>"
      ],
      "text/plain": [
       "recommendations finished on 19000/60398 queries. users per second: 305633"
      ]
     },
     "metadata": {},
     "output_type": "display_data"
    },
    {
     "data": {
      "text/html": [
       "<pre>recommendations finished on 20000/60398 queries. users per second: 308594</pre>"
      ],
      "text/plain": [
       "recommendations finished on 20000/60398 queries. users per second: 308594"
      ]
     },
     "metadata": {},
     "output_type": "display_data"
    },
    {
     "name": "stdout",
     "output_type": "stream",
     "text": [
      "+------------+-----------+-------+------+\n",
      "| CustomerID | ProductID | score | rank |\n",
      "+------------+-----------+-------+------+\n",
      "|   21768    |    490    |  1.0  |  1   |\n",
      "|   21768    |    479    |  1.0  |  2   |\n",
      "|   21768    |    225    |  1.0  |  3   |\n",
      "|   21768    |    477    |  1.0  |  4   |\n",
      "|   21768    |    528    |  1.0  |  5   |\n",
      "|   21768    |    491    |  1.0  |  6   |\n",
      "|   21768    |    465    |  1.0  |  7   |\n",
      "|   21768    |    379    |  1.0  |  8   |\n",
      "|   21768    |    478    |  1.0  |  9   |\n",
      "|   21768    |    537    |  1.0  |  10  |\n",
      "|   28389    |    310    |  1.0  |  1   |\n",
      "|   28389    |    479    |  1.0  |  2   |\n",
      "|   28389    |    225    |  1.0  |  3   |\n",
      "|   28389    |    477    |  1.0  |  4   |\n",
      "|   28389    |    528    |  1.0  |  5   |\n",
      "|   28389    |    491    |  1.0  |  6   |\n",
      "|   28389    |    465    |  1.0  |  7   |\n",
      "|   28389    |    379    |  1.0  |  8   |\n",
      "|   28389    |    478    |  1.0  |  9   |\n",
      "|   28389    |    537    |  1.0  |  10  |\n",
      "|   25863    |    355    |  1.0  |  1   |\n",
      "|   25863    |    490    |  1.0  |  2   |\n",
      "|   25863    |    310    |  1.0  |  3   |\n",
      "|   25863    |    225    |  1.0  |  4   |\n",
      "|   25863    |    528    |  1.0  |  5   |\n",
      "|   25863    |    491    |  1.0  |  6   |\n",
      "|   25863    |    465    |  1.0  |  7   |\n",
      "|   25863    |    379    |  1.0  |  8   |\n",
      "|   25863    |    478    |  1.0  |  9   |\n",
      "|   25863    |    537    |  1.0  |  10  |\n",
      "+------------+-----------+-------+------+\n",
      "[603980 rows x 4 columns]\n",
      "\n"
     ]
    },
    {
     "data": {
      "text/html": [
       "<pre>recommendations finished on 21000/60398 queries. users per second: 311259</pre>"
      ],
      "text/plain": [
       "recommendations finished on 21000/60398 queries. users per second: 311259"
      ]
     },
     "metadata": {},
     "output_type": "display_data"
    },
    {
     "data": {
      "text/html": [
       "<pre>recommendations finished on 22000/60398 queries. users per second: 313931</pre>"
      ],
      "text/plain": [
       "recommendations finished on 22000/60398 queries. users per second: 313931"
      ]
     },
     "metadata": {},
     "output_type": "display_data"
    }
   ],
   "source": [
    "#Using purchase_dummy\n",
    "\n",
    "name = 'popularity'\n",
    "target = 'purchase_dummy'\n",
    "pop_dummy = model(train_data_dummy, name, user_id, item_id, target, users_to_recommend, n_rec, n_display)"
   ]
  },
  {
   "cell_type": "code",
   "execution_count": 15,
   "metadata": {},
   "outputs": [
    {
     "data": {
      "text/html": [
       "<pre>recommendations finished on 23000/60398 queries. users per second: 315246</pre>"
      ],
      "text/plain": [
       "recommendations finished on 23000/60398 queries. users per second: 315246"
      ]
     },
     "metadata": {},
     "output_type": "display_data"
    },
    {
     "data": {
      "text/html": [
       "<pre>recommendations finished on 24000/60398 queries. users per second: 317771</pre>"
      ],
      "text/plain": [
       "recommendations finished on 24000/60398 queries. users per second: 317771"
      ]
     },
     "metadata": {},
     "output_type": "display_data"
    },
    {
     "data": {
      "text/html": [
       "<pre>recommendations finished on 25000/60398 queries. users per second: 323734</pre>"
      ],
      "text/plain": [
       "recommendations finished on 25000/60398 queries. users per second: 323734"
      ]
     },
     "metadata": {},
     "output_type": "display_data"
    },
    {
     "data": {
      "text/html": [
       "<pre>recommendations finished on 26000/60398 queries. users per second: 327361</pre>"
      ],
      "text/plain": [
       "recommendations finished on 26000/60398 queries. users per second: 327361"
      ]
     },
     "metadata": {},
     "output_type": "display_data"
    },
    {
     "data": {
      "text/html": [
       "<pre>recommendations finished on 27000/60398 queries. users per second: 333861</pre>"
      ],
      "text/plain": [
       "recommendations finished on 27000/60398 queries. users per second: 333861"
      ]
     },
     "metadata": {},
     "output_type": "display_data"
    },
    {
     "data": {
      "text/html": [
       "<pre>recommendations finished on 28000/60398 queries. users per second: 339168</pre>"
      ],
      "text/plain": [
       "recommendations finished on 28000/60398 queries. users per second: 339168"
      ]
     },
     "metadata": {},
     "output_type": "display_data"
    },
    {
     "data": {
      "text/html": [
       "<pre>recommendations finished on 29000/60398 queries. users per second: 345016</pre>"
      ],
      "text/plain": [
       "recommendations finished on 29000/60398 queries. users per second: 345016"
      ]
     },
     "metadata": {},
     "output_type": "display_data"
    },
    {
     "data": {
      "text/html": [
       "<pre>recommendations finished on 30000/60398 queries. users per second: 351000</pre>"
      ],
      "text/plain": [
       "recommendations finished on 30000/60398 queries. users per second: 351000"
      ]
     },
     "metadata": {},
     "output_type": "display_data"
    },
    {
     "data": {
      "text/html": [
       "<pre>recommendations finished on 31000/60398 queries. users per second: 354229</pre>"
      ],
      "text/plain": [
       "recommendations finished on 31000/60398 queries. users per second: 354229"
      ]
     },
     "metadata": {},
     "output_type": "display_data"
    },
    {
     "data": {
      "text/html": [
       "<pre>recommendations finished on 32000/60398 queries. users per second: 357878</pre>"
      ],
      "text/plain": [
       "recommendations finished on 32000/60398 queries. users per second: 357878"
      ]
     },
     "metadata": {},
     "output_type": "display_data"
    },
    {
     "data": {
      "text/html": [
       "<pre>recommendations finished on 33000/60398 queries. users per second: 358112</pre>"
      ],
      "text/plain": [
       "recommendations finished on 33000/60398 queries. users per second: 358112"
      ]
     },
     "metadata": {},
     "output_type": "display_data"
    },
    {
     "data": {
      "text/html": [
       "<pre>recommendations finished on 34000/60398 queries. users per second: 359975</pre>"
      ],
      "text/plain": [
       "recommendations finished on 34000/60398 queries. users per second: 359975"
      ]
     },
     "metadata": {},
     "output_type": "display_data"
    },
    {
     "data": {
      "text/html": [
       "<pre>recommendations finished on 35000/60398 queries. users per second: 362488</pre>"
      ],
      "text/plain": [
       "recommendations finished on 35000/60398 queries. users per second: 362488"
      ]
     },
     "metadata": {},
     "output_type": "display_data"
    },
    {
     "data": {
      "text/html": [
       "<pre>recommendations finished on 36000/60398 queries. users per second: 363280</pre>"
      ],
      "text/plain": [
       "recommendations finished on 36000/60398 queries. users per second: 363280"
      ]
     },
     "metadata": {},
     "output_type": "display_data"
    },
    {
     "data": {
      "text/html": [
       "<pre>recommendations finished on 37000/60398 queries. users per second: 367359</pre>"
      ],
      "text/plain": [
       "recommendations finished on 37000/60398 queries. users per second: 367359"
      ]
     },
     "metadata": {},
     "output_type": "display_data"
    },
    {
     "data": {
      "text/html": [
       "<pre>recommendations finished on 38000/60398 queries. users per second: 371918</pre>"
      ],
      "text/plain": [
       "recommendations finished on 38000/60398 queries. users per second: 371918"
      ]
     },
     "metadata": {},
     "output_type": "display_data"
    },
    {
     "data": {
      "text/html": [
       "<pre>recommendations finished on 39000/60398 queries. users per second: 376452</pre>"
      ],
      "text/plain": [
       "recommendations finished on 39000/60398 queries. users per second: 376452"
      ]
     },
     "metadata": {},
     "output_type": "display_data"
    },
    {
     "data": {
      "text/html": [
       "<pre>recommendations finished on 40000/60398 queries. users per second: 379323</pre>"
      ],
      "text/plain": [
       "recommendations finished on 40000/60398 queries. users per second: 379323"
      ]
     },
     "metadata": {},
     "output_type": "display_data"
    },
    {
     "data": {
      "text/html": [
       "<pre>recommendations finished on 41000/60398 queries. users per second: 382420</pre>"
      ],
      "text/plain": [
       "recommendations finished on 41000/60398 queries. users per second: 382420"
      ]
     },
     "metadata": {},
     "output_type": "display_data"
    },
    {
     "data": {
      "text/html": [
       "<pre>recommendations finished on 42000/60398 queries. users per second: 386520</pre>"
      ],
      "text/plain": [
       "recommendations finished on 42000/60398 queries. users per second: 386520"
      ]
     },
     "metadata": {},
     "output_type": "display_data"
    },
    {
     "data": {
      "text/html": [
       "<pre>recommendations finished on 43000/60398 queries. users per second: 390023</pre>"
      ],
      "text/plain": [
       "recommendations finished on 43000/60398 queries. users per second: 390023"
      ]
     },
     "metadata": {},
     "output_type": "display_data"
    },
    {
     "data": {
      "text/html": [
       "<pre>recommendations finished on 44000/60398 queries. users per second: 390518</pre>"
      ],
      "text/plain": [
       "recommendations finished on 44000/60398 queries. users per second: 390518"
      ]
     },
     "metadata": {},
     "output_type": "display_data"
    },
    {
     "data": {
      "text/html": [
       "<pre>recommendations finished on 45000/60398 queries. users per second: 387951</pre>"
      ],
      "text/plain": [
       "recommendations finished on 45000/60398 queries. users per second: 387951"
      ]
     },
     "metadata": {},
     "output_type": "display_data"
    },
    {
     "data": {
      "text/html": [
       "<pre>recommendations finished on 46000/60398 queries. users per second: 388268</pre>"
      ],
      "text/plain": [
       "recommendations finished on 46000/60398 queries. users per second: 388268"
      ]
     },
     "metadata": {},
     "output_type": "display_data"
    },
    {
     "data": {
      "text/html": [
       "<pre>recommendations finished on 47000/60398 queries. users per second: 387383</pre>"
      ],
      "text/plain": [
       "recommendations finished on 47000/60398 queries. users per second: 387383"
      ]
     },
     "metadata": {},
     "output_type": "display_data"
    },
    {
     "data": {
      "text/html": [
       "<pre>recommendations finished on 48000/60398 queries. users per second: 390784</pre>"
      ],
      "text/plain": [
       "recommendations finished on 48000/60398 queries. users per second: 390784"
      ]
     },
     "metadata": {},
     "output_type": "display_data"
    },
    {
     "data": {
      "text/html": [
       "<pre>recommendations finished on 49000/60398 queries. users per second: 394325</pre>"
      ],
      "text/plain": [
       "recommendations finished on 49000/60398 queries. users per second: 394325"
      ]
     },
     "metadata": {},
     "output_type": "display_data"
    },
    {
     "data": {
      "text/html": [
       "<pre>recommendations finished on 50000/60398 queries. users per second: 389178</pre>"
      ],
      "text/plain": [
       "recommendations finished on 50000/60398 queries. users per second: 389178"
      ]
     },
     "metadata": {},
     "output_type": "display_data"
    },
    {
     "data": {
      "text/html": [
       "<pre>recommendations finished on 51000/60398 queries. users per second: 381385</pre>"
      ],
      "text/plain": [
       "recommendations finished on 51000/60398 queries. users per second: 381385"
      ]
     },
     "metadata": {},
     "output_type": "display_data"
    },
    {
     "data": {
      "text/html": [
       "<pre>recommendations finished on 52000/60398 queries. users per second: 359852</pre>"
      ],
      "text/plain": [
       "recommendations finished on 52000/60398 queries. users per second: 359852"
      ]
     },
     "metadata": {},
     "output_type": "display_data"
    },
    {
     "data": {
      "text/html": [
       "<pre>recommendations finished on 53000/60398 queries. users per second: 359483</pre>"
      ],
      "text/plain": [
       "recommendations finished on 53000/60398 queries. users per second: 359483"
      ]
     },
     "metadata": {},
     "output_type": "display_data"
    },
    {
     "data": {
      "text/html": [
       "<pre>recommendations finished on 54000/60398 queries. users per second: 356299</pre>"
      ],
      "text/plain": [
       "recommendations finished on 54000/60398 queries. users per second: 356299"
      ]
     },
     "metadata": {},
     "output_type": "display_data"
    },
    {
     "data": {
      "text/html": [
       "<pre>recommendations finished on 55000/60398 queries. users per second: 356052</pre>"
      ],
      "text/plain": [
       "recommendations finished on 55000/60398 queries. users per second: 356052"
      ]
     },
     "metadata": {},
     "output_type": "display_data"
    },
    {
     "data": {
      "text/html": [
       "<pre>recommendations finished on 56000/60398 queries. users per second: 353009</pre>"
      ],
      "text/plain": [
       "recommendations finished on 56000/60398 queries. users per second: 353009"
      ]
     },
     "metadata": {},
     "output_type": "display_data"
    },
    {
     "data": {
      "text/html": [
       "<pre>recommendations finished on 57000/60398 queries. users per second: 318936</pre>"
      ],
      "text/plain": [
       "recommendations finished on 57000/60398 queries. users per second: 318936"
      ]
     },
     "metadata": {},
     "output_type": "display_data"
    },
    {
     "data": {
      "text/html": [
       "<pre>recommendations finished on 58000/60398 queries. users per second: 313415</pre>"
      ],
      "text/plain": [
       "recommendations finished on 58000/60398 queries. users per second: 313415"
      ]
     },
     "metadata": {},
     "output_type": "display_data"
    },
    {
     "data": {
      "text/html": [
       "<pre>recommendations finished on 59000/60398 queries. users per second: 312742</pre>"
      ],
      "text/plain": [
       "recommendations finished on 59000/60398 queries. users per second: 312742"
      ]
     },
     "metadata": {},
     "output_type": "display_data"
    },
    {
     "data": {
      "text/html": [
       "<pre>recommendations finished on 60000/60398 queries. users per second: 301283</pre>"
      ],
      "text/plain": [
       "recommendations finished on 60000/60398 queries. users per second: 301283"
      ]
     },
     "metadata": {},
     "output_type": "display_data"
    },
    {
     "data": {
      "text/html": [
       "<pre>Preparing data set.</pre>"
      ],
      "text/plain": [
       "Preparing data set."
      ]
     },
     "metadata": {},
     "output_type": "display_data"
    },
    {
     "data": {
      "text/html": [
       "<pre>    Data has 38512 observations with 16518 users and 73 items.</pre>"
      ],
      "text/plain": [
       "    Data has 38512 observations with 16518 users and 73 items."
      ]
     },
     "metadata": {},
     "output_type": "display_data"
    },
    {
     "data": {
      "text/html": [
       "<pre>    Data prepared in: 0.060484s</pre>"
      ],
      "text/plain": [
       "    Data prepared in: 0.060484s"
      ]
     },
     "metadata": {},
     "output_type": "display_data"
    },
    {
     "data": {
      "text/html": [
       "<pre>38512 observations to process; with 73 unique items.</pre>"
      ],
      "text/plain": [
       "38512 observations to process; with 73 unique items."
      ]
     },
     "metadata": {},
     "output_type": "display_data"
    },
    {
     "data": {
      "text/html": [
       "<pre>recommendations finished on 1000/60398 queries. users per second: 46615.7</pre>"
      ],
      "text/plain": [
       "recommendations finished on 1000/60398 queries. users per second: 46615.7"
      ]
     },
     "metadata": {},
     "output_type": "display_data"
    },
    {
     "data": {
      "text/html": [
       "<pre>recommendations finished on 2000/60398 queries. users per second: 64968.8</pre>"
      ],
      "text/plain": [
       "recommendations finished on 2000/60398 queries. users per second: 64968.8"
      ]
     },
     "metadata": {},
     "output_type": "display_data"
    },
    {
     "data": {
      "text/html": [
       "<pre>recommendations finished on 3000/60398 queries. users per second: 91549.9</pre>"
      ],
      "text/plain": [
       "recommendations finished on 3000/60398 queries. users per second: 91549.9"
      ]
     },
     "metadata": {},
     "output_type": "display_data"
    },
    {
     "data": {
      "text/html": [
       "<pre>recommendations finished on 4000/60398 queries. users per second: 117319</pre>"
      ],
      "text/plain": [
       "recommendations finished on 4000/60398 queries. users per second: 117319"
      ]
     },
     "metadata": {},
     "output_type": "display_data"
    },
    {
     "data": {
      "text/html": [
       "<pre>recommendations finished on 5000/60398 queries. users per second: 140473</pre>"
      ],
      "text/plain": [
       "recommendations finished on 5000/60398 queries. users per second: 140473"
      ]
     },
     "metadata": {},
     "output_type": "display_data"
    },
    {
     "data": {
      "text/html": [
       "<pre>recommendations finished on 6000/60398 queries. users per second: 162575</pre>"
      ],
      "text/plain": [
       "recommendations finished on 6000/60398 queries. users per second: 162575"
      ]
     },
     "metadata": {},
     "output_type": "display_data"
    },
    {
     "data": {
      "text/html": [
       "<pre>recommendations finished on 7000/60398 queries. users per second: 182720</pre>"
      ],
      "text/plain": [
       "recommendations finished on 7000/60398 queries. users per second: 182720"
      ]
     },
     "metadata": {},
     "output_type": "display_data"
    },
    {
     "data": {
      "text/html": [
       "<pre>recommendations finished on 8000/60398 queries. users per second: 199611</pre>"
      ],
      "text/plain": [
       "recommendations finished on 8000/60398 queries. users per second: 199611"
      ]
     },
     "metadata": {},
     "output_type": "display_data"
    },
    {
     "data": {
      "text/html": [
       "<pre>recommendations finished on 9000/60398 queries. users per second: 215688</pre>"
      ],
      "text/plain": [
       "recommendations finished on 9000/60398 queries. users per second: 215688"
      ]
     },
     "metadata": {},
     "output_type": "display_data"
    },
    {
     "data": {
      "text/html": [
       "<pre>recommendations finished on 10000/60398 queries. users per second: 230436</pre>"
      ],
      "text/plain": [
       "recommendations finished on 10000/60398 queries. users per second: 230436"
      ]
     },
     "metadata": {},
     "output_type": "display_data"
    },
    {
     "data": {
      "text/html": [
       "<pre>recommendations finished on 11000/60398 queries. users per second: 239641</pre>"
      ],
      "text/plain": [
       "recommendations finished on 11000/60398 queries. users per second: 239641"
      ]
     },
     "metadata": {},
     "output_type": "display_data"
    },
    {
     "data": {
      "text/html": [
       "<pre>recommendations finished on 12000/60398 queries. users per second: 242768</pre>"
      ],
      "text/plain": [
       "recommendations finished on 12000/60398 queries. users per second: 242768"
      ]
     },
     "metadata": {},
     "output_type": "display_data"
    },
    {
     "data": {
      "text/html": [
       "<pre>recommendations finished on 13000/60398 queries. users per second: 252781</pre>"
      ],
      "text/plain": [
       "recommendations finished on 13000/60398 queries. users per second: 252781"
      ]
     },
     "metadata": {},
     "output_type": "display_data"
    },
    {
     "data": {
      "text/html": [
       "<pre>recommendations finished on 15000/60398 queries. users per second: 262573</pre>"
      ],
      "text/plain": [
       "recommendations finished on 15000/60398 queries. users per second: 262573"
      ]
     },
     "metadata": {},
     "output_type": "display_data"
    },
    {
     "data": {
      "text/html": [
       "<pre>recommendations finished on 16000/60398 queries. users per second: 271072</pre>"
      ],
      "text/plain": [
       "recommendations finished on 16000/60398 queries. users per second: 271072"
      ]
     },
     "metadata": {},
     "output_type": "display_data"
    },
    {
     "data": {
      "text/html": [
       "<pre>recommendations finished on 17000/60398 queries. users per second: 280089</pre>"
      ],
      "text/plain": [
       "recommendations finished on 17000/60398 queries. users per second: 280089"
      ]
     },
     "metadata": {},
     "output_type": "display_data"
    },
    {
     "data": {
      "text/html": [
       "<pre>recommendations finished on 18000/60398 queries. users per second: 288378</pre>"
      ],
      "text/plain": [
       "recommendations finished on 18000/60398 queries. users per second: 288378"
      ]
     },
     "metadata": {},
     "output_type": "display_data"
    },
    {
     "data": {
      "text/html": [
       "<pre>recommendations finished on 14000/60398 queries. users per second: 261004</pre>"
      ],
      "text/plain": [
       "recommendations finished on 14000/60398 queries. users per second: 261004"
      ]
     },
     "metadata": {},
     "output_type": "display_data"
    },
    {
     "data": {
      "text/html": [
       "<pre>recommendations finished on 19000/60398 queries. users per second: 296680</pre>"
      ],
      "text/plain": [
       "recommendations finished on 19000/60398 queries. users per second: 296680"
      ]
     },
     "metadata": {},
     "output_type": "display_data"
    },
    {
     "data": {
      "text/html": [
       "<pre>recommendations finished on 20000/60398 queries. users per second: 304655</pre>"
      ],
      "text/plain": [
       "recommendations finished on 20000/60398 queries. users per second: 304655"
      ]
     },
     "metadata": {},
     "output_type": "display_data"
    },
    {
     "data": {
      "text/html": [
       "<pre>recommendations finished on 21000/60398 queries. users per second: 312565</pre>"
      ],
      "text/plain": [
       "recommendations finished on 21000/60398 queries. users per second: 312565"
      ]
     },
     "metadata": {},
     "output_type": "display_data"
    },
    {
     "data": {
      "text/html": [
       "<pre>recommendations finished on 22000/60398 queries. users per second: 316624</pre>"
      ],
      "text/plain": [
       "recommendations finished on 22000/60398 queries. users per second: 316624"
      ]
     },
     "metadata": {},
     "output_type": "display_data"
    },
    {
     "data": {
      "text/html": [
       "<pre>recommendations finished on 23000/60398 queries. users per second: 322698</pre>"
      ],
      "text/plain": [
       "recommendations finished on 23000/60398 queries. users per second: 322698"
      ]
     },
     "metadata": {},
     "output_type": "display_data"
    },
    {
     "data": {
      "text/html": [
       "<pre>recommendations finished on 24000/60398 queries. users per second: 330679</pre>"
      ],
      "text/plain": [
       "recommendations finished on 24000/60398 queries. users per second: 330679"
      ]
     },
     "metadata": {},
     "output_type": "display_data"
    },
    {
     "name": "stdout",
     "output_type": "stream",
     "text": [
      "+------------+-----------+---------------------+------+\n",
      "| CustomerID | ProductID |        score        | rank |\n",
      "+------------+-----------+---------------------+------+\n",
      "|   21768    |    463    | 0.43480519480519514 |  1   |\n",
      "|   21768    |    465    |  0.4060996563573881 |  2   |\n",
      "|   21768    |    484    | 0.39768688293370846 |  3   |\n",
      "|   21768    |    472    |  0.3946540880503145 |  4   |\n",
      "|   21768    |    473    |  0.3714285714285717 |  5   |\n",
      "|   21768    |    471    |  0.3661971830985916 |  6   |\n",
      "|   21768    |    487    |  0.3655231560891922 |  7   |\n",
      "|   21768    |    234    |  0.3579831932773123 |  8   |\n",
      "|   21768    |    467    | 0.35208926875593527 |  9   |\n",
      "|   21768    |    482    |  0.3509259259259266 |  10  |\n",
      "|   28389    |    463    | 0.43480519480519514 |  1   |\n",
      "|   28389    |    465    |  0.4060996563573881 |  2   |\n",
      "|   28389    |    484    | 0.39768688293370846 |  3   |\n",
      "|   28389    |    472    |  0.3946540880503145 |  4   |\n",
      "|   28389    |    473    |  0.3714285714285717 |  5   |\n",
      "|   28389    |    471    |  0.3661971830985916 |  6   |\n",
      "|   28389    |    487    |  0.3655231560891922 |  7   |\n",
      "|   28389    |    234    |  0.3579831932773123 |  8   |\n",
      "|   28389    |    467    | 0.35208926875593527 |  9   |\n",
      "|   28389    |    482    |  0.3509259259259266 |  10  |\n",
      "|   25863    |    463    | 0.43480519480519514 |  1   |\n",
      "|   25863    |    465    |  0.4060996563573881 |  2   |\n",
      "|   25863    |    484    | 0.39768688293370846 |  3   |\n",
      "|   25863    |    472    |  0.3946540880503145 |  4   |\n",
      "|   25863    |    473    |  0.3714285714285717 |  5   |\n",
      "|   25863    |    471    |  0.3661971830985916 |  6   |\n",
      "|   25863    |    487    |  0.3655231560891922 |  7   |\n",
      "|   25863    |    234    |  0.3579831932773123 |  8   |\n",
      "|   25863    |    467    | 0.35208926875593527 |  9   |\n",
      "|   25863    |    482    |  0.3509259259259266 |  10  |\n",
      "+------------+-----------+---------------------+------+\n",
      "[603980 rows x 4 columns]\n",
      "\n"
     ]
    },
    {
     "data": {
      "text/html": [
       "<pre>recommendations finished on 25000/60398 queries. users per second: 332664</pre>"
      ],
      "text/plain": [
       "recommendations finished on 25000/60398 queries. users per second: 332664"
      ]
     },
     "metadata": {},
     "output_type": "display_data"
    },
    {
     "data": {
      "text/html": [
       "<pre>recommendations finished on 26000/60398 queries. users per second: 337864</pre>"
      ],
      "text/plain": [
       "recommendations finished on 26000/60398 queries. users per second: 337864"
      ]
     },
     "metadata": {},
     "output_type": "display_data"
    }
   ],
   "source": [
    "#Using scaled_purchased_freq\n",
    "\n",
    "name = 'popularity'\n",
    "target = 'scaled_purchase_freq'\n",
    "pop_norm = model(train_data_norm, name, user_id, item_id, target, users_to_recommend, n_rec, n_display)"
   ]
  },
  {
   "cell_type": "markdown",
   "metadata": {},
   "source": [
    "# Using Cosine similarity"
   ]
  },
  {
   "cell_type": "code",
   "execution_count": 16,
   "metadata": {},
   "outputs": [
    {
     "data": {
      "text/html": [
       "<pre>recommendations finished on 27000/60398 queries. users per second: 344942</pre>"
      ],
      "text/plain": [
       "recommendations finished on 27000/60398 queries. users per second: 344942"
      ]
     },
     "metadata": {},
     "output_type": "display_data"
    },
    {
     "data": {
      "text/html": [
       "<pre>recommendations finished on 28000/60398 queries. users per second: 349983</pre>"
      ],
      "text/plain": [
       "recommendations finished on 28000/60398 queries. users per second: 349983"
      ]
     },
     "metadata": {},
     "output_type": "display_data"
    },
    {
     "data": {
      "text/html": [
       "<pre>recommendations finished on 29000/60398 queries. users per second: 352459</pre>"
      ],
      "text/plain": [
       "recommendations finished on 29000/60398 queries. users per second: 352459"
      ]
     },
     "metadata": {},
     "output_type": "display_data"
    },
    {
     "data": {
      "text/html": [
       "<pre>recommendations finished on 30000/60398 queries. users per second: 348606</pre>"
      ],
      "text/plain": [
       "recommendations finished on 30000/60398 queries. users per second: 348606"
      ]
     },
     "metadata": {},
     "output_type": "display_data"
    },
    {
     "data": {
      "text/html": [
       "<pre>recommendations finished on 31000/60398 queries. users per second: 347947</pre>"
      ],
      "text/plain": [
       "recommendations finished on 31000/60398 queries. users per second: 347947"
      ]
     },
     "metadata": {},
     "output_type": "display_data"
    },
    {
     "data": {
      "text/html": [
       "<pre>recommendations finished on 32000/60398 queries. users per second: 346508</pre>"
      ],
      "text/plain": [
       "recommendations finished on 32000/60398 queries. users per second: 346508"
      ]
     },
     "metadata": {},
     "output_type": "display_data"
    },
    {
     "data": {
      "text/html": [
       "<pre>recommendations finished on 33000/60398 queries. users per second: 352493</pre>"
      ],
      "text/plain": [
       "recommendations finished on 33000/60398 queries. users per second: 352493"
      ]
     },
     "metadata": {},
     "output_type": "display_data"
    },
    {
     "data": {
      "text/html": [
       "<pre>recommendations finished on 34000/60398 queries. users per second: 357120</pre>"
      ],
      "text/plain": [
       "recommendations finished on 34000/60398 queries. users per second: 357120"
      ]
     },
     "metadata": {},
     "output_type": "display_data"
    },
    {
     "data": {
      "text/html": [
       "<pre>recommendations finished on 35000/60398 queries. users per second: 361630</pre>"
      ],
      "text/plain": [
       "recommendations finished on 35000/60398 queries. users per second: 361630"
      ]
     },
     "metadata": {},
     "output_type": "display_data"
    },
    {
     "data": {
      "text/html": [
       "<pre>recommendations finished on 36000/60398 queries. users per second: 363680</pre>"
      ],
      "text/plain": [
       "recommendations finished on 36000/60398 queries. users per second: 363680"
      ]
     },
     "metadata": {},
     "output_type": "display_data"
    },
    {
     "data": {
      "text/html": [
       "<pre>recommendations finished on 37000/60398 queries. users per second: 360146</pre>"
      ],
      "text/plain": [
       "recommendations finished on 37000/60398 queries. users per second: 360146"
      ]
     },
     "metadata": {},
     "output_type": "display_data"
    },
    {
     "data": {
      "text/html": [
       "<pre>recommendations finished on 38000/60398 queries. users per second: 361055</pre>"
      ],
      "text/plain": [
       "recommendations finished on 38000/60398 queries. users per second: 361055"
      ]
     },
     "metadata": {},
     "output_type": "display_data"
    },
    {
     "data": {
      "text/html": [
       "<pre>recommendations finished on 39000/60398 queries. users per second: 360337</pre>"
      ],
      "text/plain": [
       "recommendations finished on 39000/60398 queries. users per second: 360337"
      ]
     },
     "metadata": {},
     "output_type": "display_data"
    },
    {
     "data": {
      "text/html": [
       "<pre>recommendations finished on 40000/60398 queries. users per second: 361749</pre>"
      ],
      "text/plain": [
       "recommendations finished on 40000/60398 queries. users per second: 361749"
      ]
     },
     "metadata": {},
     "output_type": "display_data"
    },
    {
     "data": {
      "text/html": [
       "<pre>recommendations finished on 41000/60398 queries. users per second: 363243</pre>"
      ],
      "text/plain": [
       "recommendations finished on 41000/60398 queries. users per second: 363243"
      ]
     },
     "metadata": {},
     "output_type": "display_data"
    },
    {
     "data": {
      "text/html": [
       "<pre>recommendations finished on 42000/60398 queries. users per second: 366511</pre>"
      ],
      "text/plain": [
       "recommendations finished on 42000/60398 queries. users per second: 366511"
      ]
     },
     "metadata": {},
     "output_type": "display_data"
    },
    {
     "data": {
      "text/html": [
       "<pre>recommendations finished on 43000/60398 queries. users per second: 366935</pre>"
      ],
      "text/plain": [
       "recommendations finished on 43000/60398 queries. users per second: 366935"
      ]
     },
     "metadata": {},
     "output_type": "display_data"
    },
    {
     "data": {
      "text/html": [
       "<pre>recommendations finished on 44000/60398 queries. users per second: 370461</pre>"
      ],
      "text/plain": [
       "recommendations finished on 44000/60398 queries. users per second: 370461"
      ]
     },
     "metadata": {},
     "output_type": "display_data"
    },
    {
     "data": {
      "text/html": [
       "<pre>recommendations finished on 45000/60398 queries. users per second: 373156</pre>"
      ],
      "text/plain": [
       "recommendations finished on 45000/60398 queries. users per second: 373156"
      ]
     },
     "metadata": {},
     "output_type": "display_data"
    },
    {
     "data": {
      "text/html": [
       "<pre>recommendations finished on 46000/60398 queries. users per second: 372935</pre>"
      ],
      "text/plain": [
       "recommendations finished on 46000/60398 queries. users per second: 372935"
      ]
     },
     "metadata": {},
     "output_type": "display_data"
    },
    {
     "data": {
      "text/html": [
       "<pre>recommendations finished on 47000/60398 queries. users per second: 375784</pre>"
      ],
      "text/plain": [
       "recommendations finished on 47000/60398 queries. users per second: 375784"
      ]
     },
     "metadata": {},
     "output_type": "display_data"
    },
    {
     "data": {
      "text/html": [
       "<pre>recommendations finished on 48000/60398 queries. users per second: 378740</pre>"
      ],
      "text/plain": [
       "recommendations finished on 48000/60398 queries. users per second: 378740"
      ]
     },
     "metadata": {},
     "output_type": "display_data"
    },
    {
     "data": {
      "text/html": [
       "<pre>recommendations finished on 49000/60398 queries. users per second: 381145</pre>"
      ],
      "text/plain": [
       "recommendations finished on 49000/60398 queries. users per second: 381145"
      ]
     },
     "metadata": {},
     "output_type": "display_data"
    },
    {
     "data": {
      "text/html": [
       "<pre>recommendations finished on 50000/60398 queries. users per second: 369102</pre>"
      ],
      "text/plain": [
       "recommendations finished on 50000/60398 queries. users per second: 369102"
      ]
     },
     "metadata": {},
     "output_type": "display_data"
    },
    {
     "data": {
      "text/html": [
       "<pre>recommendations finished on 51000/60398 queries. users per second: 369351</pre>"
      ],
      "text/plain": [
       "recommendations finished on 51000/60398 queries. users per second: 369351"
      ]
     },
     "metadata": {},
     "output_type": "display_data"
    },
    {
     "data": {
      "text/html": [
       "<pre>recommendations finished on 52000/60398 queries. users per second: 370278</pre>"
      ],
      "text/plain": [
       "recommendations finished on 52000/60398 queries. users per second: 370278"
      ]
     },
     "metadata": {},
     "output_type": "display_data"
    },
    {
     "data": {
      "text/html": [
       "<pre>recommendations finished on 53000/60398 queries. users per second: 366397</pre>"
      ],
      "text/plain": [
       "recommendations finished on 53000/60398 queries. users per second: 366397"
      ]
     },
     "metadata": {},
     "output_type": "display_data"
    },
    {
     "data": {
      "text/html": [
       "<pre>recommendations finished on 54000/60398 queries. users per second: 360303</pre>"
      ],
      "text/plain": [
       "recommendations finished on 54000/60398 queries. users per second: 360303"
      ]
     },
     "metadata": {},
     "output_type": "display_data"
    },
    {
     "data": {
      "text/html": [
       "<pre>recommendations finished on 55000/60398 queries. users per second: 346649</pre>"
      ],
      "text/plain": [
       "recommendations finished on 55000/60398 queries. users per second: 346649"
      ]
     },
     "metadata": {},
     "output_type": "display_data"
    },
    {
     "data": {
      "text/html": [
       "<pre>recommendations finished on 56000/60398 queries. users per second: 337689</pre>"
      ],
      "text/plain": [
       "recommendations finished on 56000/60398 queries. users per second: 337689"
      ]
     },
     "metadata": {},
     "output_type": "display_data"
    },
    {
     "data": {
      "text/html": [
       "<pre>recommendations finished on 57000/60398 queries. users per second: 334103</pre>"
      ],
      "text/plain": [
       "recommendations finished on 57000/60398 queries. users per second: 334103"
      ]
     },
     "metadata": {},
     "output_type": "display_data"
    },
    {
     "data": {
      "text/html": [
       "<pre>recommendations finished on 58000/60398 queries. users per second: 333058</pre>"
      ],
      "text/plain": [
       "recommendations finished on 58000/60398 queries. users per second: 333058"
      ]
     },
     "metadata": {},
     "output_type": "display_data"
    },
    {
     "data": {
      "text/html": [
       "<pre>recommendations finished on 59000/60398 queries. users per second: 308842</pre>"
      ],
      "text/plain": [
       "recommendations finished on 59000/60398 queries. users per second: 308842"
      ]
     },
     "metadata": {},
     "output_type": "display_data"
    },
    {
     "data": {
      "text/html": [
       "<pre>recommendations finished on 60000/60398 queries. users per second: 305753</pre>"
      ],
      "text/plain": [
       "recommendations finished on 60000/60398 queries. users per second: 305753"
      ]
     },
     "metadata": {},
     "output_type": "display_data"
    },
    {
     "data": {
      "text/html": [
       "<pre>Preparing data set.</pre>"
      ],
      "text/plain": [
       "Preparing data set."
      ]
     },
     "metadata": {},
     "output_type": "display_data"
    },
    {
     "data": {
      "text/html": [
       "<pre>    Data has 48318 observations with 17748 users and 158 items.</pre>"
      ],
      "text/plain": [
       "    Data has 48318 observations with 17748 users and 158 items."
      ]
     },
     "metadata": {},
     "output_type": "display_data"
    },
    {
     "data": {
      "text/html": [
       "<pre>    Data prepared in: 0.076788s</pre>"
      ],
      "text/plain": [
       "    Data prepared in: 0.076788s"
      ]
     },
     "metadata": {},
     "output_type": "display_data"
    },
    {
     "data": {
      "text/html": [
       "<pre>Training model from provided data.</pre>"
      ],
      "text/plain": [
       "Training model from provided data."
      ]
     },
     "metadata": {},
     "output_type": "display_data"
    },
    {
     "data": {
      "text/html": [
       "<pre>Gathering per-item and per-user statistics.</pre>"
      ],
      "text/plain": [
       "Gathering per-item and per-user statistics."
      ]
     },
     "metadata": {},
     "output_type": "display_data"
    },
    {
     "data": {
      "text/html": [
       "<pre>+--------------------------------+------------+</pre>"
      ],
      "text/plain": [
       "+--------------------------------+------------+"
      ]
     },
     "metadata": {},
     "output_type": "display_data"
    },
    {
     "data": {
      "text/html": [
       "<pre>| Elapsed Time (Item Statistics) | % Complete |</pre>"
      ],
      "text/plain": [
       "| Elapsed Time (Item Statistics) | % Complete |"
      ]
     },
     "metadata": {},
     "output_type": "display_data"
    },
    {
     "data": {
      "text/html": [
       "<pre>+--------------------------------+------------+</pre>"
      ],
      "text/plain": [
       "+--------------------------------+------------+"
      ]
     },
     "metadata": {},
     "output_type": "display_data"
    },
    {
     "data": {
      "text/html": [
       "<pre>| 27.136ms                       | 5.5        |</pre>"
      ],
      "text/plain": [
       "| 27.136ms                       | 5.5        |"
      ]
     },
     "metadata": {},
     "output_type": "display_data"
    },
    {
     "data": {
      "text/html": [
       "<pre>| 39.522ms                       | 100        |</pre>"
      ],
      "text/plain": [
       "| 39.522ms                       | 100        |"
      ]
     },
     "metadata": {},
     "output_type": "display_data"
    },
    {
     "data": {
      "text/html": [
       "<pre>+--------------------------------+------------+</pre>"
      ],
      "text/plain": [
       "+--------------------------------+------------+"
      ]
     },
     "metadata": {},
     "output_type": "display_data"
    },
    {
     "data": {
      "text/html": [
       "<pre>Setting up lookup tables.</pre>"
      ],
      "text/plain": [
       "Setting up lookup tables."
      ]
     },
     "metadata": {},
     "output_type": "display_data"
    },
    {
     "data": {
      "text/html": [
       "<pre>Processing data in one pass using dense lookup tables.</pre>"
      ],
      "text/plain": [
       "Processing data in one pass using dense lookup tables."
      ]
     },
     "metadata": {},
     "output_type": "display_data"
    },
    {
     "data": {
      "text/html": [
       "<pre>+-------------------------------------+------------------+-----------------+</pre>"
      ],
      "text/plain": [
       "+-------------------------------------+------------------+-----------------+"
      ]
     },
     "metadata": {},
     "output_type": "display_data"
    },
    {
     "data": {
      "text/html": [
       "<pre>| Elapsed Time (Constructing Lookups) | Total % Complete | Items Processed |</pre>"
      ],
      "text/plain": [
       "| Elapsed Time (Constructing Lookups) | Total % Complete | Items Processed |"
      ]
     },
     "metadata": {},
     "output_type": "display_data"
    },
    {
     "data": {
      "text/html": [
       "<pre>+-------------------------------------+------------------+-----------------+</pre>"
      ],
      "text/plain": [
       "+-------------------------------------+------------------+-----------------+"
      ]
     },
     "metadata": {},
     "output_type": "display_data"
    },
    {
     "data": {
      "text/html": [
       "<pre>| 46.986ms                            | 0                | 0               |</pre>"
      ],
      "text/plain": [
       "| 46.986ms                            | 0                | 0               |"
      ]
     },
     "metadata": {},
     "output_type": "display_data"
    },
    {
     "data": {
      "text/html": [
       "<pre>| 83.703ms                            | 100              | 158             |</pre>"
      ],
      "text/plain": [
       "| 83.703ms                            | 100              | 158             |"
      ]
     },
     "metadata": {},
     "output_type": "display_data"
    },
    {
     "data": {
      "text/html": [
       "<pre>+-------------------------------------+------------------+-----------------+</pre>"
      ],
      "text/plain": [
       "+-------------------------------------+------------------+-----------------+"
      ]
     },
     "metadata": {},
     "output_type": "display_data"
    },
    {
     "data": {
      "text/html": [
       "<pre>Finalizing lookup tables.</pre>"
      ],
      "text/plain": [
       "Finalizing lookup tables."
      ]
     },
     "metadata": {},
     "output_type": "display_data"
    },
    {
     "data": {
      "text/html": [
       "<pre>Generating candidate set for working with new users.</pre>"
      ],
      "text/plain": [
       "Generating candidate set for working with new users."
      ]
     },
     "metadata": {},
     "output_type": "display_data"
    },
    {
     "data": {
      "text/html": [
       "<pre>Finished training in 1.1695s</pre>"
      ],
      "text/plain": [
       "Finished training in 1.1695s"
      ]
     },
     "metadata": {},
     "output_type": "display_data"
    },
    {
     "data": {
      "text/html": [
       "<pre>recommendations finished on 1000/60398 queries. users per second: 156617</pre>"
      ],
      "text/plain": [
       "recommendations finished on 1000/60398 queries. users per second: 156617"
      ]
     },
     "metadata": {},
     "output_type": "display_data"
    },
    {
     "data": {
      "text/html": [
       "<pre>recommendations finished on 2000/60398 queries. users per second: 214270</pre>"
      ],
      "text/plain": [
       "recommendations finished on 2000/60398 queries. users per second: 214270"
      ]
     },
     "metadata": {},
     "output_type": "display_data"
    },
    {
     "data": {
      "text/html": [
       "<pre>recommendations finished on 3000/60398 queries. users per second: 248118</pre>"
      ],
      "text/plain": [
       "recommendations finished on 3000/60398 queries. users per second: 248118"
      ]
     },
     "metadata": {},
     "output_type": "display_data"
    },
    {
     "name": "stdout",
     "output_type": "stream",
     "text": [
      "+------------+-----------+----------------------+------+\n",
      "| CustomerID | ProductID |        score         | rank |\n",
      "+------------+-----------+----------------------+------+\n",
      "|   21768    |    376    | 0.06874269247055054  |  1   |\n",
      "|   21768    |    357    | 0.05043560266494751  |  2   |\n",
      "|   21768    |    359    | 0.04916238784790039  |  3   |\n",
      "|   21768    |    374    | 0.044199585914611816 |  4   |\n",
      "|   21768    |    478    | 0.04331541061401367  |  5   |\n",
      "|   21768    |    477    | 0.04274839162826538  |  6   |\n",
      "|   21768    |    361    | 0.04205602407455444  |  7   |\n",
      "|   21768    |    479    | 0.04035496711730957  |  8   |\n",
      "|   21768    |    363    | 0.03991955518722534  |  9   |\n",
      "|   21768    |    234    | 0.03876250982284546  |  10  |\n",
      "|   28389    |    564    | 0.07186996936798096  |  1   |\n",
      "|   28389    |    561    | 0.05113101005554199  |  2   |\n",
      "|   28389    |    578    | 0.04892462491989136  |  3   |\n",
      "|   28389    |    567    | 0.042257726192474365 |  4   |\n",
      "|   28389    |    361    | 0.042257726192474365 |  5   |\n",
      "|   28389    |    541    | 0.03800565004348755  |  6   |\n",
      "|   28389    |    573    | 0.037977755069732666 |  7   |\n",
      "|   28389    |    530    | 0.03677165508270264  |  8   |\n",
      "|   28389    |    353    | 0.03492152690887451  |  9   |\n",
      "|   28389    |    577    | 0.032968997955322266 |  10  |\n",
      "|   25863    |    478    | 0.28707637786865237  |  1   |\n",
      "|   25863    |    528    |  0.2658292293548584  |  2   |\n",
      "|   25863    |    484    |  0.2359216809272766  |  3   |\n",
      "|   25863    |    537    |  0.2318725347518921  |  4   |\n",
      "|   25863    |    225    | 0.22598867416381835  |  5   |\n",
      "|   25863    |    530    | 0.21220678091049194  |  6   |\n",
      "|   25863    |    541    | 0.19729890823364257  |  7   |\n",
      "|   25863    |    529    | 0.18239388465881348  |  8   |\n",
      "|   25863    |    214    | 0.16969372034072877  |  9   |\n",
      "|   25863    |    222    | 0.16923222541809083  |  10  |\n",
      "+------------+-----------+----------------------+------+\n",
      "[603980 rows x 4 columns]\n",
      "\n"
     ]
    },
    {
     "data": {
      "text/html": [
       "<pre>recommendations finished on 4000/60398 queries. users per second: 249875</pre>"
      ],
      "text/plain": [
       "recommendations finished on 4000/60398 queries. users per second: 249875"
      ]
     },
     "metadata": {},
     "output_type": "display_data"
    },
    {
     "data": {
      "text/html": [
       "<pre>recommendations finished on 5000/60398 queries. users per second: 245351</pre>"
      ],
      "text/plain": [
       "recommendations finished on 5000/60398 queries. users per second: 245351"
      ]
     },
     "metadata": {},
     "output_type": "display_data"
    }
   ],
   "source": [
    "#Using SalesOrderLineNumber\n",
    "\n",
    "name = 'cosine'\n",
    "target = 'SalesOrderLineNumber'\n",
    "cos = model(train_data, name, user_id, item_id, target, users_to_recommend, n_rec, n_display)"
   ]
  },
  {
   "cell_type": "code",
   "execution_count": 17,
   "metadata": {},
   "outputs": [
    {
     "data": {
      "text/html": [
       "<pre>recommendations finished on 6000/60398 queries. users per second: 235960</pre>"
      ],
      "text/plain": [
       "recommendations finished on 6000/60398 queries. users per second: 235960"
      ]
     },
     "metadata": {},
     "output_type": "display_data"
    },
    {
     "data": {
      "text/html": [
       "<pre>recommendations finished on 7000/60398 queries. users per second: 238330</pre>"
      ],
      "text/plain": [
       "recommendations finished on 7000/60398 queries. users per second: 238330"
      ]
     },
     "metadata": {},
     "output_type": "display_data"
    },
    {
     "data": {
      "text/html": [
       "<pre>recommendations finished on 8000/60398 queries. users per second: 219100</pre>"
      ],
      "text/plain": [
       "recommendations finished on 8000/60398 queries. users per second: 219100"
      ]
     },
     "metadata": {},
     "output_type": "display_data"
    },
    {
     "data": {
      "text/html": [
       "<pre>recommendations finished on 9000/60398 queries. users per second: 201518</pre>"
      ],
      "text/plain": [
       "recommendations finished on 9000/60398 queries. users per second: 201518"
      ]
     },
     "metadata": {},
     "output_type": "display_data"
    },
    {
     "data": {
      "text/html": [
       "<pre>recommendations finished on 10000/60398 queries. users per second: 190118</pre>"
      ],
      "text/plain": [
       "recommendations finished on 10000/60398 queries. users per second: 190118"
      ]
     },
     "metadata": {},
     "output_type": "display_data"
    },
    {
     "data": {
      "text/html": [
       "<pre>recommendations finished on 11000/60398 queries. users per second: 195094</pre>"
      ],
      "text/plain": [
       "recommendations finished on 11000/60398 queries. users per second: 195094"
      ]
     },
     "metadata": {},
     "output_type": "display_data"
    },
    {
     "data": {
      "text/html": [
       "<pre>recommendations finished on 12000/60398 queries. users per second: 201806</pre>"
      ],
      "text/plain": [
       "recommendations finished on 12000/60398 queries. users per second: 201806"
      ]
     },
     "metadata": {},
     "output_type": "display_data"
    },
    {
     "data": {
      "text/html": [
       "<pre>recommendations finished on 13000/60398 queries. users per second: 208370</pre>"
      ],
      "text/plain": [
       "recommendations finished on 13000/60398 queries. users per second: 208370"
      ]
     },
     "metadata": {},
     "output_type": "display_data"
    },
    {
     "data": {
      "text/html": [
       "<pre>recommendations finished on 14000/60398 queries. users per second: 209716</pre>"
      ],
      "text/plain": [
       "recommendations finished on 14000/60398 queries. users per second: 209716"
      ]
     },
     "metadata": {},
     "output_type": "display_data"
    },
    {
     "data": {
      "text/html": [
       "<pre>recommendations finished on 15000/60398 queries. users per second: 211327</pre>"
      ],
      "text/plain": [
       "recommendations finished on 15000/60398 queries. users per second: 211327"
      ]
     },
     "metadata": {},
     "output_type": "display_data"
    },
    {
     "data": {
      "text/html": [
       "<pre>recommendations finished on 16000/60398 queries. users per second: 214509</pre>"
      ],
      "text/plain": [
       "recommendations finished on 16000/60398 queries. users per second: 214509"
      ]
     },
     "metadata": {},
     "output_type": "display_data"
    },
    {
     "data": {
      "text/html": [
       "<pre>recommendations finished on 17000/60398 queries. users per second: 216585</pre>"
      ],
      "text/plain": [
       "recommendations finished on 17000/60398 queries. users per second: 216585"
      ]
     },
     "metadata": {},
     "output_type": "display_data"
    },
    {
     "data": {
      "text/html": [
       "<pre>recommendations finished on 18000/60398 queries. users per second: 218534</pre>"
      ],
      "text/plain": [
       "recommendations finished on 18000/60398 queries. users per second: 218534"
      ]
     },
     "metadata": {},
     "output_type": "display_data"
    },
    {
     "data": {
      "text/html": [
       "<pre>recommendations finished on 19000/60398 queries. users per second: 209191</pre>"
      ],
      "text/plain": [
       "recommendations finished on 19000/60398 queries. users per second: 209191"
      ]
     },
     "metadata": {},
     "output_type": "display_data"
    },
    {
     "data": {
      "text/html": [
       "<pre>recommendations finished on 20000/60398 queries. users per second: 206511</pre>"
      ],
      "text/plain": [
       "recommendations finished on 20000/60398 queries. users per second: 206511"
      ]
     },
     "metadata": {},
     "output_type": "display_data"
    },
    {
     "data": {
      "text/html": [
       "<pre>recommendations finished on 21000/60398 queries. users per second: 207381</pre>"
      ],
      "text/plain": [
       "recommendations finished on 21000/60398 queries. users per second: 207381"
      ]
     },
     "metadata": {},
     "output_type": "display_data"
    },
    {
     "data": {
      "text/html": [
       "<pre>recommendations finished on 22000/60398 queries. users per second: 208422</pre>"
      ],
      "text/plain": [
       "recommendations finished on 22000/60398 queries. users per second: 208422"
      ]
     },
     "metadata": {},
     "output_type": "display_data"
    },
    {
     "data": {
      "text/html": [
       "<pre>recommendations finished on 23000/60398 queries. users per second: 211149</pre>"
      ],
      "text/plain": [
       "recommendations finished on 23000/60398 queries. users per second: 211149"
      ]
     },
     "metadata": {},
     "output_type": "display_data"
    },
    {
     "data": {
      "text/html": [
       "<pre>recommendations finished on 24000/60398 queries. users per second: 212857</pre>"
      ],
      "text/plain": [
       "recommendations finished on 24000/60398 queries. users per second: 212857"
      ]
     },
     "metadata": {},
     "output_type": "display_data"
    },
    {
     "data": {
      "text/html": [
       "<pre>recommendations finished on 25000/60398 queries. users per second: 212050</pre>"
      ],
      "text/plain": [
       "recommendations finished on 25000/60398 queries. users per second: 212050"
      ]
     },
     "metadata": {},
     "output_type": "display_data"
    },
    {
     "data": {
      "text/html": [
       "<pre>recommendations finished on 26000/60398 queries. users per second: 205115</pre>"
      ],
      "text/plain": [
       "recommendations finished on 26000/60398 queries. users per second: 205115"
      ]
     },
     "metadata": {},
     "output_type": "display_data"
    },
    {
     "data": {
      "text/html": [
       "<pre>recommendations finished on 27000/60398 queries. users per second: 203772</pre>"
      ],
      "text/plain": [
       "recommendations finished on 27000/60398 queries. users per second: 203772"
      ]
     },
     "metadata": {},
     "output_type": "display_data"
    },
    {
     "data": {
      "text/html": [
       "<pre>recommendations finished on 28000/60398 queries. users per second: 205227</pre>"
      ],
      "text/plain": [
       "recommendations finished on 28000/60398 queries. users per second: 205227"
      ]
     },
     "metadata": {},
     "output_type": "display_data"
    },
    {
     "data": {
      "text/html": [
       "<pre>recommendations finished on 29000/60398 queries. users per second: 206619</pre>"
      ],
      "text/plain": [
       "recommendations finished on 29000/60398 queries. users per second: 206619"
      ]
     },
     "metadata": {},
     "output_type": "display_data"
    },
    {
     "data": {
      "text/html": [
       "<pre>recommendations finished on 30000/60398 queries. users per second: 202940</pre>"
      ],
      "text/plain": [
       "recommendations finished on 30000/60398 queries. users per second: 202940"
      ]
     },
     "metadata": {},
     "output_type": "display_data"
    },
    {
     "data": {
      "text/html": [
       "<pre>recommendations finished on 31000/60398 queries. users per second: 203431</pre>"
      ],
      "text/plain": [
       "recommendations finished on 31000/60398 queries. users per second: 203431"
      ]
     },
     "metadata": {},
     "output_type": "display_data"
    },
    {
     "data": {
      "text/html": [
       "<pre>recommendations finished on 32000/60398 queries. users per second: 205040</pre>"
      ],
      "text/plain": [
       "recommendations finished on 32000/60398 queries. users per second: 205040"
      ]
     },
     "metadata": {},
     "output_type": "display_data"
    },
    {
     "data": {
      "text/html": [
       "<pre>recommendations finished on 33000/60398 queries. users per second: 206854</pre>"
      ],
      "text/plain": [
       "recommendations finished on 33000/60398 queries. users per second: 206854"
      ]
     },
     "metadata": {},
     "output_type": "display_data"
    },
    {
     "data": {
      "text/html": [
       "<pre>recommendations finished on 34000/60398 queries. users per second: 207620</pre>"
      ],
      "text/plain": [
       "recommendations finished on 34000/60398 queries. users per second: 207620"
      ]
     },
     "metadata": {},
     "output_type": "display_data"
    },
    {
     "data": {
      "text/html": [
       "<pre>recommendations finished on 35000/60398 queries. users per second: 205263</pre>"
      ],
      "text/plain": [
       "recommendations finished on 35000/60398 queries. users per second: 205263"
      ]
     },
     "metadata": {},
     "output_type": "display_data"
    },
    {
     "data": {
      "text/html": [
       "<pre>recommendations finished on 36000/60398 queries. users per second: 206104</pre>"
      ],
      "text/plain": [
       "recommendations finished on 36000/60398 queries. users per second: 206104"
      ]
     },
     "metadata": {},
     "output_type": "display_data"
    },
    {
     "data": {
      "text/html": [
       "<pre>recommendations finished on 37000/60398 queries. users per second: 207292</pre>"
      ],
      "text/plain": [
       "recommendations finished on 37000/60398 queries. users per second: 207292"
      ]
     },
     "metadata": {},
     "output_type": "display_data"
    },
    {
     "data": {
      "text/html": [
       "<pre>recommendations finished on 38000/60398 queries. users per second: 206928</pre>"
      ],
      "text/plain": [
       "recommendations finished on 38000/60398 queries. users per second: 206928"
      ]
     },
     "metadata": {},
     "output_type": "display_data"
    },
    {
     "data": {
      "text/html": [
       "<pre>recommendations finished on 39000/60398 queries. users per second: 207952</pre>"
      ],
      "text/plain": [
       "recommendations finished on 39000/60398 queries. users per second: 207952"
      ]
     },
     "metadata": {},
     "output_type": "display_data"
    },
    {
     "data": {
      "text/html": [
       "<pre>recommendations finished on 40000/60398 queries. users per second: 209593</pre>"
      ],
      "text/plain": [
       "recommendations finished on 40000/60398 queries. users per second: 209593"
      ]
     },
     "metadata": {},
     "output_type": "display_data"
    },
    {
     "data": {
      "text/html": [
       "<pre>recommendations finished on 41000/60398 queries. users per second: 208612</pre>"
      ],
      "text/plain": [
       "recommendations finished on 41000/60398 queries. users per second: 208612"
      ]
     },
     "metadata": {},
     "output_type": "display_data"
    },
    {
     "data": {
      "text/html": [
       "<pre>recommendations finished on 42000/60398 queries. users per second: 208927</pre>"
      ],
      "text/plain": [
       "recommendations finished on 42000/60398 queries. users per second: 208927"
      ]
     },
     "metadata": {},
     "output_type": "display_data"
    },
    {
     "data": {
      "text/html": [
       "<pre>recommendations finished on 43000/60398 queries. users per second: 208087</pre>"
      ],
      "text/plain": [
       "recommendations finished on 43000/60398 queries. users per second: 208087"
      ]
     },
     "metadata": {},
     "output_type": "display_data"
    },
    {
     "data": {
      "text/html": [
       "<pre>recommendations finished on 44000/60398 queries. users per second: 206936</pre>"
      ],
      "text/plain": [
       "recommendations finished on 44000/60398 queries. users per second: 206936"
      ]
     },
     "metadata": {},
     "output_type": "display_data"
    },
    {
     "data": {
      "text/html": [
       "<pre>recommendations finished on 45000/60398 queries. users per second: 205876</pre>"
      ],
      "text/plain": [
       "recommendations finished on 45000/60398 queries. users per second: 205876"
      ]
     },
     "metadata": {},
     "output_type": "display_data"
    },
    {
     "data": {
      "text/html": [
       "<pre>recommendations finished on 46000/60398 queries. users per second: 203240</pre>"
      ],
      "text/plain": [
       "recommendations finished on 46000/60398 queries. users per second: 203240"
      ]
     },
     "metadata": {},
     "output_type": "display_data"
    },
    {
     "data": {
      "text/html": [
       "<pre>recommendations finished on 47000/60398 queries. users per second: 203869</pre>"
      ],
      "text/plain": [
       "recommendations finished on 47000/60398 queries. users per second: 203869"
      ]
     },
     "metadata": {},
     "output_type": "display_data"
    },
    {
     "data": {
      "text/html": [
       "<pre>recommendations finished on 48000/60398 queries. users per second: 205742</pre>"
      ],
      "text/plain": [
       "recommendations finished on 48000/60398 queries. users per second: 205742"
      ]
     },
     "metadata": {},
     "output_type": "display_data"
    },
    {
     "data": {
      "text/html": [
       "<pre>recommendations finished on 49000/60398 queries. users per second: 207598</pre>"
      ],
      "text/plain": [
       "recommendations finished on 49000/60398 queries. users per second: 207598"
      ]
     },
     "metadata": {},
     "output_type": "display_data"
    },
    {
     "data": {
      "text/html": [
       "<pre>recommendations finished on 50000/60398 queries. users per second: 208478</pre>"
      ],
      "text/plain": [
       "recommendations finished on 50000/60398 queries. users per second: 208478"
      ]
     },
     "metadata": {},
     "output_type": "display_data"
    },
    {
     "data": {
      "text/html": [
       "<pre>recommendations finished on 51000/60398 queries. users per second: 208464</pre>"
      ],
      "text/plain": [
       "recommendations finished on 51000/60398 queries. users per second: 208464"
      ]
     },
     "metadata": {},
     "output_type": "display_data"
    },
    {
     "data": {
      "text/html": [
       "<pre>recommendations finished on 52000/60398 queries. users per second: 208320</pre>"
      ],
      "text/plain": [
       "recommendations finished on 52000/60398 queries. users per second: 208320"
      ]
     },
     "metadata": {},
     "output_type": "display_data"
    },
    {
     "data": {
      "text/html": [
       "<pre>recommendations finished on 53000/60398 queries. users per second: 209654</pre>"
      ],
      "text/plain": [
       "recommendations finished on 53000/60398 queries. users per second: 209654"
      ]
     },
     "metadata": {},
     "output_type": "display_data"
    },
    {
     "data": {
      "text/html": [
       "<pre>recommendations finished on 54000/60398 queries. users per second: 211197</pre>"
      ],
      "text/plain": [
       "recommendations finished on 54000/60398 queries. users per second: 211197"
      ]
     },
     "metadata": {},
     "output_type": "display_data"
    },
    {
     "data": {
      "text/html": [
       "<pre>recommendations finished on 55000/60398 queries. users per second: 211425</pre>"
      ],
      "text/plain": [
       "recommendations finished on 55000/60398 queries. users per second: 211425"
      ]
     },
     "metadata": {},
     "output_type": "display_data"
    },
    {
     "data": {
      "text/html": [
       "<pre>recommendations finished on 56000/60398 queries. users per second: 211429</pre>"
      ],
      "text/plain": [
       "recommendations finished on 56000/60398 queries. users per second: 211429"
      ]
     },
     "metadata": {},
     "output_type": "display_data"
    },
    {
     "data": {
      "text/html": [
       "<pre>recommendations finished on 57000/60398 queries. users per second: 211275</pre>"
      ],
      "text/plain": [
       "recommendations finished on 57000/60398 queries. users per second: 211275"
      ]
     },
     "metadata": {},
     "output_type": "display_data"
    },
    {
     "data": {
      "text/html": [
       "<pre>recommendations finished on 58000/60398 queries. users per second: 209093</pre>"
      ],
      "text/plain": [
       "recommendations finished on 58000/60398 queries. users per second: 209093"
      ]
     },
     "metadata": {},
     "output_type": "display_data"
    },
    {
     "data": {
      "text/html": [
       "<pre>recommendations finished on 59000/60398 queries. users per second: 205759</pre>"
      ],
      "text/plain": [
       "recommendations finished on 59000/60398 queries. users per second: 205759"
      ]
     },
     "metadata": {},
     "output_type": "display_data"
    },
    {
     "data": {
      "text/html": [
       "<pre>recommendations finished on 60000/60398 queries. users per second: 200154</pre>"
      ],
      "text/plain": [
       "recommendations finished on 60000/60398 queries. users per second: 200154"
      ]
     },
     "metadata": {},
     "output_type": "display_data"
    },
    {
     "data": {
      "text/html": [
       "<pre>Warning: Ignoring columns SalesOrderLineNumber;</pre>"
      ],
      "text/plain": [
       "Warning: Ignoring columns SalesOrderLineNumber;"
      ]
     },
     "metadata": {},
     "output_type": "display_data"
    },
    {
     "data": {
      "text/html": [
       "<pre>    To use these columns in scoring predictions, use a model that allows the use of additional features.</pre>"
      ],
      "text/plain": [
       "    To use these columns in scoring predictions, use a model that allows the use of additional features."
      ]
     },
     "metadata": {},
     "output_type": "display_data"
    },
    {
     "data": {
      "text/html": [
       "<pre>Preparing data set.</pre>"
      ],
      "text/plain": [
       "Preparing data set."
      ]
     },
     "metadata": {},
     "output_type": "display_data"
    },
    {
     "data": {
      "text/html": [
       "<pre>    Data has 48318 observations with 17750 users and 158 items.</pre>"
      ],
      "text/plain": [
       "    Data has 48318 observations with 17750 users and 158 items."
      ]
     },
     "metadata": {},
     "output_type": "display_data"
    },
    {
     "data": {
      "text/html": [
       "<pre>    Data prepared in: 0.075149s</pre>"
      ],
      "text/plain": [
       "    Data prepared in: 0.075149s"
      ]
     },
     "metadata": {},
     "output_type": "display_data"
    },
    {
     "data": {
      "text/html": [
       "<pre>Training model from provided data.</pre>"
      ],
      "text/plain": [
       "Training model from provided data."
      ]
     },
     "metadata": {},
     "output_type": "display_data"
    },
    {
     "data": {
      "text/html": [
       "<pre>Gathering per-item and per-user statistics.</pre>"
      ],
      "text/plain": [
       "Gathering per-item and per-user statistics."
      ]
     },
     "metadata": {},
     "output_type": "display_data"
    },
    {
     "data": {
      "text/html": [
       "<pre>+--------------------------------+------------+</pre>"
      ],
      "text/plain": [
       "+--------------------------------+------------+"
      ]
     },
     "metadata": {},
     "output_type": "display_data"
    },
    {
     "data": {
      "text/html": [
       "<pre>| Elapsed Time (Item Statistics) | % Complete |</pre>"
      ],
      "text/plain": [
       "| Elapsed Time (Item Statistics) | % Complete |"
      ]
     },
     "metadata": {},
     "output_type": "display_data"
    },
    {
     "data": {
      "text/html": [
       "<pre>+--------------------------------+------------+</pre>"
      ],
      "text/plain": [
       "+--------------------------------+------------+"
      ]
     },
     "metadata": {},
     "output_type": "display_data"
    },
    {
     "data": {
      "text/html": [
       "<pre>| 7.806ms                        | 5.5        |</pre>"
      ],
      "text/plain": [
       "| 7.806ms                        | 5.5        |"
      ]
     },
     "metadata": {},
     "output_type": "display_data"
    },
    {
     "name": "stdout",
     "output_type": "stream",
     "text": [
      "+------------+-----------+----------------------+------+\n",
      "| CustomerID | ProductID |        score         | rank |\n",
      "+------------+-----------+----------------------+------+\n",
      "|   21768    |    376    |  0.0593295693397522  |  1   |\n",
      "|   21768    |    589    | 0.05913126468658447  |  2   |\n",
      "|   21768    |    374    | 0.05415302515029907  |  3   |\n",
      "|   21768    |    355    | 0.046544015407562256 |  4   |\n",
      "|   21768    |    479    |  0.0446280837059021  |  5   |\n",
      "|   21768    |    363    | 0.042894721031188965 |  6   |\n",
      "|   21768    |    477    | 0.042059242725372314 |  7   |\n",
      "|   21768    |    378    | 0.03936249017715454  |  8   |\n",
      "|   21768    |    359    | 0.03635001182556152  |  9   |\n",
      "|   21768    |    478    | 0.03458744287490845  |  10  |\n",
      "|   28389    |    561    | 0.06995230913162231  |  1   |\n",
      "|   28389    |    578    | 0.06789422035217285  |  2   |\n",
      "|   28389    |    564    | 0.06025433540344238  |  3   |\n",
      "|   28389    |    353    | 0.05345863103866577  |  4   |\n",
      "|   28389    |    359    | 0.05264979600906372  |  5   |\n",
      "|   28389    |    361    | 0.05233639478683472  |  6   |\n",
      "|   28389    |    573    | 0.04017174243927002  |  7   |\n",
      "|   28389    |    363    | 0.035047292709350586 |  8   |\n",
      "|   28389    |    562    | 0.029864072799682617 |  9   |\n",
      "|   28389    |    575    | 0.028418123722076416 |  10  |\n",
      "|   25863    |    478    |  0.1295885920524597  |  1   |\n",
      "|   25863    |    528    |  0.0818588137626648  |  2   |\n",
      "|   25863    |    537    | 0.08074740171432496  |  3   |\n",
      "|   25863    |    484    | 0.08007793426513672  |  4   |\n",
      "|   25863    |    225    | 0.06952106952667236  |  5   |\n",
      "|   25863    |    214    | 0.06927921772003173  |  6   |\n",
      "|   25863    |    530    | 0.06602805852890015  |  7   |\n",
      "|   25863    |    217    | 0.06475014686584472  |  8   |\n",
      "|   25863    |    541    | 0.06060030460357666  |  9   |\n",
      "|   25863    |    222    | 0.05504573583602905  |  10  |\n",
      "+------------+-----------+----------------------+------+\n",
      "[603980 rows x 4 columns]\n",
      "\n"
     ]
    },
    {
     "data": {
      "text/html": [
       "<pre>| 12.219ms                       | 100        |</pre>"
      ],
      "text/plain": [
       "| 12.219ms                       | 100        |"
      ]
     },
     "metadata": {},
     "output_type": "display_data"
    },
    {
     "data": {
      "text/html": [
       "<pre>+--------------------------------+------------+</pre>"
      ],
      "text/plain": [
       "+--------------------------------+------------+"
      ]
     },
     "metadata": {},
     "output_type": "display_data"
    }
   ],
   "source": [
    "#Using purchase dummy\n",
    "\n",
    "name = 'cosine'\n",
    "target = 'purchase_dummy'\n",
    "cos_dummy = model(train_data_dummy, name, user_id, item_id, target, users_to_recommend, n_rec, n_display)"
   ]
  },
  {
   "cell_type": "code",
   "execution_count": 18,
   "metadata": {},
   "outputs": [
    {
     "data": {
      "text/html": [
       "<pre>Setting up lookup tables.</pre>"
      ],
      "text/plain": [
       "Setting up lookup tables."
      ]
     },
     "metadata": {},
     "output_type": "display_data"
    },
    {
     "data": {
      "text/html": [
       "<pre>Processing data in one pass using dense lookup tables.</pre>"
      ],
      "text/plain": [
       "Processing data in one pass using dense lookup tables."
      ]
     },
     "metadata": {},
     "output_type": "display_data"
    },
    {
     "data": {
      "text/html": [
       "<pre>+-------------------------------------+------------------+-----------------+</pre>"
      ],
      "text/plain": [
       "+-------------------------------------+------------------+-----------------+"
      ]
     },
     "metadata": {},
     "output_type": "display_data"
    },
    {
     "data": {
      "text/html": [
       "<pre>| Elapsed Time (Constructing Lookups) | Total % Complete | Items Processed |</pre>"
      ],
      "text/plain": [
       "| Elapsed Time (Constructing Lookups) | Total % Complete | Items Processed |"
      ]
     },
     "metadata": {},
     "output_type": "display_data"
    },
    {
     "data": {
      "text/html": [
       "<pre>+-------------------------------------+------------------+-----------------+</pre>"
      ],
      "text/plain": [
       "+-------------------------------------+------------------+-----------------+"
      ]
     },
     "metadata": {},
     "output_type": "display_data"
    },
    {
     "data": {
      "text/html": [
       "<pre>| 13.906ms                            | 0                | 0               |</pre>"
      ],
      "text/plain": [
       "| 13.906ms                            | 0                | 0               |"
      ]
     },
     "metadata": {},
     "output_type": "display_data"
    },
    {
     "data": {
      "text/html": [
       "<pre>| 27.282ms                            | 100              | 158             |</pre>"
      ],
      "text/plain": [
       "| 27.282ms                            | 100              | 158             |"
      ]
     },
     "metadata": {},
     "output_type": "display_data"
    },
    {
     "data": {
      "text/html": [
       "<pre>+-------------------------------------+------------------+-----------------+</pre>"
      ],
      "text/plain": [
       "+-------------------------------------+------------------+-----------------+"
      ]
     },
     "metadata": {},
     "output_type": "display_data"
    },
    {
     "data": {
      "text/html": [
       "<pre>Finalizing lookup tables.</pre>"
      ],
      "text/plain": [
       "Finalizing lookup tables."
      ]
     },
     "metadata": {},
     "output_type": "display_data"
    },
    {
     "data": {
      "text/html": [
       "<pre>Generating candidate set for working with new users.</pre>"
      ],
      "text/plain": [
       "Generating candidate set for working with new users."
      ]
     },
     "metadata": {},
     "output_type": "display_data"
    },
    {
     "data": {
      "text/html": [
       "<pre>Finished training in 0.033253s</pre>"
      ],
      "text/plain": [
       "Finished training in 0.033253s"
      ]
     },
     "metadata": {},
     "output_type": "display_data"
    },
    {
     "data": {
      "text/html": [
       "<pre>recommendations finished on 1000/60398 queries. users per second: 44962</pre>"
      ],
      "text/plain": [
       "recommendations finished on 1000/60398 queries. users per second: 44962"
      ]
     },
     "metadata": {},
     "output_type": "display_data"
    },
    {
     "data": {
      "text/html": [
       "<pre>recommendations finished on 2000/60398 queries. users per second: 77035.7</pre>"
      ],
      "text/plain": [
       "recommendations finished on 2000/60398 queries. users per second: 77035.7"
      ]
     },
     "metadata": {},
     "output_type": "display_data"
    },
    {
     "data": {
      "text/html": [
       "<pre>recommendations finished on 3000/60398 queries. users per second: 81906.8</pre>"
      ],
      "text/plain": [
       "recommendations finished on 3000/60398 queries. users per second: 81906.8"
      ]
     },
     "metadata": {},
     "output_type": "display_data"
    },
    {
     "data": {
      "text/html": [
       "<pre>recommendations finished on 4000/60398 queries. users per second: 87575.3</pre>"
      ],
      "text/plain": [
       "recommendations finished on 4000/60398 queries. users per second: 87575.3"
      ]
     },
     "metadata": {},
     "output_type": "display_data"
    },
    {
     "data": {
      "text/html": [
       "<pre>recommendations finished on 5000/60398 queries. users per second: 100837</pre>"
      ],
      "text/plain": [
       "recommendations finished on 5000/60398 queries. users per second: 100837"
      ]
     },
     "metadata": {},
     "output_type": "display_data"
    },
    {
     "data": {
      "text/html": [
       "<pre>recommendations finished on 6000/60398 queries. users per second: 109254</pre>"
      ],
      "text/plain": [
       "recommendations finished on 6000/60398 queries. users per second: 109254"
      ]
     },
     "metadata": {},
     "output_type": "display_data"
    },
    {
     "data": {
      "text/html": [
       "<pre>recommendations finished on 7000/60398 queries. users per second: 113261</pre>"
      ],
      "text/plain": [
       "recommendations finished on 7000/60398 queries. users per second: 113261"
      ]
     },
     "metadata": {},
     "output_type": "display_data"
    },
    {
     "data": {
      "text/html": [
       "<pre>recommendations finished on 8000/60398 queries. users per second: 119558</pre>"
      ],
      "text/plain": [
       "recommendations finished on 8000/60398 queries. users per second: 119558"
      ]
     },
     "metadata": {},
     "output_type": "display_data"
    },
    {
     "data": {
      "text/html": [
       "<pre>recommendations finished on 9000/60398 queries. users per second: 127620</pre>"
      ],
      "text/plain": [
       "recommendations finished on 9000/60398 queries. users per second: 127620"
      ]
     },
     "metadata": {},
     "output_type": "display_data"
    },
    {
     "data": {
      "text/html": [
       "<pre>recommendations finished on 10000/60398 queries. users per second: 133668</pre>"
      ],
      "text/plain": [
       "recommendations finished on 10000/60398 queries. users per second: 133668"
      ]
     },
     "metadata": {},
     "output_type": "display_data"
    },
    {
     "data": {
      "text/html": [
       "<pre>recommendations finished on 11000/60398 queries. users per second: 137936</pre>"
      ],
      "text/plain": [
       "recommendations finished on 11000/60398 queries. users per second: 137936"
      ]
     },
     "metadata": {},
     "output_type": "display_data"
    },
    {
     "data": {
      "text/html": [
       "<pre>recommendations finished on 12000/60398 queries. users per second: 138147</pre>"
      ],
      "text/plain": [
       "recommendations finished on 12000/60398 queries. users per second: 138147"
      ]
     },
     "metadata": {},
     "output_type": "display_data"
    },
    {
     "data": {
      "text/html": [
       "<pre>recommendations finished on 13000/60398 queries. users per second: 142266</pre>"
      ],
      "text/plain": [
       "recommendations finished on 13000/60398 queries. users per second: 142266"
      ]
     },
     "metadata": {},
     "output_type": "display_data"
    },
    {
     "data": {
      "text/html": [
       "<pre>recommendations finished on 14000/60398 queries. users per second: 146643</pre>"
      ],
      "text/plain": [
       "recommendations finished on 14000/60398 queries. users per second: 146643"
      ]
     },
     "metadata": {},
     "output_type": "display_data"
    },
    {
     "data": {
      "text/html": [
       "<pre>recommendations finished on 15000/60398 queries. users per second: 151425</pre>"
      ],
      "text/plain": [
       "recommendations finished on 15000/60398 queries. users per second: 151425"
      ]
     },
     "metadata": {},
     "output_type": "display_data"
    },
    {
     "data": {
      "text/html": [
       "<pre>recommendations finished on 16000/60398 queries. users per second: 146664</pre>"
      ],
      "text/plain": [
       "recommendations finished on 16000/60398 queries. users per second: 146664"
      ]
     },
     "metadata": {},
     "output_type": "display_data"
    },
    {
     "data": {
      "text/html": [
       "<pre>recommendations finished on 17000/60398 queries. users per second: 147278</pre>"
      ],
      "text/plain": [
       "recommendations finished on 17000/60398 queries. users per second: 147278"
      ]
     },
     "metadata": {},
     "output_type": "display_data"
    },
    {
     "data": {
      "text/html": [
       "<pre>recommendations finished on 18000/60398 queries. users per second: 151118</pre>"
      ],
      "text/plain": [
       "recommendations finished on 18000/60398 queries. users per second: 151118"
      ]
     },
     "metadata": {},
     "output_type": "display_data"
    },
    {
     "data": {
      "text/html": [
       "<pre>recommendations finished on 19000/60398 queries. users per second: 154001</pre>"
      ],
      "text/plain": [
       "recommendations finished on 19000/60398 queries. users per second: 154001"
      ]
     },
     "metadata": {},
     "output_type": "display_data"
    },
    {
     "data": {
      "text/html": [
       "<pre>recommendations finished on 20000/60398 queries. users per second: 155932</pre>"
      ],
      "text/plain": [
       "recommendations finished on 20000/60398 queries. users per second: 155932"
      ]
     },
     "metadata": {},
     "output_type": "display_data"
    },
    {
     "data": {
      "text/html": [
       "<pre>recommendations finished on 21000/60398 queries. users per second: 155723</pre>"
      ],
      "text/plain": [
       "recommendations finished on 21000/60398 queries. users per second: 155723"
      ]
     },
     "metadata": {},
     "output_type": "display_data"
    },
    {
     "data": {
      "text/html": [
       "<pre>recommendations finished on 22000/60398 queries. users per second: 138182</pre>"
      ],
      "text/plain": [
       "recommendations finished on 22000/60398 queries. users per second: 138182"
      ]
     },
     "metadata": {},
     "output_type": "display_data"
    },
    {
     "data": {
      "text/html": [
       "<pre>recommendations finished on 23000/60398 queries. users per second: 135347</pre>"
      ],
      "text/plain": [
       "recommendations finished on 23000/60398 queries. users per second: 135347"
      ]
     },
     "metadata": {},
     "output_type": "display_data"
    },
    {
     "data": {
      "text/html": [
       "<pre>recommendations finished on 24000/60398 queries. users per second: 136312</pre>"
      ],
      "text/plain": [
       "recommendations finished on 24000/60398 queries. users per second: 136312"
      ]
     },
     "metadata": {},
     "output_type": "display_data"
    },
    {
     "data": {
      "text/html": [
       "<pre>recommendations finished on 25000/60398 queries. users per second: 136802</pre>"
      ],
      "text/plain": [
       "recommendations finished on 25000/60398 queries. users per second: 136802"
      ]
     },
     "metadata": {},
     "output_type": "display_data"
    },
    {
     "data": {
      "text/html": [
       "<pre>recommendations finished on 26000/60398 queries. users per second: 137680</pre>"
      ],
      "text/plain": [
       "recommendations finished on 26000/60398 queries. users per second: 137680"
      ]
     },
     "metadata": {},
     "output_type": "display_data"
    },
    {
     "data": {
      "text/html": [
       "<pre>recommendations finished on 27000/60398 queries. users per second: 136993</pre>"
      ],
      "text/plain": [
       "recommendations finished on 27000/60398 queries. users per second: 136993"
      ]
     },
     "metadata": {},
     "output_type": "display_data"
    },
    {
     "data": {
      "text/html": [
       "<pre>recommendations finished on 28000/60398 queries. users per second: 135431</pre>"
      ],
      "text/plain": [
       "recommendations finished on 28000/60398 queries. users per second: 135431"
      ]
     },
     "metadata": {},
     "output_type": "display_data"
    },
    {
     "data": {
      "text/html": [
       "<pre>recommendations finished on 29000/60398 queries. users per second: 130105</pre>"
      ],
      "text/plain": [
       "recommendations finished on 29000/60398 queries. users per second: 130105"
      ]
     },
     "metadata": {},
     "output_type": "display_data"
    },
    {
     "data": {
      "text/html": [
       "<pre>recommendations finished on 30000/60398 queries. users per second: 130586</pre>"
      ],
      "text/plain": [
       "recommendations finished on 30000/60398 queries. users per second: 130586"
      ]
     },
     "metadata": {},
     "output_type": "display_data"
    },
    {
     "data": {
      "text/html": [
       "<pre>recommendations finished on 31000/60398 queries. users per second: 131004</pre>"
      ],
      "text/plain": [
       "recommendations finished on 31000/60398 queries. users per second: 131004"
      ]
     },
     "metadata": {},
     "output_type": "display_data"
    },
    {
     "data": {
      "text/html": [
       "<pre>recommendations finished on 32000/60398 queries. users per second: 131238</pre>"
      ],
      "text/plain": [
       "recommendations finished on 32000/60398 queries. users per second: 131238"
      ]
     },
     "metadata": {},
     "output_type": "display_data"
    },
    {
     "data": {
      "text/html": [
       "<pre>recommendations finished on 33000/60398 queries. users per second: 131982</pre>"
      ],
      "text/plain": [
       "recommendations finished on 33000/60398 queries. users per second: 131982"
      ]
     },
     "metadata": {},
     "output_type": "display_data"
    },
    {
     "data": {
      "text/html": [
       "<pre>recommendations finished on 34000/60398 queries. users per second: 133707</pre>"
      ],
      "text/plain": [
       "recommendations finished on 34000/60398 queries. users per second: 133707"
      ]
     },
     "metadata": {},
     "output_type": "display_data"
    },
    {
     "data": {
      "text/html": [
       "<pre>recommendations finished on 35000/60398 queries. users per second: 135534</pre>"
      ],
      "text/plain": [
       "recommendations finished on 35000/60398 queries. users per second: 135534"
      ]
     },
     "metadata": {},
     "output_type": "display_data"
    },
    {
     "data": {
      "text/html": [
       "<pre>recommendations finished on 36000/60398 queries. users per second: 136024</pre>"
      ],
      "text/plain": [
       "recommendations finished on 36000/60398 queries. users per second: 136024"
      ]
     },
     "metadata": {},
     "output_type": "display_data"
    },
    {
     "data": {
      "text/html": [
       "<pre>recommendations finished on 37000/60398 queries. users per second: 137257</pre>"
      ],
      "text/plain": [
       "recommendations finished on 37000/60398 queries. users per second: 137257"
      ]
     },
     "metadata": {},
     "output_type": "display_data"
    },
    {
     "name": "stdout",
     "output_type": "stream",
     "text": [
      "+------------+-----------+----------------------+------+\n",
      "| CustomerID | ProductID |        score         | rank |\n",
      "+------------+-----------+----------------------+------+\n",
      "|   21768    |    477    | 0.020104310512542724 |  1   |\n",
      "|   21768    |    528    | 0.014780306816101074 |  2   |\n",
      "|   21768    |    478    | 0.014596302509307862 |  3   |\n",
      "|   21768    |    485    | 0.014309172630310058 |  4   |\n",
      "|   21768    |    225    | 0.013090128898620606 |  5   |\n",
      "|   21768    |    480    | 0.01250722885131836  |  6   |\n",
      "|   21768    |    479    | 0.01226273775100708  |  7   |\n",
      "|   21768    |    222    | 0.01191109538078308  |  8   |\n",
      "|   21768    |    214    | 0.011861095428466797 |  9   |\n",
      "|   21768    |    217    | 0.011659750938415528 |  10  |\n",
      "|   28389    |    477    | 0.020104310512542724 |  1   |\n",
      "|   28389    |    528    | 0.014780306816101074 |  2   |\n",
      "|   28389    |    478    | 0.014596302509307862 |  3   |\n",
      "|   28389    |    485    | 0.014309172630310058 |  4   |\n",
      "|   28389    |    225    | 0.013090128898620606 |  5   |\n",
      "|   28389    |    480    | 0.01250722885131836  |  6   |\n",
      "|   28389    |    479    | 0.01226273775100708  |  7   |\n",
      "|   28389    |    222    | 0.01191109538078308  |  8   |\n",
      "|   28389    |    214    | 0.011861095428466797 |  9   |\n",
      "|   28389    |    217    | 0.011659750938415528 |  10  |\n",
      "|   25863    |    477    | 0.08017146587371826  |  1   |\n",
      "|   25863    |    484    | 0.04207183917363485  |  2   |\n",
      "|   25863    |    528    | 0.038598318894704185 |  3   |\n",
      "|   25863    |    537    | 0.03330520788828532  |  4   |\n",
      "|   25863    |    225    | 0.030137260754903156 |  5   |\n",
      "|   25863    |    529    | 0.029197593530019123 |  6   |\n",
      "|   25863    |    530    | 0.02740854024887085  |  7   |\n",
      "|   25863    |    541    | 0.02641451358795166  |  8   |\n",
      "|   25863    |    222    | 0.02346670627593994  |  9   |\n",
      "|   25863    |    214    | 0.023375074068705242 |  10  |\n",
      "+------------+-----------+----------------------+------+\n",
      "[603980 rows x 4 columns]\n",
      "\n"
     ]
    },
    {
     "data": {
      "text/html": [
       "<pre>recommendations finished on 38000/60398 queries. users per second: 137379</pre>"
      ],
      "text/plain": [
       "recommendations finished on 38000/60398 queries. users per second: 137379"
      ]
     },
     "metadata": {},
     "output_type": "display_data"
    },
    {
     "data": {
      "text/html": [
       "<pre>recommendations finished on 39000/60398 queries. users per second: 134761</pre>"
      ],
      "text/plain": [
       "recommendations finished on 39000/60398 queries. users per second: 134761"
      ]
     },
     "metadata": {},
     "output_type": "display_data"
    },
    {
     "data": {
      "text/html": [
       "<pre>recommendations finished on 40000/60398 queries. users per second: 134139</pre>"
      ],
      "text/plain": [
       "recommendations finished on 40000/60398 queries. users per second: 134139"
      ]
     },
     "metadata": {},
     "output_type": "display_data"
    }
   ],
   "source": [
    "#Using scaled_purchase_freq\n",
    "\n",
    "name = 'cosine' \n",
    "target = 'scaled_purchase_freq' \n",
    "cos_norm = model(train_data_norm, name, user_id, item_id, target, users_to_recommend, n_rec, n_display)"
   ]
  },
  {
   "cell_type": "markdown",
   "metadata": {},
   "source": [
    "# Pearson similarity"
   ]
  },
  {
   "cell_type": "code",
   "execution_count": 19,
   "metadata": {},
   "outputs": [
    {
     "data": {
      "text/html": [
       "<pre>recommendations finished on 41000/60398 queries. users per second: 135081</pre>"
      ],
      "text/plain": [
       "recommendations finished on 41000/60398 queries. users per second: 135081"
      ]
     },
     "metadata": {},
     "output_type": "display_data"
    },
    {
     "data": {
      "text/html": [
       "<pre>recommendations finished on 42000/60398 queries. users per second: 135833</pre>"
      ],
      "text/plain": [
       "recommendations finished on 42000/60398 queries. users per second: 135833"
      ]
     },
     "metadata": {},
     "output_type": "display_data"
    },
    {
     "data": {
      "text/html": [
       "<pre>recommendations finished on 43000/60398 queries. users per second: 136598</pre>"
      ],
      "text/plain": [
       "recommendations finished on 43000/60398 queries. users per second: 136598"
      ]
     },
     "metadata": {},
     "output_type": "display_data"
    },
    {
     "data": {
      "text/html": [
       "<pre>recommendations finished on 44000/60398 queries. users per second: 137307</pre>"
      ],
      "text/plain": [
       "recommendations finished on 44000/60398 queries. users per second: 137307"
      ]
     },
     "metadata": {},
     "output_type": "display_data"
    },
    {
     "data": {
      "text/html": [
       "<pre>recommendations finished on 45000/60398 queries. users per second: 137405</pre>"
      ],
      "text/plain": [
       "recommendations finished on 45000/60398 queries. users per second: 137405"
      ]
     },
     "metadata": {},
     "output_type": "display_data"
    },
    {
     "data": {
      "text/html": [
       "<pre>recommendations finished on 46000/60398 queries. users per second: 137309</pre>"
      ],
      "text/plain": [
       "recommendations finished on 46000/60398 queries. users per second: 137309"
      ]
     },
     "metadata": {},
     "output_type": "display_data"
    },
    {
     "data": {
      "text/html": [
       "<pre>recommendations finished on 47000/60398 queries. users per second: 137670</pre>"
      ],
      "text/plain": [
       "recommendations finished on 47000/60398 queries. users per second: 137670"
      ]
     },
     "metadata": {},
     "output_type": "display_data"
    },
    {
     "data": {
      "text/html": [
       "<pre>recommendations finished on 48000/60398 queries. users per second: 138433</pre>"
      ],
      "text/plain": [
       "recommendations finished on 48000/60398 queries. users per second: 138433"
      ]
     },
     "metadata": {},
     "output_type": "display_data"
    },
    {
     "data": {
      "text/html": [
       "<pre>recommendations finished on 49000/60398 queries. users per second: 138800</pre>"
      ],
      "text/plain": [
       "recommendations finished on 49000/60398 queries. users per second: 138800"
      ]
     },
     "metadata": {},
     "output_type": "display_data"
    },
    {
     "data": {
      "text/html": [
       "<pre>recommendations finished on 50000/60398 queries. users per second: 139301</pre>"
      ],
      "text/plain": [
       "recommendations finished on 50000/60398 queries. users per second: 139301"
      ]
     },
     "metadata": {},
     "output_type": "display_data"
    },
    {
     "data": {
      "text/html": [
       "<pre>recommendations finished on 51000/60398 queries. users per second: 137530</pre>"
      ],
      "text/plain": [
       "recommendations finished on 51000/60398 queries. users per second: 137530"
      ]
     },
     "metadata": {},
     "output_type": "display_data"
    },
    {
     "data": {
      "text/html": [
       "<pre>recommendations finished on 52000/60398 queries. users per second: 136420</pre>"
      ],
      "text/plain": [
       "recommendations finished on 52000/60398 queries. users per second: 136420"
      ]
     },
     "metadata": {},
     "output_type": "display_data"
    },
    {
     "data": {
      "text/html": [
       "<pre>recommendations finished on 53000/60398 queries. users per second: 136256</pre>"
      ],
      "text/plain": [
       "recommendations finished on 53000/60398 queries. users per second: 136256"
      ]
     },
     "metadata": {},
     "output_type": "display_data"
    },
    {
     "data": {
      "text/html": [
       "<pre>recommendations finished on 54000/60398 queries. users per second: 136375</pre>"
      ],
      "text/plain": [
       "recommendations finished on 54000/60398 queries. users per second: 136375"
      ]
     },
     "metadata": {},
     "output_type": "display_data"
    },
    {
     "data": {
      "text/html": [
       "<pre>recommendations finished on 55000/60398 queries. users per second: 137041</pre>"
      ],
      "text/plain": [
       "recommendations finished on 55000/60398 queries. users per second: 137041"
      ]
     },
     "metadata": {},
     "output_type": "display_data"
    },
    {
     "data": {
      "text/html": [
       "<pre>recommendations finished on 56000/60398 queries. users per second: 135405</pre>"
      ],
      "text/plain": [
       "recommendations finished on 56000/60398 queries. users per second: 135405"
      ]
     },
     "metadata": {},
     "output_type": "display_data"
    },
    {
     "data": {
      "text/html": [
       "<pre>recommendations finished on 57000/60398 queries. users per second: 135944</pre>"
      ],
      "text/plain": [
       "recommendations finished on 57000/60398 queries. users per second: 135944"
      ]
     },
     "metadata": {},
     "output_type": "display_data"
    },
    {
     "data": {
      "text/html": [
       "<pre>recommendations finished on 58000/60398 queries. users per second: 135657</pre>"
      ],
      "text/plain": [
       "recommendations finished on 58000/60398 queries. users per second: 135657"
      ]
     },
     "metadata": {},
     "output_type": "display_data"
    },
    {
     "data": {
      "text/html": [
       "<pre>recommendations finished on 59000/60398 queries. users per second: 132625</pre>"
      ],
      "text/plain": [
       "recommendations finished on 59000/60398 queries. users per second: 132625"
      ]
     },
     "metadata": {},
     "output_type": "display_data"
    },
    {
     "data": {
      "text/html": [
       "<pre>recommendations finished on 60000/60398 queries. users per second: 129679</pre>"
      ],
      "text/plain": [
       "recommendations finished on 60000/60398 queries. users per second: 129679"
      ]
     },
     "metadata": {},
     "output_type": "display_data"
    },
    {
     "data": {
      "text/html": [
       "<pre>Preparing data set.</pre>"
      ],
      "text/plain": [
       "Preparing data set."
      ]
     },
     "metadata": {},
     "output_type": "display_data"
    },
    {
     "data": {
      "text/html": [
       "<pre>    Data has 38512 observations with 16518 users and 73 items.</pre>"
      ],
      "text/plain": [
       "    Data has 38512 observations with 16518 users and 73 items."
      ]
     },
     "metadata": {},
     "output_type": "display_data"
    },
    {
     "data": {
      "text/html": [
       "<pre>    Data prepared in: 0.069593s</pre>"
      ],
      "text/plain": [
       "    Data prepared in: 0.069593s"
      ]
     },
     "metadata": {},
     "output_type": "display_data"
    },
    {
     "data": {
      "text/html": [
       "<pre>Training model from provided data.</pre>"
      ],
      "text/plain": [
       "Training model from provided data."
      ]
     },
     "metadata": {},
     "output_type": "display_data"
    },
    {
     "data": {
      "text/html": [
       "<pre>Gathering per-item and per-user statistics.</pre>"
      ],
      "text/plain": [
       "Gathering per-item and per-user statistics."
      ]
     },
     "metadata": {},
     "output_type": "display_data"
    },
    {
     "data": {
      "text/html": [
       "<pre>+--------------------------------+------------+</pre>"
      ],
      "text/plain": [
       "+--------------------------------+------------+"
      ]
     },
     "metadata": {},
     "output_type": "display_data"
    },
    {
     "data": {
      "text/html": [
       "<pre>| Elapsed Time (Item Statistics) | % Complete |</pre>"
      ],
      "text/plain": [
       "| Elapsed Time (Item Statistics) | % Complete |"
      ]
     },
     "metadata": {},
     "output_type": "display_data"
    },
    {
     "data": {
      "text/html": [
       "<pre>+--------------------------------+------------+</pre>"
      ],
      "text/plain": [
       "+--------------------------------+------------+"
      ]
     },
     "metadata": {},
     "output_type": "display_data"
    },
    {
     "data": {
      "text/html": [
       "<pre>| 1.17ms                         | 6          |</pre>"
      ],
      "text/plain": [
       "| 1.17ms                         | 6          |"
      ]
     },
     "metadata": {},
     "output_type": "display_data"
    },
    {
     "data": {
      "text/html": [
       "<pre>| 3.979ms                        | 100        |</pre>"
      ],
      "text/plain": [
       "| 3.979ms                        | 100        |"
      ]
     },
     "metadata": {},
     "output_type": "display_data"
    },
    {
     "data": {
      "text/html": [
       "<pre>+--------------------------------+------------+</pre>"
      ],
      "text/plain": [
       "+--------------------------------+------------+"
      ]
     },
     "metadata": {},
     "output_type": "display_data"
    },
    {
     "data": {
      "text/html": [
       "<pre>Setting up lookup tables.</pre>"
      ],
      "text/plain": [
       "Setting up lookup tables."
      ]
     },
     "metadata": {},
     "output_type": "display_data"
    },
    {
     "data": {
      "text/html": [
       "<pre>Processing data in one pass using dense lookup tables.</pre>"
      ],
      "text/plain": [
       "Processing data in one pass using dense lookup tables."
      ]
     },
     "metadata": {},
     "output_type": "display_data"
    },
    {
     "data": {
      "text/html": [
       "<pre>+-------------------------------------+------------------+-----------------+</pre>"
      ],
      "text/plain": [
       "+-------------------------------------+------------------+-----------------+"
      ]
     },
     "metadata": {},
     "output_type": "display_data"
    },
    {
     "data": {
      "text/html": [
       "<pre>| Elapsed Time (Constructing Lookups) | Total % Complete | Items Processed |</pre>"
      ],
      "text/plain": [
       "| Elapsed Time (Constructing Lookups) | Total % Complete | Items Processed |"
      ]
     },
     "metadata": {},
     "output_type": "display_data"
    },
    {
     "data": {
      "text/html": [
       "<pre>+-------------------------------------+------------------+-----------------+</pre>"
      ],
      "text/plain": [
       "+-------------------------------------+------------------+-----------------+"
      ]
     },
     "metadata": {},
     "output_type": "display_data"
    },
    {
     "data": {
      "text/html": [
       "<pre>| 5.585ms                             | 0                | 0               |</pre>"
      ],
      "text/plain": [
       "| 5.585ms                             | 0                | 0               |"
      ]
     },
     "metadata": {},
     "output_type": "display_data"
    },
    {
     "data": {
      "text/html": [
       "<pre>| 14.149ms                            | 100              | 73              |</pre>"
      ],
      "text/plain": [
       "| 14.149ms                            | 100              | 73              |"
      ]
     },
     "metadata": {},
     "output_type": "display_data"
    },
    {
     "data": {
      "text/html": [
       "<pre>+-------------------------------------+------------------+-----------------+</pre>"
      ],
      "text/plain": [
       "+-------------------------------------+------------------+-----------------+"
      ]
     },
     "metadata": {},
     "output_type": "display_data"
    },
    {
     "data": {
      "text/html": [
       "<pre>Finalizing lookup tables.</pre>"
      ],
      "text/plain": [
       "Finalizing lookup tables."
      ]
     },
     "metadata": {},
     "output_type": "display_data"
    },
    {
     "data": {
      "text/html": [
       "<pre>Generating candidate set for working with new users.</pre>"
      ],
      "text/plain": [
       "Generating candidate set for working with new users."
      ]
     },
     "metadata": {},
     "output_type": "display_data"
    },
    {
     "data": {
      "text/html": [
       "<pre>Finished training in 0.02347s</pre>"
      ],
      "text/plain": [
       "Finished training in 0.02347s"
      ]
     },
     "metadata": {},
     "output_type": "display_data"
    },
    {
     "data": {
      "text/html": [
       "<pre>recommendations finished on 1000/60398 queries. users per second: 58258.1</pre>"
      ],
      "text/plain": [
       "recommendations finished on 1000/60398 queries. users per second: 58258.1"
      ]
     },
     "metadata": {},
     "output_type": "display_data"
    },
    {
     "data": {
      "text/html": [
       "<pre>recommendations finished on 2000/60398 queries. users per second: 87359.1</pre>"
      ],
      "text/plain": [
       "recommendations finished on 2000/60398 queries. users per second: 87359.1"
      ]
     },
     "metadata": {},
     "output_type": "display_data"
    },
    {
     "data": {
      "text/html": [
       "<pre>recommendations finished on 3000/60398 queries. users per second: 109898</pre>"
      ],
      "text/plain": [
       "recommendations finished on 3000/60398 queries. users per second: 109898"
      ]
     },
     "metadata": {},
     "output_type": "display_data"
    },
    {
     "data": {
      "text/html": [
       "<pre>recommendations finished on 4000/60398 queries. users per second: 130984</pre>"
      ],
      "text/plain": [
       "recommendations finished on 4000/60398 queries. users per second: 130984"
      ]
     },
     "metadata": {},
     "output_type": "display_data"
    },
    {
     "data": {
      "text/html": [
       "<pre>recommendations finished on 5000/60398 queries. users per second: 144970</pre>"
      ],
      "text/plain": [
       "recommendations finished on 5000/60398 queries. users per second: 144970"
      ]
     },
     "metadata": {},
     "output_type": "display_data"
    },
    {
     "data": {
      "text/html": [
       "<pre>recommendations finished on 6000/60398 queries. users per second: 149098</pre>"
      ],
      "text/plain": [
       "recommendations finished on 6000/60398 queries. users per second: 149098"
      ]
     },
     "metadata": {},
     "output_type": "display_data"
    },
    {
     "data": {
      "text/html": [
       "<pre>recommendations finished on 7000/60398 queries. users per second: 151492</pre>"
      ],
      "text/plain": [
       "recommendations finished on 7000/60398 queries. users per second: 151492"
      ]
     },
     "metadata": {},
     "output_type": "display_data"
    },
    {
     "data": {
      "text/html": [
       "<pre>recommendations finished on 8000/60398 queries. users per second: 160507</pre>"
      ],
      "text/plain": [
       "recommendations finished on 8000/60398 queries. users per second: 160507"
      ]
     },
     "metadata": {},
     "output_type": "display_data"
    },
    {
     "data": {
      "text/html": [
       "<pre>recommendations finished on 9000/60398 queries. users per second: 168919</pre>"
      ],
      "text/plain": [
       "recommendations finished on 9000/60398 queries. users per second: 168919"
      ]
     },
     "metadata": {},
     "output_type": "display_data"
    },
    {
     "data": {
      "text/html": [
       "<pre>recommendations finished on 10000/60398 queries. users per second: 175704</pre>"
      ],
      "text/plain": [
       "recommendations finished on 10000/60398 queries. users per second: 175704"
      ]
     },
     "metadata": {},
     "output_type": "display_data"
    },
    {
     "data": {
      "text/html": [
       "<pre>recommendations finished on 11000/60398 queries. users per second: 182879</pre>"
      ],
      "text/plain": [
       "recommendations finished on 11000/60398 queries. users per second: 182879"
      ]
     },
     "metadata": {},
     "output_type": "display_data"
    },
    {
     "data": {
      "text/html": [
       "<pre>recommendations finished on 12000/60398 queries. users per second: 186237</pre>"
      ],
      "text/plain": [
       "recommendations finished on 12000/60398 queries. users per second: 186237"
      ]
     },
     "metadata": {},
     "output_type": "display_data"
    },
    {
     "data": {
      "text/html": [
       "<pre>recommendations finished on 13000/60398 queries. users per second: 186073</pre>"
      ],
      "text/plain": [
       "recommendations finished on 13000/60398 queries. users per second: 186073"
      ]
     },
     "metadata": {},
     "output_type": "display_data"
    },
    {
     "data": {
      "text/html": [
       "<pre>recommendations finished on 14000/60398 queries. users per second: 190655</pre>"
      ],
      "text/plain": [
       "recommendations finished on 14000/60398 queries. users per second: 190655"
      ]
     },
     "metadata": {},
     "output_type": "display_data"
    },
    {
     "data": {
      "text/html": [
       "<pre>recommendations finished on 15000/60398 queries. users per second: 189713</pre>"
      ],
      "text/plain": [
       "recommendations finished on 15000/60398 queries. users per second: 189713"
      ]
     },
     "metadata": {},
     "output_type": "display_data"
    },
    {
     "data": {
      "text/html": [
       "<pre>recommendations finished on 16000/60398 queries. users per second: 190320</pre>"
      ],
      "text/plain": [
       "recommendations finished on 16000/60398 queries. users per second: 190320"
      ]
     },
     "metadata": {},
     "output_type": "display_data"
    },
    {
     "data": {
      "text/html": [
       "<pre>recommendations finished on 17000/60398 queries. users per second: 193149</pre>"
      ],
      "text/plain": [
       "recommendations finished on 17000/60398 queries. users per second: 193149"
      ]
     },
     "metadata": {},
     "output_type": "display_data"
    },
    {
     "data": {
      "text/html": [
       "<pre>recommendations finished on 18000/60398 queries. users per second: 197674</pre>"
      ],
      "text/plain": [
       "recommendations finished on 18000/60398 queries. users per second: 197674"
      ]
     },
     "metadata": {},
     "output_type": "display_data"
    },
    {
     "data": {
      "text/html": [
       "<pre>recommendations finished on 19000/60398 queries. users per second: 198888</pre>"
      ],
      "text/plain": [
       "recommendations finished on 19000/60398 queries. users per second: 198888"
      ]
     },
     "metadata": {},
     "output_type": "display_data"
    },
    {
     "data": {
      "text/html": [
       "<pre>recommendations finished on 20000/60398 queries. users per second: 203200</pre>"
      ],
      "text/plain": [
       "recommendations finished on 20000/60398 queries. users per second: 203200"
      ]
     },
     "metadata": {},
     "output_type": "display_data"
    },
    {
     "name": "stdout",
     "output_type": "stream",
     "text": [
      "+------------+-----------+--------------------+------+\n",
      "| CustomerID | ProductID |       score        | rank |\n",
      "+------------+-----------+--------------------+------+\n",
      "|   21768    |    467    | 3.1560278710306684 |  1   |\n",
      "|   21768    |    463    | 3.127483262110003  |  2   |\n",
      "|   21768    |    486    | 3.0531033750059735 |  3   |\n",
      "|   21768    |    465    | 3.050231807089916  |  4   |\n",
      "|   21768    |    484    | 2.9639285220002103 |  5   |\n",
      "|   21768    |    471    | 2.8834866300354816 |  6   |\n",
      "|   21768    |    487    | 2.8418709167901146 |  7   |\n",
      "|   21768    |    473    | 2.800920144782705  |  8   |\n",
      "|   21768    |    228    | 2.7768221353115967 |  9   |\n",
      "|   21768    |    234    | 2.7459514340707805 |  10  |\n",
      "|   28389    |    467    | 3.1560278710306684 |  1   |\n",
      "|   28389    |    463    | 3.127483262110003  |  2   |\n",
      "|   28389    |    486    | 3.0531033750059735 |  3   |\n",
      "|   28389    |    465    | 3.050231807089916  |  4   |\n",
      "|   28389    |    484    | 2.9639285220002103 |  5   |\n",
      "|   28389    |    471    | 2.8834866300354816 |  6   |\n",
      "|   28389    |    487    | 2.8418709167901146 |  7   |\n",
      "|   28389    |    473    | 2.800920144782705  |  8   |\n",
      "|   28389    |    228    | 2.7768221353115967 |  9   |\n",
      "|   28389    |    234    | 2.7459514340707805 |  10  |\n",
      "|   25863    |    467    | 3.1730383738459147 |  1   |\n",
      "|   25863    |    463    | 3.149209959793337  |  2   |\n",
      "|   25863    |    486    | 3.099281062650932  |  3   |\n",
      "|   25863    |    465    | 3.075800653554073  |  4   |\n",
      "|   25863    |    484    | 3.016664465794461  |  5   |\n",
      "|   25863    |    471    | 2.8923116305600023 |  6   |\n",
      "|   25863    |    487    | 2.8636925122204886 |  7   |\n",
      "|   25863    |    473    | 2.809030541644735  |  8   |\n",
      "|   25863    |    228    |  2.79255993114137  |  9   |\n",
      "|   25863    |    234    | 2.7644183334657693 |  10  |\n",
      "+------------+-----------+--------------------+------+\n",
      "[603980 rows x 4 columns]\n",
      "\n"
     ]
    },
    {
     "data": {
      "text/html": [
       "<pre>recommendations finished on 21000/60398 queries. users per second: 205098</pre>"
      ],
      "text/plain": [
       "recommendations finished on 21000/60398 queries. users per second: 205098"
      ]
     },
     "metadata": {},
     "output_type": "display_data"
    },
    {
     "data": {
      "text/html": [
       "<pre>recommendations finished on 22000/60398 queries. users per second: 206319</pre>"
      ],
      "text/plain": [
       "recommendations finished on 22000/60398 queries. users per second: 206319"
      ]
     },
     "metadata": {},
     "output_type": "display_data"
    },
    {
     "data": {
      "text/html": [
       "<pre>recommendations finished on 23000/60398 queries. users per second: 205320</pre>"
      ],
      "text/plain": [
       "recommendations finished on 23000/60398 queries. users per second: 205320"
      ]
     },
     "metadata": {},
     "output_type": "display_data"
    }
   ],
   "source": [
    "#Using SalesOrderLineNumber\n",
    "\n",
    "name = 'pearson'\n",
    "target = 'SalesOrderLineNumber'\n",
    "pear = model(train_data, name, user_id, item_id, target, users_to_recommend, n_rec, n_display)"
   ]
  },
  {
   "cell_type": "code",
   "execution_count": 20,
   "metadata": {},
   "outputs": [
    {
     "data": {
      "text/html": [
       "<pre>recommendations finished on 24000/60398 queries. users per second: 207916</pre>"
      ],
      "text/plain": [
       "recommendations finished on 24000/60398 queries. users per second: 207916"
      ]
     },
     "metadata": {},
     "output_type": "display_data"
    },
    {
     "data": {
      "text/html": [
       "<pre>recommendations finished on 25000/60398 queries. users per second: 204345</pre>"
      ],
      "text/plain": [
       "recommendations finished on 25000/60398 queries. users per second: 204345"
      ]
     },
     "metadata": {},
     "output_type": "display_data"
    },
    {
     "data": {
      "text/html": [
       "<pre>recommendations finished on 26000/60398 queries. users per second: 205796</pre>"
      ],
      "text/plain": [
       "recommendations finished on 26000/60398 queries. users per second: 205796"
      ]
     },
     "metadata": {},
     "output_type": "display_data"
    },
    {
     "data": {
      "text/html": [
       "<pre>recommendations finished on 27000/60398 queries. users per second: 208147</pre>"
      ],
      "text/plain": [
       "recommendations finished on 27000/60398 queries. users per second: 208147"
      ]
     },
     "metadata": {},
     "output_type": "display_data"
    },
    {
     "data": {
      "text/html": [
       "<pre>recommendations finished on 28000/60398 queries. users per second: 210163</pre>"
      ],
      "text/plain": [
       "recommendations finished on 28000/60398 queries. users per second: 210163"
      ]
     },
     "metadata": {},
     "output_type": "display_data"
    },
    {
     "data": {
      "text/html": [
       "<pre>recommendations finished on 29000/60398 queries. users per second: 213358</pre>"
      ],
      "text/plain": [
       "recommendations finished on 29000/60398 queries. users per second: 213358"
      ]
     },
     "metadata": {},
     "output_type": "display_data"
    },
    {
     "data": {
      "text/html": [
       "<pre>recommendations finished on 30000/60398 queries. users per second: 216032</pre>"
      ],
      "text/plain": [
       "recommendations finished on 30000/60398 queries. users per second: 216032"
      ]
     },
     "metadata": {},
     "output_type": "display_data"
    },
    {
     "data": {
      "text/html": [
       "<pre>recommendations finished on 31000/60398 queries. users per second: 212368</pre>"
      ],
      "text/plain": [
       "recommendations finished on 31000/60398 queries. users per second: 212368"
      ]
     },
     "metadata": {},
     "output_type": "display_data"
    },
    {
     "data": {
      "text/html": [
       "<pre>recommendations finished on 32000/60398 queries. users per second: 212862</pre>"
      ],
      "text/plain": [
       "recommendations finished on 32000/60398 queries. users per second: 212862"
      ]
     },
     "metadata": {},
     "output_type": "display_data"
    },
    {
     "data": {
      "text/html": [
       "<pre>recommendations finished on 33000/60398 queries. users per second: 213384</pre>"
      ],
      "text/plain": [
       "recommendations finished on 33000/60398 queries. users per second: 213384"
      ]
     },
     "metadata": {},
     "output_type": "display_data"
    },
    {
     "data": {
      "text/html": [
       "<pre>recommendations finished on 34000/60398 queries. users per second: 215502</pre>"
      ],
      "text/plain": [
       "recommendations finished on 34000/60398 queries. users per second: 215502"
      ]
     },
     "metadata": {},
     "output_type": "display_data"
    },
    {
     "data": {
      "text/html": [
       "<pre>recommendations finished on 35000/60398 queries. users per second: 217878</pre>"
      ],
      "text/plain": [
       "recommendations finished on 35000/60398 queries. users per second: 217878"
      ]
     },
     "metadata": {},
     "output_type": "display_data"
    },
    {
     "data": {
      "text/html": [
       "<pre>recommendations finished on 36000/60398 queries. users per second: 219448</pre>"
      ],
      "text/plain": [
       "recommendations finished on 36000/60398 queries. users per second: 219448"
      ]
     },
     "metadata": {},
     "output_type": "display_data"
    },
    {
     "data": {
      "text/html": [
       "<pre>recommendations finished on 37000/60398 queries. users per second: 219903</pre>"
      ],
      "text/plain": [
       "recommendations finished on 37000/60398 queries. users per second: 219903"
      ]
     },
     "metadata": {},
     "output_type": "display_data"
    },
    {
     "data": {
      "text/html": [
       "<pre>recommendations finished on 38000/60398 queries. users per second: 219324</pre>"
      ],
      "text/plain": [
       "recommendations finished on 38000/60398 queries. users per second: 219324"
      ]
     },
     "metadata": {},
     "output_type": "display_data"
    },
    {
     "data": {
      "text/html": [
       "<pre>recommendations finished on 39000/60398 queries. users per second: 220455</pre>"
      ],
      "text/plain": [
       "recommendations finished on 39000/60398 queries. users per second: 220455"
      ]
     },
     "metadata": {},
     "output_type": "display_data"
    },
    {
     "data": {
      "text/html": [
       "<pre>recommendations finished on 40000/60398 queries. users per second: 220457</pre>"
      ],
      "text/plain": [
       "recommendations finished on 40000/60398 queries. users per second: 220457"
      ]
     },
     "metadata": {},
     "output_type": "display_data"
    },
    {
     "data": {
      "text/html": [
       "<pre>recommendations finished on 41000/60398 queries. users per second: 221576</pre>"
      ],
      "text/plain": [
       "recommendations finished on 41000/60398 queries. users per second: 221576"
      ]
     },
     "metadata": {},
     "output_type": "display_data"
    },
    {
     "data": {
      "text/html": [
       "<pre>recommendations finished on 42000/60398 queries. users per second: 223320</pre>"
      ],
      "text/plain": [
       "recommendations finished on 42000/60398 queries. users per second: 223320"
      ]
     },
     "metadata": {},
     "output_type": "display_data"
    },
    {
     "data": {
      "text/html": [
       "<pre>recommendations finished on 43000/60398 queries. users per second: 224567</pre>"
      ],
      "text/plain": [
       "recommendations finished on 43000/60398 queries. users per second: 224567"
      ]
     },
     "metadata": {},
     "output_type": "display_data"
    },
    {
     "data": {
      "text/html": [
       "<pre>recommendations finished on 44000/60398 queries. users per second: 220876</pre>"
      ],
      "text/plain": [
       "recommendations finished on 44000/60398 queries. users per second: 220876"
      ]
     },
     "metadata": {},
     "output_type": "display_data"
    },
    {
     "data": {
      "text/html": [
       "<pre>recommendations finished on 45000/60398 queries. users per second: 220273</pre>"
      ],
      "text/plain": [
       "recommendations finished on 45000/60398 queries. users per second: 220273"
      ]
     },
     "metadata": {},
     "output_type": "display_data"
    },
    {
     "data": {
      "text/html": [
       "<pre>recommendations finished on 46000/60398 queries. users per second: 222093</pre>"
      ],
      "text/plain": [
       "recommendations finished on 46000/60398 queries. users per second: 222093"
      ]
     },
     "metadata": {},
     "output_type": "display_data"
    },
    {
     "data": {
      "text/html": [
       "<pre>recommendations finished on 47000/60398 queries. users per second: 223803</pre>"
      ],
      "text/plain": [
       "recommendations finished on 47000/60398 queries. users per second: 223803"
      ]
     },
     "metadata": {},
     "output_type": "display_data"
    },
    {
     "data": {
      "text/html": [
       "<pre>recommendations finished on 48000/60398 queries. users per second: 224434</pre>"
      ],
      "text/plain": [
       "recommendations finished on 48000/60398 queries. users per second: 224434"
      ]
     },
     "metadata": {},
     "output_type": "display_data"
    },
    {
     "data": {
      "text/html": [
       "<pre>recommendations finished on 49000/60398 queries. users per second: 220347</pre>"
      ],
      "text/plain": [
       "recommendations finished on 49000/60398 queries. users per second: 220347"
      ]
     },
     "metadata": {},
     "output_type": "display_data"
    },
    {
     "data": {
      "text/html": [
       "<pre>recommendations finished on 50000/60398 queries. users per second: 221101</pre>"
      ],
      "text/plain": [
       "recommendations finished on 50000/60398 queries. users per second: 221101"
      ]
     },
     "metadata": {},
     "output_type": "display_data"
    },
    {
     "data": {
      "text/html": [
       "<pre>recommendations finished on 51000/60398 queries. users per second: 222275</pre>"
      ],
      "text/plain": [
       "recommendations finished on 51000/60398 queries. users per second: 222275"
      ]
     },
     "metadata": {},
     "output_type": "display_data"
    },
    {
     "data": {
      "text/html": [
       "<pre>recommendations finished on 52000/60398 queries. users per second: 224424</pre>"
      ],
      "text/plain": [
       "recommendations finished on 52000/60398 queries. users per second: 224424"
      ]
     },
     "metadata": {},
     "output_type": "display_data"
    },
    {
     "data": {
      "text/html": [
       "<pre>recommendations finished on 53000/60398 queries. users per second: 226103</pre>"
      ],
      "text/plain": [
       "recommendations finished on 53000/60398 queries. users per second: 226103"
      ]
     },
     "metadata": {},
     "output_type": "display_data"
    },
    {
     "data": {
      "text/html": [
       "<pre>recommendations finished on 54000/60398 queries. users per second: 225507</pre>"
      ],
      "text/plain": [
       "recommendations finished on 54000/60398 queries. users per second: 225507"
      ]
     },
     "metadata": {},
     "output_type": "display_data"
    },
    {
     "data": {
      "text/html": [
       "<pre>recommendations finished on 55000/60398 queries. users per second: 224703</pre>"
      ],
      "text/plain": [
       "recommendations finished on 55000/60398 queries. users per second: 224703"
      ]
     },
     "metadata": {},
     "output_type": "display_data"
    },
    {
     "data": {
      "text/html": [
       "<pre>recommendations finished on 56000/60398 queries. users per second: 223638</pre>"
      ],
      "text/plain": [
       "recommendations finished on 56000/60398 queries. users per second: 223638"
      ]
     },
     "metadata": {},
     "output_type": "display_data"
    },
    {
     "data": {
      "text/html": [
       "<pre>recommendations finished on 57000/60398 queries. users per second: 224850</pre>"
      ],
      "text/plain": [
       "recommendations finished on 57000/60398 queries. users per second: 224850"
      ]
     },
     "metadata": {},
     "output_type": "display_data"
    },
    {
     "data": {
      "text/html": [
       "<pre>recommendations finished on 58000/60398 queries. users per second: 226262</pre>"
      ],
      "text/plain": [
       "recommendations finished on 58000/60398 queries. users per second: 226262"
      ]
     },
     "metadata": {},
     "output_type": "display_data"
    },
    {
     "data": {
      "text/html": [
       "<pre>recommendations finished on 59000/60398 queries. users per second: 227061</pre>"
      ],
      "text/plain": [
       "recommendations finished on 59000/60398 queries. users per second: 227061"
      ]
     },
     "metadata": {},
     "output_type": "display_data"
    },
    {
     "data": {
      "text/html": [
       "<pre>recommendations finished on 60000/60398 queries. users per second: 227493</pre>"
      ],
      "text/plain": [
       "recommendations finished on 60000/60398 queries. users per second: 227493"
      ]
     },
     "metadata": {},
     "output_type": "display_data"
    },
    {
     "data": {
      "text/html": [
       "<pre>Preparing data set.</pre>"
      ],
      "text/plain": [
       "Preparing data set."
      ]
     },
     "metadata": {},
     "output_type": "display_data"
    },
    {
     "data": {
      "text/html": [
       "<pre>    Data has 48318 observations with 17748 users and 158 items.</pre>"
      ],
      "text/plain": [
       "    Data has 48318 observations with 17748 users and 158 items."
      ]
     },
     "metadata": {},
     "output_type": "display_data"
    },
    {
     "data": {
      "text/html": [
       "<pre>    Data prepared in: 0.083697s</pre>"
      ],
      "text/plain": [
       "    Data prepared in: 0.083697s"
      ]
     },
     "metadata": {},
     "output_type": "display_data"
    },
    {
     "data": {
      "text/html": [
       "<pre>Training model from provided data.</pre>"
      ],
      "text/plain": [
       "Training model from provided data."
      ]
     },
     "metadata": {},
     "output_type": "display_data"
    },
    {
     "data": {
      "text/html": [
       "<pre>Gathering per-item and per-user statistics.</pre>"
      ],
      "text/plain": [
       "Gathering per-item and per-user statistics."
      ]
     },
     "metadata": {},
     "output_type": "display_data"
    },
    {
     "data": {
      "text/html": [
       "<pre>+--------------------------------+------------+</pre>"
      ],
      "text/plain": [
       "+--------------------------------+------------+"
      ]
     },
     "metadata": {},
     "output_type": "display_data"
    },
    {
     "data": {
      "text/html": [
       "<pre>| Elapsed Time (Item Statistics) | % Complete |</pre>"
      ],
      "text/plain": [
       "| Elapsed Time (Item Statistics) | % Complete |"
      ]
     },
     "metadata": {},
     "output_type": "display_data"
    },
    {
     "data": {
      "text/html": [
       "<pre>+--------------------------------+------------+</pre>"
      ],
      "text/plain": [
       "+--------------------------------+------------+"
      ]
     },
     "metadata": {},
     "output_type": "display_data"
    },
    {
     "data": {
      "text/html": [
       "<pre>| 1.908ms                        | 5.5        |</pre>"
      ],
      "text/plain": [
       "| 1.908ms                        | 5.5        |"
      ]
     },
     "metadata": {},
     "output_type": "display_data"
    },
    {
     "data": {
      "text/html": [
       "<pre>| 8.729ms                        | 100        |</pre>"
      ],
      "text/plain": [
       "| 8.729ms                        | 100        |"
      ]
     },
     "metadata": {},
     "output_type": "display_data"
    },
    {
     "data": {
      "text/html": [
       "<pre>+--------------------------------+------------+</pre>"
      ],
      "text/plain": [
       "+--------------------------------+------------+"
      ]
     },
     "metadata": {},
     "output_type": "display_data"
    },
    {
     "data": {
      "text/html": [
       "<pre>Setting up lookup tables.</pre>"
      ],
      "text/plain": [
       "Setting up lookup tables."
      ]
     },
     "metadata": {},
     "output_type": "display_data"
    },
    {
     "data": {
      "text/html": [
       "<pre>Processing data in one pass using dense lookup tables.</pre>"
      ],
      "text/plain": [
       "Processing data in one pass using dense lookup tables."
      ]
     },
     "metadata": {},
     "output_type": "display_data"
    },
    {
     "data": {
      "text/html": [
       "<pre>+-------------------------------------+------------------+-----------------+</pre>"
      ],
      "text/plain": [
       "+-------------------------------------+------------------+-----------------+"
      ]
     },
     "metadata": {},
     "output_type": "display_data"
    },
    {
     "data": {
      "text/html": [
       "<pre>| Elapsed Time (Constructing Lookups) | Total % Complete | Items Processed |</pre>"
      ],
      "text/plain": [
       "| Elapsed Time (Constructing Lookups) | Total % Complete | Items Processed |"
      ]
     },
     "metadata": {},
     "output_type": "display_data"
    },
    {
     "data": {
      "text/html": [
       "<pre>+-------------------------------------+------------------+-----------------+</pre>"
      ],
      "text/plain": [
       "+-------------------------------------+------------------+-----------------+"
      ]
     },
     "metadata": {},
     "output_type": "display_data"
    },
    {
     "data": {
      "text/html": [
       "<pre>| 10.597ms                            | 0                | 0               |</pre>"
      ],
      "text/plain": [
       "| 10.597ms                            | 0                | 0               |"
      ]
     },
     "metadata": {},
     "output_type": "display_data"
    },
    {
     "data": {
      "text/html": [
       "<pre>| 25.85ms                             | 100              | 158             |</pre>"
      ],
      "text/plain": [
       "| 25.85ms                             | 100              | 158             |"
      ]
     },
     "metadata": {},
     "output_type": "display_data"
    },
    {
     "data": {
      "text/html": [
       "<pre>+-------------------------------------+------------------+-----------------+</pre>"
      ],
      "text/plain": [
       "+-------------------------------------+------------------+-----------------+"
      ]
     },
     "metadata": {},
     "output_type": "display_data"
    },
    {
     "data": {
      "text/html": [
       "<pre>Finalizing lookup tables.</pre>"
      ],
      "text/plain": [
       "Finalizing lookup tables."
      ]
     },
     "metadata": {},
     "output_type": "display_data"
    },
    {
     "data": {
      "text/html": [
       "<pre>Generating candidate set for working with new users.</pre>"
      ],
      "text/plain": [
       "Generating candidate set for working with new users."
      ]
     },
     "metadata": {},
     "output_type": "display_data"
    },
    {
     "data": {
      "text/html": [
       "<pre>Finished training in 0.03485s</pre>"
      ],
      "text/plain": [
       "Finished training in 0.03485s"
      ]
     },
     "metadata": {},
     "output_type": "display_data"
    },
    {
     "data": {
      "text/html": [
       "<pre>recommendations finished on 1000/60398 queries. users per second: 155885</pre>"
      ],
      "text/plain": [
       "recommendations finished on 1000/60398 queries. users per second: 155885"
      ]
     },
     "metadata": {},
     "output_type": "display_data"
    },
    {
     "data": {
      "text/html": [
       "<pre>recommendations finished on 2000/60398 queries. users per second: 193817</pre>"
      ],
      "text/plain": [
       "recommendations finished on 2000/60398 queries. users per second: 193817"
      ]
     },
     "metadata": {},
     "output_type": "display_data"
    },
    {
     "data": {
      "text/html": [
       "<pre>recommendations finished on 3000/60398 queries. users per second: 209688</pre>"
      ],
      "text/plain": [
       "recommendations finished on 3000/60398 queries. users per second: 209688"
      ]
     },
     "metadata": {},
     "output_type": "display_data"
    },
    {
     "data": {
      "text/html": [
       "<pre>recommendations finished on 4000/60398 queries. users per second: 201979</pre>"
      ],
      "text/plain": [
       "recommendations finished on 4000/60398 queries. users per second: 201979"
      ]
     },
     "metadata": {},
     "output_type": "display_data"
    },
    {
     "data": {
      "text/html": [
       "<pre>recommendations finished on 5000/60398 queries. users per second: 191131</pre>"
      ],
      "text/plain": [
       "recommendations finished on 5000/60398 queries. users per second: 191131"
      ]
     },
     "metadata": {},
     "output_type": "display_data"
    },
    {
     "data": {
      "text/html": [
       "<pre>recommendations finished on 6000/60398 queries. users per second: 189579</pre>"
      ],
      "text/plain": [
       "recommendations finished on 6000/60398 queries. users per second: 189579"
      ]
     },
     "metadata": {},
     "output_type": "display_data"
    },
    {
     "data": {
      "text/html": [
       "<pre>recommendations finished on 7000/60398 queries. users per second: 193109</pre>"
      ],
      "text/plain": [
       "recommendations finished on 7000/60398 queries. users per second: 193109"
      ]
     },
     "metadata": {},
     "output_type": "display_data"
    },
    {
     "data": {
      "text/html": [
       "<pre>recommendations finished on 8000/60398 queries. users per second: 172999</pre>"
      ],
      "text/plain": [
       "recommendations finished on 8000/60398 queries. users per second: 172999"
      ]
     },
     "metadata": {},
     "output_type": "display_data"
    },
    {
     "data": {
      "text/html": [
       "<pre>recommendations finished on 9000/60398 queries. users per second: 178930</pre>"
      ],
      "text/plain": [
       "recommendations finished on 9000/60398 queries. users per second: 178930"
      ]
     },
     "metadata": {},
     "output_type": "display_data"
    },
    {
     "data": {
      "text/html": [
       "<pre>recommendations finished on 10000/60398 queries. users per second: 182916</pre>"
      ],
      "text/plain": [
       "recommendations finished on 10000/60398 queries. users per second: 182916"
      ]
     },
     "metadata": {},
     "output_type": "display_data"
    },
    {
     "data": {
      "text/html": [
       "<pre>recommendations finished on 11000/60398 queries. users per second: 187480</pre>"
      ],
      "text/plain": [
       "recommendations finished on 11000/60398 queries. users per second: 187480"
      ]
     },
     "metadata": {},
     "output_type": "display_data"
    },
    {
     "data": {
      "text/html": [
       "<pre>recommendations finished on 12000/60398 queries. users per second: 190316</pre>"
      ],
      "text/plain": [
       "recommendations finished on 12000/60398 queries. users per second: 190316"
      ]
     },
     "metadata": {},
     "output_type": "display_data"
    },
    {
     "data": {
      "text/html": [
       "<pre>recommendations finished on 13000/60398 queries. users per second: 186774</pre>"
      ],
      "text/plain": [
       "recommendations finished on 13000/60398 queries. users per second: 186774"
      ]
     },
     "metadata": {},
     "output_type": "display_data"
    },
    {
     "data": {
      "text/html": [
       "<pre>recommendations finished on 14000/60398 queries. users per second: 188225</pre>"
      ],
      "text/plain": [
       "recommendations finished on 14000/60398 queries. users per second: 188225"
      ]
     },
     "metadata": {},
     "output_type": "display_data"
    },
    {
     "data": {
      "text/html": [
       "<pre>recommendations finished on 15000/60398 queries. users per second: 190939</pre>"
      ],
      "text/plain": [
       "recommendations finished on 15000/60398 queries. users per second: 190939"
      ]
     },
     "metadata": {},
     "output_type": "display_data"
    },
    {
     "data": {
      "text/html": [
       "<pre>recommendations finished on 16000/60398 queries. users per second: 192412</pre>"
      ],
      "text/plain": [
       "recommendations finished on 16000/60398 queries. users per second: 192412"
      ]
     },
     "metadata": {},
     "output_type": "display_data"
    },
    {
     "data": {
      "text/html": [
       "<pre>recommendations finished on 17000/60398 queries. users per second: 189291</pre>"
      ],
      "text/plain": [
       "recommendations finished on 17000/60398 queries. users per second: 189291"
      ]
     },
     "metadata": {},
     "output_type": "display_data"
    },
    {
     "data": {
      "text/html": [
       "<pre>recommendations finished on 18000/60398 queries. users per second: 189956</pre>"
      ],
      "text/plain": [
       "recommendations finished on 18000/60398 queries. users per second: 189956"
      ]
     },
     "metadata": {},
     "output_type": "display_data"
    },
    {
     "data": {
      "text/html": [
       "<pre>recommendations finished on 19000/60398 queries. users per second: 193150</pre>"
      ],
      "text/plain": [
       "recommendations finished on 19000/60398 queries. users per second: 193150"
      ]
     },
     "metadata": {},
     "output_type": "display_data"
    },
    {
     "data": {
      "text/html": [
       "<pre>recommendations finished on 20000/60398 queries. users per second: 196574</pre>"
      ],
      "text/plain": [
       "recommendations finished on 20000/60398 queries. users per second: 196574"
      ]
     },
     "metadata": {},
     "output_type": "display_data"
    },
    {
     "data": {
      "text/html": [
       "<pre>recommendations finished on 21000/60398 queries. users per second: 200855</pre>"
      ],
      "text/plain": [
       "recommendations finished on 21000/60398 queries. users per second: 200855"
      ]
     },
     "metadata": {},
     "output_type": "display_data"
    },
    {
     "data": {
      "text/html": [
       "<pre>recommendations finished on 22000/60398 queries. users per second: 203538</pre>"
      ],
      "text/plain": [
       "recommendations finished on 22000/60398 queries. users per second: 203538"
      ]
     },
     "metadata": {},
     "output_type": "display_data"
    },
    {
     "name": "stdout",
     "output_type": "stream",
     "text": [
      "+------------+-----------+-------+------+\n",
      "| CustomerID | ProductID | score | rank |\n",
      "+------------+-----------+-------+------+\n",
      "|   21768    |    490    |  0.0  |  1   |\n",
      "|   21768    |    479    |  0.0  |  2   |\n",
      "|   21768    |    225    |  0.0  |  3   |\n",
      "|   21768    |    477    |  0.0  |  4   |\n",
      "|   21768    |    528    |  0.0  |  5   |\n",
      "|   21768    |    491    |  0.0  |  6   |\n",
      "|   21768    |    465    |  0.0  |  7   |\n",
      "|   21768    |    379    |  0.0  |  8   |\n",
      "|   21768    |    478    |  0.0  |  9   |\n",
      "|   21768    |    537    |  0.0  |  10  |\n",
      "|   28389    |    310    |  0.0  |  1   |\n",
      "|   28389    |    479    |  0.0  |  2   |\n",
      "|   28389    |    225    |  0.0  |  3   |\n",
      "|   28389    |    477    |  0.0  |  4   |\n",
      "|   28389    |    528    |  0.0  |  5   |\n",
      "|   28389    |    491    |  0.0  |  6   |\n",
      "|   28389    |    465    |  0.0  |  7   |\n",
      "|   28389    |    379    |  0.0  |  8   |\n",
      "|   28389    |    478    |  0.0  |  9   |\n",
      "|   28389    |    537    |  0.0  |  10  |\n",
      "|   25863    |    355    |  0.0  |  1   |\n",
      "|   25863    |    490    |  0.0  |  2   |\n",
      "|   25863    |    310    |  0.0  |  3   |\n",
      "|   25863    |    225    |  0.0  |  4   |\n",
      "|   25863    |    528    |  0.0  |  5   |\n",
      "|   25863    |    491    |  0.0  |  6   |\n",
      "|   25863    |    465    |  0.0  |  7   |\n",
      "|   25863    |    379    |  0.0  |  8   |\n",
      "|   25863    |    478    |  0.0  |  9   |\n",
      "|   25863    |    537    |  0.0  |  10  |\n",
      "+------------+-----------+-------+------+\n",
      "[603980 rows x 4 columns]\n",
      "\n"
     ]
    },
    {
     "data": {
      "text/html": [
       "<pre>recommendations finished on 23000/60398 queries. users per second: 205997</pre>"
      ],
      "text/plain": [
       "recommendations finished on 23000/60398 queries. users per second: 205997"
      ]
     },
     "metadata": {},
     "output_type": "display_data"
    },
    {
     "data": {
      "text/html": [
       "<pre>recommendations finished on 24000/60398 queries. users per second: 207148</pre>"
      ],
      "text/plain": [
       "recommendations finished on 24000/60398 queries. users per second: 207148"
      ]
     },
     "metadata": {},
     "output_type": "display_data"
    },
    {
     "data": {
      "text/html": [
       "<pre>recommendations finished on 25000/60398 queries. users per second: 204387</pre>"
      ],
      "text/plain": [
       "recommendations finished on 25000/60398 queries. users per second: 204387"
      ]
     },
     "metadata": {},
     "output_type": "display_data"
    },
    {
     "data": {
      "text/html": [
       "<pre>recommendations finished on 26000/60398 queries. users per second: 203896</pre>"
      ],
      "text/plain": [
       "recommendations finished on 26000/60398 queries. users per second: 203896"
      ]
     },
     "metadata": {},
     "output_type": "display_data"
    }
   ],
   "source": [
    "#Using purchase dummy\n",
    "\n",
    "name = 'pearson'\n",
    "target = 'purchase_dummy'\n",
    "pear_dummy = model(train_data_dummy, name, user_id, item_id, target, users_to_recommend, n_rec, n_display)"
   ]
  },
  {
   "cell_type": "code",
   "execution_count": 21,
   "metadata": {},
   "outputs": [
    {
     "data": {
      "text/html": [
       "<pre>recommendations finished on 27000/60398 queries. users per second: 203884</pre>"
      ],
      "text/plain": [
       "recommendations finished on 27000/60398 queries. users per second: 203884"
      ]
     },
     "metadata": {},
     "output_type": "display_data"
    },
    {
     "data": {
      "text/html": [
       "<pre>recommendations finished on 28000/60398 queries. users per second: 202175</pre>"
      ],
      "text/plain": [
       "recommendations finished on 28000/60398 queries. users per second: 202175"
      ]
     },
     "metadata": {},
     "output_type": "display_data"
    },
    {
     "data": {
      "text/html": [
       "<pre>recommendations finished on 29000/60398 queries. users per second: 201153</pre>"
      ],
      "text/plain": [
       "recommendations finished on 29000/60398 queries. users per second: 201153"
      ]
     },
     "metadata": {},
     "output_type": "display_data"
    },
    {
     "data": {
      "text/html": [
       "<pre>recommendations finished on 30000/60398 queries. users per second: 202816</pre>"
      ],
      "text/plain": [
       "recommendations finished on 30000/60398 queries. users per second: 202816"
      ]
     },
     "metadata": {},
     "output_type": "display_data"
    },
    {
     "data": {
      "text/html": [
       "<pre>recommendations finished on 31000/60398 queries. users per second: 204734</pre>"
      ],
      "text/plain": [
       "recommendations finished on 31000/60398 queries. users per second: 204734"
      ]
     },
     "metadata": {},
     "output_type": "display_data"
    },
    {
     "data": {
      "text/html": [
       "<pre>recommendations finished on 32000/60398 queries. users per second: 207659</pre>"
      ],
      "text/plain": [
       "recommendations finished on 32000/60398 queries. users per second: 207659"
      ]
     },
     "metadata": {},
     "output_type": "display_data"
    },
    {
     "data": {
      "text/html": [
       "<pre>recommendations finished on 33000/60398 queries. users per second: 209972</pre>"
      ],
      "text/plain": [
       "recommendations finished on 33000/60398 queries. users per second: 209972"
      ]
     },
     "metadata": {},
     "output_type": "display_data"
    },
    {
     "data": {
      "text/html": [
       "<pre>recommendations finished on 34000/60398 queries. users per second: 209103</pre>"
      ],
      "text/plain": [
       "recommendations finished on 34000/60398 queries. users per second: 209103"
      ]
     },
     "metadata": {},
     "output_type": "display_data"
    },
    {
     "data": {
      "text/html": [
       "<pre>recommendations finished on 35000/60398 queries. users per second: 207981</pre>"
      ],
      "text/plain": [
       "recommendations finished on 35000/60398 queries. users per second: 207981"
      ]
     },
     "metadata": {},
     "output_type": "display_data"
    },
    {
     "data": {
      "text/html": [
       "<pre>recommendations finished on 36000/60398 queries. users per second: 206768</pre>"
      ],
      "text/plain": [
       "recommendations finished on 36000/60398 queries. users per second: 206768"
      ]
     },
     "metadata": {},
     "output_type": "display_data"
    },
    {
     "data": {
      "text/html": [
       "<pre>recommendations finished on 37000/60398 queries. users per second: 208035</pre>"
      ],
      "text/plain": [
       "recommendations finished on 37000/60398 queries. users per second: 208035"
      ]
     },
     "metadata": {},
     "output_type": "display_data"
    },
    {
     "data": {
      "text/html": [
       "<pre>recommendations finished on 38000/60398 queries. users per second: 209396</pre>"
      ],
      "text/plain": [
       "recommendations finished on 38000/60398 queries. users per second: 209396"
      ]
     },
     "metadata": {},
     "output_type": "display_data"
    },
    {
     "data": {
      "text/html": [
       "<pre>recommendations finished on 39000/60398 queries. users per second: 209925</pre>"
      ],
      "text/plain": [
       "recommendations finished on 39000/60398 queries. users per second: 209925"
      ]
     },
     "metadata": {},
     "output_type": "display_data"
    },
    {
     "data": {
      "text/html": [
       "<pre>recommendations finished on 40000/60398 queries. users per second: 209101</pre>"
      ],
      "text/plain": [
       "recommendations finished on 40000/60398 queries. users per second: 209101"
      ]
     },
     "metadata": {},
     "output_type": "display_data"
    },
    {
     "data": {
      "text/html": [
       "<pre>recommendations finished on 41000/60398 queries. users per second: 208298</pre>"
      ],
      "text/plain": [
       "recommendations finished on 41000/60398 queries. users per second: 208298"
      ]
     },
     "metadata": {},
     "output_type": "display_data"
    },
    {
     "data": {
      "text/html": [
       "<pre>recommendations finished on 42000/60398 queries. users per second: 209216</pre>"
      ],
      "text/plain": [
       "recommendations finished on 42000/60398 queries. users per second: 209216"
      ]
     },
     "metadata": {},
     "output_type": "display_data"
    },
    {
     "data": {
      "text/html": [
       "<pre>recommendations finished on 43000/60398 queries. users per second: 211239</pre>"
      ],
      "text/plain": [
       "recommendations finished on 43000/60398 queries. users per second: 211239"
      ]
     },
     "metadata": {},
     "output_type": "display_data"
    },
    {
     "data": {
      "text/html": [
       "<pre>recommendations finished on 44000/60398 queries. users per second: 212995</pre>"
      ],
      "text/plain": [
       "recommendations finished on 44000/60398 queries. users per second: 212995"
      ]
     },
     "metadata": {},
     "output_type": "display_data"
    },
    {
     "data": {
      "text/html": [
       "<pre>recommendations finished on 45000/60398 queries. users per second: 214197</pre>"
      ],
      "text/plain": [
       "recommendations finished on 45000/60398 queries. users per second: 214197"
      ]
     },
     "metadata": {},
     "output_type": "display_data"
    },
    {
     "data": {
      "text/html": [
       "<pre>recommendations finished on 46000/60398 queries. users per second: 214699</pre>"
      ],
      "text/plain": [
       "recommendations finished on 46000/60398 queries. users per second: 214699"
      ]
     },
     "metadata": {},
     "output_type": "display_data"
    },
    {
     "data": {
      "text/html": [
       "<pre>recommendations finished on 47000/60398 queries. users per second: 211430</pre>"
      ],
      "text/plain": [
       "recommendations finished on 47000/60398 queries. users per second: 211430"
      ]
     },
     "metadata": {},
     "output_type": "display_data"
    },
    {
     "data": {
      "text/html": [
       "<pre>recommendations finished on 48000/60398 queries. users per second: 212851</pre>"
      ],
      "text/plain": [
       "recommendations finished on 48000/60398 queries. users per second: 212851"
      ]
     },
     "metadata": {},
     "output_type": "display_data"
    },
    {
     "data": {
      "text/html": [
       "<pre>recommendations finished on 49000/60398 queries. users per second: 213443</pre>"
      ],
      "text/plain": [
       "recommendations finished on 49000/60398 queries. users per second: 213443"
      ]
     },
     "metadata": {},
     "output_type": "display_data"
    },
    {
     "data": {
      "text/html": [
       "<pre>recommendations finished on 50000/60398 queries. users per second: 209043</pre>"
      ],
      "text/plain": [
       "recommendations finished on 50000/60398 queries. users per second: 209043"
      ]
     },
     "metadata": {},
     "output_type": "display_data"
    },
    {
     "data": {
      "text/html": [
       "<pre>recommendations finished on 51000/60398 queries. users per second: 207431</pre>"
      ],
      "text/plain": [
       "recommendations finished on 51000/60398 queries. users per second: 207431"
      ]
     },
     "metadata": {},
     "output_type": "display_data"
    },
    {
     "data": {
      "text/html": [
       "<pre>recommendations finished on 52000/60398 queries. users per second: 208096</pre>"
      ],
      "text/plain": [
       "recommendations finished on 52000/60398 queries. users per second: 208096"
      ]
     },
     "metadata": {},
     "output_type": "display_data"
    },
    {
     "data": {
      "text/html": [
       "<pre>recommendations finished on 53000/60398 queries. users per second: 209205</pre>"
      ],
      "text/plain": [
       "recommendations finished on 53000/60398 queries. users per second: 209205"
      ]
     },
     "metadata": {},
     "output_type": "display_data"
    },
    {
     "data": {
      "text/html": [
       "<pre>recommendations finished on 54000/60398 queries. users per second: 209187</pre>"
      ],
      "text/plain": [
       "recommendations finished on 54000/60398 queries. users per second: 209187"
      ]
     },
     "metadata": {},
     "output_type": "display_data"
    },
    {
     "data": {
      "text/html": [
       "<pre>recommendations finished on 55000/60398 queries. users per second: 209206</pre>"
      ],
      "text/plain": [
       "recommendations finished on 55000/60398 queries. users per second: 209206"
      ]
     },
     "metadata": {},
     "output_type": "display_data"
    },
    {
     "data": {
      "text/html": [
       "<pre>recommendations finished on 56000/60398 queries. users per second: 205528</pre>"
      ],
      "text/plain": [
       "recommendations finished on 56000/60398 queries. users per second: 205528"
      ]
     },
     "metadata": {},
     "output_type": "display_data"
    },
    {
     "data": {
      "text/html": [
       "<pre>recommendations finished on 57000/60398 queries. users per second: 205246</pre>"
      ],
      "text/plain": [
       "recommendations finished on 57000/60398 queries. users per second: 205246"
      ]
     },
     "metadata": {},
     "output_type": "display_data"
    },
    {
     "data": {
      "text/html": [
       "<pre>recommendations finished on 58000/60398 queries. users per second: 204935</pre>"
      ],
      "text/plain": [
       "recommendations finished on 58000/60398 queries. users per second: 204935"
      ]
     },
     "metadata": {},
     "output_type": "display_data"
    },
    {
     "data": {
      "text/html": [
       "<pre>recommendations finished on 59000/60398 queries. users per second: 205371</pre>"
      ],
      "text/plain": [
       "recommendations finished on 59000/60398 queries. users per second: 205371"
      ]
     },
     "metadata": {},
     "output_type": "display_data"
    },
    {
     "data": {
      "text/html": [
       "<pre>recommendations finished on 60000/60398 queries. users per second: 204808</pre>"
      ],
      "text/plain": [
       "recommendations finished on 60000/60398 queries. users per second: 204808"
      ]
     },
     "metadata": {},
     "output_type": "display_data"
    },
    {
     "data": {
      "text/html": [
       "<pre>Warning: Ignoring columns SalesOrderLineNumber;</pre>"
      ],
      "text/plain": [
       "Warning: Ignoring columns SalesOrderLineNumber;"
      ]
     },
     "metadata": {},
     "output_type": "display_data"
    },
    {
     "data": {
      "text/html": [
       "<pre>    To use these columns in scoring predictions, use a model that allows the use of additional features.</pre>"
      ],
      "text/plain": [
       "    To use these columns in scoring predictions, use a model that allows the use of additional features."
      ]
     },
     "metadata": {},
     "output_type": "display_data"
    },
    {
     "data": {
      "text/html": [
       "<pre>Preparing data set.</pre>"
      ],
      "text/plain": [
       "Preparing data set."
      ]
     },
     "metadata": {},
     "output_type": "display_data"
    },
    {
     "data": {
      "text/html": [
       "<pre>    Data has 48318 observations with 17750 users and 158 items.</pre>"
      ],
      "text/plain": [
       "    Data has 48318 observations with 17750 users and 158 items."
      ]
     },
     "metadata": {},
     "output_type": "display_data"
    },
    {
     "data": {
      "text/html": [
       "<pre>    Data prepared in: 0.068681s</pre>"
      ],
      "text/plain": [
       "    Data prepared in: 0.068681s"
      ]
     },
     "metadata": {},
     "output_type": "display_data"
    },
    {
     "data": {
      "text/html": [
       "<pre>Training model from provided data.</pre>"
      ],
      "text/plain": [
       "Training model from provided data."
      ]
     },
     "metadata": {},
     "output_type": "display_data"
    },
    {
     "data": {
      "text/html": [
       "<pre>Gathering per-item and per-user statistics.</pre>"
      ],
      "text/plain": [
       "Gathering per-item and per-user statistics."
      ]
     },
     "metadata": {},
     "output_type": "display_data"
    },
    {
     "data": {
      "text/html": [
       "<pre>+--------------------------------+------------+</pre>"
      ],
      "text/plain": [
       "+--------------------------------+------------+"
      ]
     },
     "metadata": {},
     "output_type": "display_data"
    },
    {
     "data": {
      "text/html": [
       "<pre>| Elapsed Time (Item Statistics) | % Complete |</pre>"
      ],
      "text/plain": [
       "| Elapsed Time (Item Statistics) | % Complete |"
      ]
     },
     "metadata": {},
     "output_type": "display_data"
    },
    {
     "data": {
      "text/html": [
       "<pre>+--------------------------------+------------+</pre>"
      ],
      "text/plain": [
       "+--------------------------------+------------+"
      ]
     },
     "metadata": {},
     "output_type": "display_data"
    },
    {
     "data": {
      "text/html": [
       "<pre>| 1.591ms                        | 5.5        |</pre>"
      ],
      "text/plain": [
       "| 1.591ms                        | 5.5        |"
      ]
     },
     "metadata": {},
     "output_type": "display_data"
    },
    {
     "data": {
      "text/html": [
       "<pre>| 5.2ms                          | 100        |</pre>"
      ],
      "text/plain": [
       "| 5.2ms                          | 100        |"
      ]
     },
     "metadata": {},
     "output_type": "display_data"
    },
    {
     "data": {
      "text/html": [
       "<pre>+--------------------------------+------------+</pre>"
      ],
      "text/plain": [
       "+--------------------------------+------------+"
      ]
     },
     "metadata": {},
     "output_type": "display_data"
    },
    {
     "data": {
      "text/html": [
       "<pre>Setting up lookup tables.</pre>"
      ],
      "text/plain": [
       "Setting up lookup tables."
      ]
     },
     "metadata": {},
     "output_type": "display_data"
    },
    {
     "data": {
      "text/html": [
       "<pre>Processing data in one pass using dense lookup tables.</pre>"
      ],
      "text/plain": [
       "Processing data in one pass using dense lookup tables."
      ]
     },
     "metadata": {},
     "output_type": "display_data"
    },
    {
     "data": {
      "text/html": [
       "<pre>+-------------------------------------+------------------+-----------------+</pre>"
      ],
      "text/plain": [
       "+-------------------------------------+------------------+-----------------+"
      ]
     },
     "metadata": {},
     "output_type": "display_data"
    },
    {
     "data": {
      "text/html": [
       "<pre>| Elapsed Time (Constructing Lookups) | Total % Complete | Items Processed |</pre>"
      ],
      "text/plain": [
       "| Elapsed Time (Constructing Lookups) | Total % Complete | Items Processed |"
      ]
     },
     "metadata": {},
     "output_type": "display_data"
    },
    {
     "data": {
      "text/html": [
       "<pre>+-------------------------------------+------------------+-----------------+</pre>"
      ],
      "text/plain": [
       "+-------------------------------------+------------------+-----------------+"
      ]
     },
     "metadata": {},
     "output_type": "display_data"
    },
    {
     "data": {
      "text/html": [
       "<pre>| 7.18ms                              | 0                | 0               |</pre>"
      ],
      "text/plain": [
       "| 7.18ms                              | 0                | 0               |"
      ]
     },
     "metadata": {},
     "output_type": "display_data"
    },
    {
     "data": {
      "text/html": [
       "<pre>| 23.298ms                            | 100              | 158             |</pre>"
      ],
      "text/plain": [
       "| 23.298ms                            | 100              | 158             |"
      ]
     },
     "metadata": {},
     "output_type": "display_data"
    },
    {
     "data": {
      "text/html": [
       "<pre>+-------------------------------------+------------------+-----------------+</pre>"
      ],
      "text/plain": [
       "+-------------------------------------+------------------+-----------------+"
      ]
     },
     "metadata": {},
     "output_type": "display_data"
    },
    {
     "data": {
      "text/html": [
       "<pre>Finalizing lookup tables.</pre>"
      ],
      "text/plain": [
       "Finalizing lookup tables."
      ]
     },
     "metadata": {},
     "output_type": "display_data"
    },
    {
     "data": {
      "text/html": [
       "<pre>Generating candidate set for working with new users.</pre>"
      ],
      "text/plain": [
       "Generating candidate set for working with new users."
      ]
     },
     "metadata": {},
     "output_type": "display_data"
    },
    {
     "data": {
      "text/html": [
       "<pre>Finished training in 0.034099s</pre>"
      ],
      "text/plain": [
       "Finished training in 0.034099s"
      ]
     },
     "metadata": {},
     "output_type": "display_data"
    },
    {
     "data": {
      "text/html": [
       "<pre>recommendations finished on 1000/60398 queries. users per second: 29110.4</pre>"
      ],
      "text/plain": [
       "recommendations finished on 1000/60398 queries. users per second: 29110.4"
      ]
     },
     "metadata": {},
     "output_type": "display_data"
    },
    {
     "data": {
      "text/html": [
       "<pre>recommendations finished on 2000/60398 queries. users per second: 52345.1</pre>"
      ],
      "text/plain": [
       "recommendations finished on 2000/60398 queries. users per second: 52345.1"
      ]
     },
     "metadata": {},
     "output_type": "display_data"
    },
    {
     "data": {
      "text/html": [
       "<pre>recommendations finished on 3000/60398 queries. users per second: 69613.6</pre>"
      ],
      "text/plain": [
       "recommendations finished on 3000/60398 queries. users per second: 69613.6"
      ]
     },
     "metadata": {},
     "output_type": "display_data"
    },
    {
     "data": {
      "text/html": [
       "<pre>recommendations finished on 4000/60398 queries. users per second: 86402.4</pre>"
      ],
      "text/plain": [
       "recommendations finished on 4000/60398 queries. users per second: 86402.4"
      ]
     },
     "metadata": {},
     "output_type": "display_data"
    },
    {
     "data": {
      "text/html": [
       "<pre>recommendations finished on 5000/60398 queries. users per second: 98403.9</pre>"
      ],
      "text/plain": [
       "recommendations finished on 5000/60398 queries. users per second: 98403.9"
      ]
     },
     "metadata": {},
     "output_type": "display_data"
    },
    {
     "data": {
      "text/html": [
       "<pre>recommendations finished on 6000/60398 queries. users per second: 111008</pre>"
      ],
      "text/plain": [
       "recommendations finished on 6000/60398 queries. users per second: 111008"
      ]
     },
     "metadata": {},
     "output_type": "display_data"
    },
    {
     "data": {
      "text/html": [
       "<pre>recommendations finished on 7000/60398 queries. users per second: 121811</pre>"
      ],
      "text/plain": [
       "recommendations finished on 7000/60398 queries. users per second: 121811"
      ]
     },
     "metadata": {},
     "output_type": "display_data"
    },
    {
     "data": {
      "text/html": [
       "<pre>recommendations finished on 8000/60398 queries. users per second: 131757</pre>"
      ],
      "text/plain": [
       "recommendations finished on 8000/60398 queries. users per second: 131757"
      ]
     },
     "metadata": {},
     "output_type": "display_data"
    },
    {
     "data": {
      "text/html": [
       "<pre>recommendations finished on 9000/60398 queries. users per second: 137686</pre>"
      ],
      "text/plain": [
       "recommendations finished on 9000/60398 queries. users per second: 137686"
      ]
     },
     "metadata": {},
     "output_type": "display_data"
    },
    {
     "data": {
      "text/html": [
       "<pre>recommendations finished on 10000/60398 queries. users per second: 144949</pre>"
      ],
      "text/plain": [
       "recommendations finished on 10000/60398 queries. users per second: 144949"
      ]
     },
     "metadata": {},
     "output_type": "display_data"
    },
    {
     "data": {
      "text/html": [
       "<pre>recommendations finished on 11000/60398 queries. users per second: 148280</pre>"
      ],
      "text/plain": [
       "recommendations finished on 11000/60398 queries. users per second: 148280"
      ]
     },
     "metadata": {},
     "output_type": "display_data"
    },
    {
     "name": "stdout",
     "output_type": "stream",
     "text": [
      "+------------+-----------+---------------------+------+\n",
      "| CustomerID | ProductID |        score        | rank |\n",
      "+------------+-----------+---------------------+------+\n",
      "|   21768    |    463    |  0.4348051948051949 |  1   |\n",
      "|   21768    |    465    |  0.4060996563573885 |  2   |\n",
      "|   21768    |    484    | 0.39768688293370935 |  3   |\n",
      "|   21768    |    472    |  0.3946540880503144 |  4   |\n",
      "|   21768    |    473    |  0.3714285714285715 |  5   |\n",
      "|   21768    |    471    |  0.3661971830985918 |  6   |\n",
      "|   21768    |    487    | 0.36552315608919406 |  7   |\n",
      "|   21768    |    234    |  0.3579831932773107 |  8   |\n",
      "|   21768    |    467    | 0.35208926875593544 |  9   |\n",
      "|   21768    |    482    |  0.3509259259259258 |  10  |\n",
      "|   28389    |    463    |  0.4348051948051949 |  1   |\n",
      "|   28389    |    465    |  0.4060996563573885 |  2   |\n",
      "|   28389    |    484    | 0.39768688293370935 |  3   |\n",
      "|   28389    |    472    |  0.3946540880503144 |  4   |\n",
      "|   28389    |    473    |  0.3714285714285715 |  5   |\n",
      "|   28389    |    471    |  0.3661971830985918 |  6   |\n",
      "|   28389    |    487    | 0.36552315608919406 |  7   |\n",
      "|   28389    |    234    |  0.3579831932773107 |  8   |\n",
      "|   28389    |    467    | 0.35208926875593544 |  9   |\n",
      "|   28389    |    482    |  0.3509259259259258 |  10  |\n",
      "|   25863    |    463    |  0.4361262721519967 |  1   |\n",
      "|   25863    |    484    |  0.4095784069306983 |  2   |\n",
      "|   25863    |    465    |  0.4078639141063102 |  3   |\n",
      "|   25863    |    472    |  0.395256571799704  |  4   |\n",
      "|   25863    |    473    | 0.37224318810871676 |  5   |\n",
      "|   25863    |    487    | 0.36683934585512423 |  6   |\n",
      "|   25863    |    471    | 0.36654430068154875 |  7   |\n",
      "|   25863    |    234    |  0.3601682995547765 |  8   |\n",
      "|   25863    |    467    | 0.35282208799523396 |  9   |\n",
      "|   25863    |    482    | 0.35172607854560556 |  10  |\n",
      "+------------+-----------+---------------------+------+\n",
      "[603980 rows x 4 columns]\n",
      "\n"
     ]
    },
    {
     "data": {
      "text/html": [
       "<pre>recommendations finished on 12000/60398 queries. users per second: 153310</pre>"
      ],
      "text/plain": [
       "recommendations finished on 12000/60398 queries. users per second: 153310"
      ]
     },
     "metadata": {},
     "output_type": "display_data"
    },
    {
     "data": {
      "text/html": [
       "<pre>recommendations finished on 13000/60398 queries. users per second: 157775</pre>"
      ],
      "text/plain": [
       "recommendations finished on 13000/60398 queries. users per second: 157775"
      ]
     },
     "metadata": {},
     "output_type": "display_data"
    },
    {
     "data": {
      "text/html": [
       "<pre>recommendations finished on 14000/60398 queries. users per second: 164142</pre>"
      ],
      "text/plain": [
       "recommendations finished on 14000/60398 queries. users per second: 164142"
      ]
     },
     "metadata": {},
     "output_type": "display_data"
    }
   ],
   "source": [
    "#Using scaled_purchase_freq\n",
    "\n",
    "name = 'pearson'\n",
    "target = 'scaled_purchase_freq'\n",
    "pear_norm = model(train_data_norm, name, user_id, item_id, target, users_to_recommend, n_rec, n_display)"
   ]
  },
  {
   "cell_type": "markdown",
   "metadata": {},
   "source": [
    "# Model Evaluation\n",
    "\n",
    "We will use RMSE and Precision-recall to evalute this task."
   ]
  },
  {
   "cell_type": "code",
   "execution_count": 22,
   "metadata": {},
   "outputs": [
    {
     "data": {
      "text/html": [
       "<pre>recommendations finished on 15000/60398 queries. users per second: 168812</pre>"
      ],
      "text/plain": [
       "recommendations finished on 15000/60398 queries. users per second: 168812"
      ]
     },
     "metadata": {},
     "output_type": "display_data"
    },
    {
     "data": {
      "text/html": [
       "<pre>recommendations finished on 16000/60398 queries. users per second: 173020</pre>"
      ],
      "text/plain": [
       "recommendations finished on 16000/60398 queries. users per second: 173020"
      ]
     },
     "metadata": {},
     "output_type": "display_data"
    },
    {
     "data": {
      "text/html": [
       "<pre>recommendations finished on 17000/60398 queries. users per second: 178616</pre>"
      ],
      "text/plain": [
       "recommendations finished on 17000/60398 queries. users per second: 178616"
      ]
     },
     "metadata": {},
     "output_type": "display_data"
    },
    {
     "data": {
      "text/html": [
       "<pre>recommendations finished on 18000/60398 queries. users per second: 184407</pre>"
      ],
      "text/plain": [
       "recommendations finished on 18000/60398 queries. users per second: 184407"
      ]
     },
     "metadata": {},
     "output_type": "display_data"
    },
    {
     "data": {
      "text/html": [
       "<pre>recommendations finished on 19000/60398 queries. users per second: 189822</pre>"
      ],
      "text/plain": [
       "recommendations finished on 19000/60398 queries. users per second: 189822"
      ]
     },
     "metadata": {},
     "output_type": "display_data"
    },
    {
     "data": {
      "text/html": [
       "<pre>recommendations finished on 20000/60398 queries. users per second: 194609</pre>"
      ],
      "text/plain": [
       "recommendations finished on 20000/60398 queries. users per second: 194609"
      ]
     },
     "metadata": {},
     "output_type": "display_data"
    },
    {
     "data": {
      "text/html": [
       "<pre>recommendations finished on 21000/60398 queries. users per second: 199747</pre>"
      ],
      "text/plain": [
       "recommendations finished on 21000/60398 queries. users per second: 199747"
      ]
     },
     "metadata": {},
     "output_type": "display_data"
    },
    {
     "data": {
      "text/html": [
       "<pre>recommendations finished on 22000/60398 queries. users per second: 202774</pre>"
      ],
      "text/plain": [
       "recommendations finished on 22000/60398 queries. users per second: 202774"
      ]
     },
     "metadata": {},
     "output_type": "display_data"
    },
    {
     "data": {
      "text/html": [
       "<pre>recommendations finished on 23000/60398 queries. users per second: 196830</pre>"
      ],
      "text/plain": [
       "recommendations finished on 23000/60398 queries. users per second: 196830"
      ]
     },
     "metadata": {},
     "output_type": "display_data"
    },
    {
     "data": {
      "text/html": [
       "<pre>recommendations finished on 24000/60398 queries. users per second: 196970</pre>"
      ],
      "text/plain": [
       "recommendations finished on 24000/60398 queries. users per second: 196970"
      ]
     },
     "metadata": {},
     "output_type": "display_data"
    },
    {
     "data": {
      "text/html": [
       "<pre>recommendations finished on 25000/60398 queries. users per second: 200207</pre>"
      ],
      "text/plain": [
       "recommendations finished on 25000/60398 queries. users per second: 200207"
      ]
     },
     "metadata": {},
     "output_type": "display_data"
    },
    {
     "data": {
      "text/html": [
       "<pre>recommendations finished on 26000/60398 queries. users per second: 203239</pre>"
      ],
      "text/plain": [
       "recommendations finished on 26000/60398 queries. users per second: 203239"
      ]
     },
     "metadata": {},
     "output_type": "display_data"
    },
    {
     "data": {
      "text/html": [
       "<pre>recommendations finished on 27000/60398 queries. users per second: 206024</pre>"
      ],
      "text/plain": [
       "recommendations finished on 27000/60398 queries. users per second: 206024"
      ]
     },
     "metadata": {},
     "output_type": "display_data"
    },
    {
     "data": {
      "text/html": [
       "<pre>recommendations finished on 28000/60398 queries. users per second: 208216</pre>"
      ],
      "text/plain": [
       "recommendations finished on 28000/60398 queries. users per second: 208216"
      ]
     },
     "metadata": {},
     "output_type": "display_data"
    },
    {
     "data": {
      "text/html": [
       "<pre>recommendations finished on 29000/60398 queries. users per second: 199725</pre>"
      ],
      "text/plain": [
       "recommendations finished on 29000/60398 queries. users per second: 199725"
      ]
     },
     "metadata": {},
     "output_type": "display_data"
    },
    {
     "data": {
      "text/html": [
       "<pre>recommendations finished on 30000/60398 queries. users per second: 200934</pre>"
      ],
      "text/plain": [
       "recommendations finished on 30000/60398 queries. users per second: 200934"
      ]
     },
     "metadata": {},
     "output_type": "display_data"
    },
    {
     "data": {
      "text/html": [
       "<pre>recommendations finished on 31000/60398 queries. users per second: 202658</pre>"
      ],
      "text/plain": [
       "recommendations finished on 31000/60398 queries. users per second: 202658"
      ]
     },
     "metadata": {},
     "output_type": "display_data"
    },
    {
     "data": {
      "text/html": [
       "<pre>recommendations finished on 32000/60398 queries. users per second: 202127</pre>"
      ],
      "text/plain": [
       "recommendations finished on 32000/60398 queries. users per second: 202127"
      ]
     },
     "metadata": {},
     "output_type": "display_data"
    },
    {
     "data": {
      "text/html": [
       "<pre>recommendations finished on 33000/60398 queries. users per second: 201602</pre>"
      ],
      "text/plain": [
       "recommendations finished on 33000/60398 queries. users per second: 201602"
      ]
     },
     "metadata": {},
     "output_type": "display_data"
    },
    {
     "data": {
      "text/html": [
       "<pre>recommendations finished on 34000/60398 queries. users per second: 202489</pre>"
      ],
      "text/plain": [
       "recommendations finished on 34000/60398 queries. users per second: 202489"
      ]
     },
     "metadata": {},
     "output_type": "display_data"
    },
    {
     "data": {
      "text/html": [
       "<pre>recommendations finished on 35000/60398 queries. users per second: 204566</pre>"
      ],
      "text/plain": [
       "recommendations finished on 35000/60398 queries. users per second: 204566"
      ]
     },
     "metadata": {},
     "output_type": "display_data"
    },
    {
     "data": {
      "text/html": [
       "<pre>recommendations finished on 36000/60398 queries. users per second: 206729</pre>"
      ],
      "text/plain": [
       "recommendations finished on 36000/60398 queries. users per second: 206729"
      ]
     },
     "metadata": {},
     "output_type": "display_data"
    },
    {
     "data": {
      "text/html": [
       "<pre>recommendations finished on 37000/60398 queries. users per second: 208788</pre>"
      ],
      "text/plain": [
       "recommendations finished on 37000/60398 queries. users per second: 208788"
      ]
     },
     "metadata": {},
     "output_type": "display_data"
    },
    {
     "data": {
      "text/html": [
       "<pre>recommendations finished on 38000/60398 queries. users per second: 210431</pre>"
      ],
      "text/plain": [
       "recommendations finished on 38000/60398 queries. users per second: 210431"
      ]
     },
     "metadata": {},
     "output_type": "display_data"
    },
    {
     "data": {
      "text/html": [
       "<pre>recommendations finished on 39000/60398 queries. users per second: 209515</pre>"
      ],
      "text/plain": [
       "recommendations finished on 39000/60398 queries. users per second: 209515"
      ]
     },
     "metadata": {},
     "output_type": "display_data"
    },
    {
     "data": {
      "text/html": [
       "<pre>recommendations finished on 40000/60398 queries. users per second: 211558</pre>"
      ],
      "text/plain": [
       "recommendations finished on 40000/60398 queries. users per second: 211558"
      ]
     },
     "metadata": {},
     "output_type": "display_data"
    },
    {
     "data": {
      "text/html": [
       "<pre>recommendations finished on 41000/60398 queries. users per second: 214012</pre>"
      ],
      "text/plain": [
       "recommendations finished on 41000/60398 queries. users per second: 214012"
      ]
     },
     "metadata": {},
     "output_type": "display_data"
    },
    {
     "data": {
      "text/html": [
       "<pre>recommendations finished on 42000/60398 queries. users per second: 216542</pre>"
      ],
      "text/plain": [
       "recommendations finished on 42000/60398 queries. users per second: 216542"
      ]
     },
     "metadata": {},
     "output_type": "display_data"
    },
    {
     "data": {
      "text/html": [
       "<pre>recommendations finished on 43000/60398 queries. users per second: 218009</pre>"
      ],
      "text/plain": [
       "recommendations finished on 43000/60398 queries. users per second: 218009"
      ]
     },
     "metadata": {},
     "output_type": "display_data"
    },
    {
     "data": {
      "text/html": [
       "<pre>recommendations finished on 44000/60398 queries. users per second: 219868</pre>"
      ],
      "text/plain": [
       "recommendations finished on 44000/60398 queries. users per second: 219868"
      ]
     },
     "metadata": {},
     "output_type": "display_data"
    },
    {
     "data": {
      "text/html": [
       "<pre>recommendations finished on 45000/60398 queries. users per second: 221101</pre>"
      ],
      "text/plain": [
       "recommendations finished on 45000/60398 queries. users per second: 221101"
      ]
     },
     "metadata": {},
     "output_type": "display_data"
    },
    {
     "data": {
      "text/html": [
       "<pre>recommendations finished on 46000/60398 queries. users per second: 221663</pre>"
      ],
      "text/plain": [
       "recommendations finished on 46000/60398 queries. users per second: 221663"
      ]
     },
     "metadata": {},
     "output_type": "display_data"
    },
    {
     "data": {
      "text/html": [
       "<pre>recommendations finished on 47000/60398 queries. users per second: 221558</pre>"
      ],
      "text/plain": [
       "recommendations finished on 47000/60398 queries. users per second: 221558"
      ]
     },
     "metadata": {},
     "output_type": "display_data"
    },
    {
     "data": {
      "text/html": [
       "<pre>recommendations finished on 48000/60398 queries. users per second: 217672</pre>"
      ],
      "text/plain": [
       "recommendations finished on 48000/60398 queries. users per second: 217672"
      ]
     },
     "metadata": {},
     "output_type": "display_data"
    },
    {
     "data": {
      "text/html": [
       "<pre>recommendations finished on 49000/60398 queries. users per second: 216873</pre>"
      ],
      "text/plain": [
       "recommendations finished on 49000/60398 queries. users per second: 216873"
      ]
     },
     "metadata": {},
     "output_type": "display_data"
    },
    {
     "data": {
      "text/html": [
       "<pre>recommendations finished on 50000/60398 queries. users per second: 214434</pre>"
      ],
      "text/plain": [
       "recommendations finished on 50000/60398 queries. users per second: 214434"
      ]
     },
     "metadata": {},
     "output_type": "display_data"
    },
    {
     "data": {
      "text/html": [
       "<pre>recommendations finished on 51000/60398 queries. users per second: 216067</pre>"
      ],
      "text/plain": [
       "recommendations finished on 51000/60398 queries. users per second: 216067"
      ]
     },
     "metadata": {},
     "output_type": "display_data"
    },
    {
     "data": {
      "text/html": [
       "<pre>recommendations finished on 52000/60398 queries. users per second: 215855</pre>"
      ],
      "text/plain": [
       "recommendations finished on 52000/60398 queries. users per second: 215855"
      ]
     },
     "metadata": {},
     "output_type": "display_data"
    },
    {
     "data": {
      "text/html": [
       "<pre>recommendations finished on 53000/60398 queries. users per second: 214919</pre>"
      ],
      "text/plain": [
       "recommendations finished on 53000/60398 queries. users per second: 214919"
      ]
     },
     "metadata": {},
     "output_type": "display_data"
    },
    {
     "data": {
      "text/html": [
       "<pre>recommendations finished on 54000/60398 queries. users per second: 216399</pre>"
      ],
      "text/plain": [
       "recommendations finished on 54000/60398 queries. users per second: 216399"
      ]
     },
     "metadata": {},
     "output_type": "display_data"
    }
   ],
   "source": [
    "#Let’s first create initial callable variables for model evaluation:\n",
    "\n",
    "models_w_counts = [popularity, cos, pear]\n",
    "models_w_dummy = [pop_dummy, cos_dummy, pear_dummy]\n",
    "models_w_norm = [pop_norm, cos_norm, pear_norm]\n",
    "names_w_counts = ['Popularity Model on SalesOrderLineNumber', 'Cosine Similarity on SalesOrderLineNumber', 'Pearson Similarity on SalesOrderLineNumber']\n",
    "names_w_dummy = ['Popularity Model on Purchase Dummy', 'Cosine Similarity on Purchase Dummy', 'Pearson Similarity on Purchase Dummy']\n",
    "names_w_norm = ['Popularity Model on Scaled Purchase Counts', 'Cosine Similarity on Scaled Purchase Counts', 'Pearson Similarity on Scaled Purchase Counts']"
   ]
  },
  {
   "cell_type": "code",
   "execution_count": 23,
   "metadata": {},
   "outputs": [
    {
     "data": {
      "text/html": [
       "<pre>recommendations finished on 55000/60398 queries. users per second: 216650</pre>"
      ],
      "text/plain": [
       "recommendations finished on 55000/60398 queries. users per second: 216650"
      ]
     },
     "metadata": {},
     "output_type": "display_data"
    },
    {
     "data": {
      "text/html": [
       "<pre>recommendations finished on 56000/60398 queries. users per second: 215347</pre>"
      ],
      "text/plain": [
       "recommendations finished on 56000/60398 queries. users per second: 215347"
      ]
     },
     "metadata": {},
     "output_type": "display_data"
    },
    {
     "data": {
      "text/html": [
       "<pre>recommendations finished on 57000/60398 queries. users per second: 213704</pre>"
      ],
      "text/plain": [
       "recommendations finished on 57000/60398 queries. users per second: 213704"
      ]
     },
     "metadata": {},
     "output_type": "display_data"
    },
    {
     "data": {
      "text/html": [
       "<pre>recommendations finished on 58000/60398 queries. users per second: 211190</pre>"
      ],
      "text/plain": [
       "recommendations finished on 58000/60398 queries. users per second: 211190"
      ]
     },
     "metadata": {},
     "output_type": "display_data"
    },
    {
     "data": {
      "text/html": [
       "<pre>recommendations finished on 59000/60398 queries. users per second: 206414</pre>"
      ],
      "text/plain": [
       "recommendations finished on 59000/60398 queries. users per second: 206414"
      ]
     },
     "metadata": {},
     "output_type": "display_data"
    },
    {
     "data": {
      "text/html": [
       "<pre>recommendations finished on 60000/60398 queries. users per second: 200797</pre>"
      ],
      "text/plain": [
       "recommendations finished on 60000/60398 queries. users per second: 200797"
      ]
     },
     "metadata": {},
     "output_type": "display_data"
    },
    {
     "data": {
      "text/html": [
       "<pre>Preparing data set.</pre>"
      ],
      "text/plain": [
       "Preparing data set."
      ]
     },
     "metadata": {},
     "output_type": "display_data"
    },
    {
     "data": {
      "text/html": [
       "<pre>    Data has 38512 observations with 16518 users and 73 items.</pre>"
      ],
      "text/plain": [
       "    Data has 38512 observations with 16518 users and 73 items."
      ]
     },
     "metadata": {},
     "output_type": "display_data"
    },
    {
     "data": {
      "text/html": [
       "<pre>    Data prepared in: 0.072055s</pre>"
      ],
      "text/plain": [
       "    Data prepared in: 0.072055s"
      ]
     },
     "metadata": {},
     "output_type": "display_data"
    },
    {
     "data": {
      "text/html": [
       "<pre>Training model from provided data.</pre>"
      ],
      "text/plain": [
       "Training model from provided data."
      ]
     },
     "metadata": {},
     "output_type": "display_data"
    },
    {
     "data": {
      "text/html": [
       "<pre>Gathering per-item and per-user statistics.</pre>"
      ],
      "text/plain": [
       "Gathering per-item and per-user statistics."
      ]
     },
     "metadata": {},
     "output_type": "display_data"
    },
    {
     "data": {
      "text/html": [
       "<pre>+--------------------------------+------------+</pre>"
      ],
      "text/plain": [
       "+--------------------------------+------------+"
      ]
     },
     "metadata": {},
     "output_type": "display_data"
    },
    {
     "data": {
      "text/html": [
       "<pre>| Elapsed Time (Item Statistics) | % Complete |</pre>"
      ],
      "text/plain": [
       "| Elapsed Time (Item Statistics) | % Complete |"
      ]
     },
     "metadata": {},
     "output_type": "display_data"
    },
    {
     "data": {
      "text/html": [
       "<pre>+--------------------------------+------------+</pre>"
      ],
      "text/plain": [
       "+--------------------------------+------------+"
      ]
     },
     "metadata": {},
     "output_type": "display_data"
    },
    {
     "data": {
      "text/html": [
       "<pre>| 1.098ms                        | 6          |</pre>"
      ],
      "text/plain": [
       "| 1.098ms                        | 6          |"
      ]
     },
     "metadata": {},
     "output_type": "display_data"
    },
    {
     "data": {
      "text/html": [
       "<pre>| 5.268ms                        | 100        |</pre>"
      ],
      "text/plain": [
       "| 5.268ms                        | 100        |"
      ]
     },
     "metadata": {},
     "output_type": "display_data"
    },
    {
     "data": {
      "text/html": [
       "<pre>+--------------------------------+------------+</pre>"
      ],
      "text/plain": [
       "+--------------------------------+------------+"
      ]
     },
     "metadata": {},
     "output_type": "display_data"
    },
    {
     "data": {
      "text/html": [
       "<pre>Setting up lookup tables.</pre>"
      ],
      "text/plain": [
       "Setting up lookup tables."
      ]
     },
     "metadata": {},
     "output_type": "display_data"
    },
    {
     "data": {
      "text/html": [
       "<pre>Processing data in one pass using dense lookup tables.</pre>"
      ],
      "text/plain": [
       "Processing data in one pass using dense lookup tables."
      ]
     },
     "metadata": {},
     "output_type": "display_data"
    },
    {
     "data": {
      "text/html": [
       "<pre>+-------------------------------------+------------------+-----------------+</pre>"
      ],
      "text/plain": [
       "+-------------------------------------+------------------+-----------------+"
      ]
     },
     "metadata": {},
     "output_type": "display_data"
    },
    {
     "data": {
      "text/html": [
       "<pre>| Elapsed Time (Constructing Lookups) | Total % Complete | Items Processed |</pre>"
      ],
      "text/plain": [
       "| Elapsed Time (Constructing Lookups) | Total % Complete | Items Processed |"
      ]
     },
     "metadata": {},
     "output_type": "display_data"
    },
    {
     "data": {
      "text/html": [
       "<pre>+-------------------------------------+------------------+-----------------+</pre>"
      ],
      "text/plain": [
       "+-------------------------------------+------------------+-----------------+"
      ]
     },
     "metadata": {},
     "output_type": "display_data"
    },
    {
     "data": {
      "text/html": [
       "<pre>| 6.316ms                             | 0                | 0               |</pre>"
      ],
      "text/plain": [
       "| 6.316ms                             | 0                | 0               |"
      ]
     },
     "metadata": {},
     "output_type": "display_data"
    },
    {
     "data": {
      "text/html": [
       "<pre>| 11.465ms                            | 100              | 73              |</pre>"
      ],
      "text/plain": [
       "| 11.465ms                            | 100              | 73              |"
      ]
     },
     "metadata": {},
     "output_type": "display_data"
    },
    {
     "data": {
      "text/html": [
       "<pre>+-------------------------------------+------------------+-----------------+</pre>"
      ],
      "text/plain": [
       "+-------------------------------------+------------------+-----------------+"
      ]
     },
     "metadata": {},
     "output_type": "display_data"
    },
    {
     "data": {
      "text/html": [
       "<pre>Finalizing lookup tables.</pre>"
      ],
      "text/plain": [
       "Finalizing lookup tables."
      ]
     },
     "metadata": {},
     "output_type": "display_data"
    },
    {
     "data": {
      "text/html": [
       "<pre>Generating candidate set for working with new users.</pre>"
      ],
      "text/plain": [
       "Generating candidate set for working with new users."
      ]
     },
     "metadata": {},
     "output_type": "display_data"
    },
    {
     "data": {
      "text/html": [
       "<pre>Finished training in 0.016954s</pre>"
      ],
      "text/plain": [
       "Finished training in 0.016954s"
      ]
     },
     "metadata": {},
     "output_type": "display_data"
    },
    {
     "data": {
      "text/html": [
       "<pre>recommendations finished on 1000/60398 queries. users per second: 36197.8</pre>"
      ],
      "text/plain": [
       "recommendations finished on 1000/60398 queries. users per second: 36197.8"
      ]
     },
     "metadata": {},
     "output_type": "display_data"
    },
    {
     "data": {
      "text/html": [
       "<pre>recommendations finished on 2000/60398 queries. users per second: 62081</pre>"
      ],
      "text/plain": [
       "recommendations finished on 2000/60398 queries. users per second: 62081"
      ]
     },
     "metadata": {},
     "output_type": "display_data"
    },
    {
     "data": {
      "text/html": [
       "<pre>recommendations finished on 3000/60398 queries. users per second: 82101.8</pre>"
      ],
      "text/plain": [
       "recommendations finished on 3000/60398 queries. users per second: 82101.8"
      ]
     },
     "metadata": {},
     "output_type": "display_data"
    },
    {
     "data": {
      "text/html": [
       "<pre>recommendations finished on 4000/60398 queries. users per second: 96899.2</pre>"
      ],
      "text/plain": [
       "recommendations finished on 4000/60398 queries. users per second: 96899.2"
      ]
     },
     "metadata": {},
     "output_type": "display_data"
    },
    {
     "data": {
      "text/html": [
       "<pre>recommendations finished on 5000/60398 queries. users per second: 107119</pre>"
      ],
      "text/plain": [
       "recommendations finished on 5000/60398 queries. users per second: 107119"
      ]
     },
     "metadata": {},
     "output_type": "display_data"
    },
    {
     "data": {
      "text/html": [
       "<pre>recommendations finished on 6000/60398 queries. users per second: 113216</pre>"
      ],
      "text/plain": [
       "recommendations finished on 6000/60398 queries. users per second: 113216"
      ]
     },
     "metadata": {},
     "output_type": "display_data"
    },
    {
     "data": {
      "text/html": [
       "<pre>recommendations finished on 7000/60398 queries. users per second: 122047</pre>"
      ],
      "text/plain": [
       "recommendations finished on 7000/60398 queries. users per second: 122047"
      ]
     },
     "metadata": {},
     "output_type": "display_data"
    },
    {
     "data": {
      "text/html": [
       "<pre>recommendations finished on 8000/60398 queries. users per second: 130796</pre>"
      ],
      "text/plain": [
       "recommendations finished on 8000/60398 queries. users per second: 130796"
      ]
     },
     "metadata": {},
     "output_type": "display_data"
    },
    {
     "data": {
      "text/html": [
       "<pre>recommendations finished on 9000/60398 queries. users per second: 137379</pre>"
      ],
      "text/plain": [
       "recommendations finished on 9000/60398 queries. users per second: 137379"
      ]
     },
     "metadata": {},
     "output_type": "display_data"
    },
    {
     "data": {
      "text/html": [
       "<pre>recommendations finished on 10000/60398 queries. users per second: 141147</pre>"
      ],
      "text/plain": [
       "recommendations finished on 10000/60398 queries. users per second: 141147"
      ]
     },
     "metadata": {},
     "output_type": "display_data"
    },
    {
     "data": {
      "text/html": [
       "<pre>recommendations finished on 11000/60398 queries. users per second: 148036</pre>"
      ],
      "text/plain": [
       "recommendations finished on 11000/60398 queries. users per second: 148036"
      ]
     },
     "metadata": {},
     "output_type": "display_data"
    },
    {
     "data": {
      "text/html": [
       "<pre>recommendations finished on 12000/60398 queries. users per second: 154731</pre>"
      ],
      "text/plain": [
       "recommendations finished on 12000/60398 queries. users per second: 154731"
      ]
     },
     "metadata": {},
     "output_type": "display_data"
    },
    {
     "name": "stdout",
     "output_type": "stream",
     "text": [
      "PROGRESS: Evaluate model Popularity Model on SalesOrderLineNumber\n"
     ]
    },
    {
     "data": {
      "text/html": [
       "<pre>recommendations finished on 13000/60398 queries. users per second: 159686</pre>"
      ],
      "text/plain": [
       "recommendations finished on 13000/60398 queries. users per second: 159686"
      ]
     },
     "metadata": {},
     "output_type": "display_data"
    },
    {
     "data": {
      "text/html": [
       "<pre>recommendations finished on 14000/60398 queries. users per second: 163681</pre>"
      ],
      "text/plain": [
       "recommendations finished on 14000/60398 queries. users per second: 163681"
      ]
     },
     "metadata": {},
     "output_type": "display_data"
    },
    {
     "data": {
      "text/html": [
       "<pre>recommendations finished on 15000/60398 queries. users per second: 167643</pre>"
      ],
      "text/plain": [
       "recommendations finished on 15000/60398 queries. users per second: 167643"
      ]
     },
     "metadata": {},
     "output_type": "display_data"
    },
    {
     "data": {
      "text/html": [
       "<pre>recommendations finished on 16000/60398 queries. users per second: 170010</pre>"
      ],
      "text/plain": [
       "recommendations finished on 16000/60398 queries. users per second: 170010"
      ]
     },
     "metadata": {},
     "output_type": "display_data"
    },
    {
     "data": {
      "text/html": [
       "<pre>recommendations finished on 17000/60398 queries. users per second: 173854</pre>"
      ],
      "text/plain": [
       "recommendations finished on 17000/60398 queries. users per second: 173854"
      ]
     },
     "metadata": {},
     "output_type": "display_data"
    },
    {
     "data": {
      "text/html": [
       "<pre>recommendations finished on 18000/60398 queries. users per second: 173350</pre>"
      ],
      "text/plain": [
       "recommendations finished on 18000/60398 queries. users per second: 173350"
      ]
     },
     "metadata": {},
     "output_type": "display_data"
    },
    {
     "data": {
      "text/html": [
       "<pre>recommendations finished on 19000/60398 queries. users per second: 177287</pre>"
      ],
      "text/plain": [
       "recommendations finished on 19000/60398 queries. users per second: 177287"
      ]
     },
     "metadata": {},
     "output_type": "display_data"
    },
    {
     "data": {
      "text/html": [
       "<pre>recommendations finished on 20000/60398 queries. users per second: 181146</pre>"
      ],
      "text/plain": [
       "recommendations finished on 20000/60398 queries. users per second: 181146"
      ]
     },
     "metadata": {},
     "output_type": "display_data"
    },
    {
     "data": {
      "text/html": [
       "<pre>recommendations finished on 21000/60398 queries. users per second: 183478</pre>"
      ],
      "text/plain": [
       "recommendations finished on 21000/60398 queries. users per second: 183478"
      ]
     },
     "metadata": {},
     "output_type": "display_data"
    },
    {
     "data": {
      "text/html": [
       "<pre>recommendations finished on 22000/60398 queries. users per second: 184801</pre>"
      ],
      "text/plain": [
       "recommendations finished on 22000/60398 queries. users per second: 184801"
      ]
     },
     "metadata": {},
     "output_type": "display_data"
    },
    {
     "data": {
      "text/html": [
       "<pre>recommendations finished on 23000/60398 queries. users per second: 187565</pre>"
      ],
      "text/plain": [
       "recommendations finished on 23000/60398 queries. users per second: 187565"
      ]
     },
     "metadata": {},
     "output_type": "display_data"
    },
    {
     "data": {
      "text/html": [
       "<pre>recommendations finished on 24000/60398 queries. users per second: 189596</pre>"
      ],
      "text/plain": [
       "recommendations finished on 24000/60398 queries. users per second: 189596"
      ]
     },
     "metadata": {},
     "output_type": "display_data"
    },
    {
     "data": {
      "text/html": [
       "<pre>recommendations finished on 25000/60398 queries. users per second: 166937</pre>"
      ],
      "text/plain": [
       "recommendations finished on 25000/60398 queries. users per second: 166937"
      ]
     },
     "metadata": {},
     "output_type": "display_data"
    },
    {
     "data": {
      "text/html": [
       "<pre>recommendations finished on 26000/60398 queries. users per second: 170286</pre>"
      ],
      "text/plain": [
       "recommendations finished on 26000/60398 queries. users per second: 170286"
      ]
     },
     "metadata": {},
     "output_type": "display_data"
    },
    {
     "data": {
      "text/html": [
       "<pre>recommendations finished on 27000/60398 queries. users per second: 173905</pre>"
      ],
      "text/plain": [
       "recommendations finished on 27000/60398 queries. users per second: 173905"
      ]
     },
     "metadata": {},
     "output_type": "display_data"
    },
    {
     "data": {
      "text/html": [
       "<pre>recommendations finished on 28000/60398 queries. users per second: 176818</pre>"
      ],
      "text/plain": [
       "recommendations finished on 28000/60398 queries. users per second: 176818"
      ]
     },
     "metadata": {},
     "output_type": "display_data"
    },
    {
     "data": {
      "text/html": [
       "<pre>recommendations finished on 29000/60398 queries. users per second: 177748</pre>"
      ],
      "text/plain": [
       "recommendations finished on 29000/60398 queries. users per second: 177748"
      ]
     },
     "metadata": {},
     "output_type": "display_data"
    },
    {
     "data": {
      "text/html": [
       "<pre>recommendations finished on 30000/60398 queries. users per second: 179852</pre>"
      ],
      "text/plain": [
       "recommendations finished on 30000/60398 queries. users per second: 179852"
      ]
     },
     "metadata": {},
     "output_type": "display_data"
    },
    {
     "data": {
      "text/html": [
       "<pre>recommendations finished on 31000/60398 queries. users per second: 181727</pre>"
      ],
      "text/plain": [
       "recommendations finished on 31000/60398 queries. users per second: 181727"
      ]
     },
     "metadata": {},
     "output_type": "display_data"
    },
    {
     "data": {
      "text/html": [
       "<pre>recommendations finished on 32000/60398 queries. users per second: 184299</pre>"
      ],
      "text/plain": [
       "recommendations finished on 32000/60398 queries. users per second: 184299"
      ]
     },
     "metadata": {},
     "output_type": "display_data"
    },
    {
     "data": {
      "text/html": [
       "<pre>recommendations finished on 33000/60398 queries. users per second: 185880</pre>"
      ],
      "text/plain": [
       "recommendations finished on 33000/60398 queries. users per second: 185880"
      ]
     },
     "metadata": {},
     "output_type": "display_data"
    },
    {
     "data": {
      "text/html": [
       "<pre>recommendations finished on 34000/60398 queries. users per second: 188312</pre>"
      ],
      "text/plain": [
       "recommendations finished on 34000/60398 queries. users per second: 188312"
      ]
     },
     "metadata": {},
     "output_type": "display_data"
    },
    {
     "data": {
      "text/html": [
       "<pre>recommendations finished on 35000/60398 queries. users per second: 189206</pre>"
      ],
      "text/plain": [
       "recommendations finished on 35000/60398 queries. users per second: 189206"
      ]
     },
     "metadata": {},
     "output_type": "display_data"
    },
    {
     "data": {
      "text/html": [
       "<pre>recommendations finished on 36000/60398 queries. users per second: 191044</pre>"
      ],
      "text/plain": [
       "recommendations finished on 36000/60398 queries. users per second: 191044"
      ]
     },
     "metadata": {},
     "output_type": "display_data"
    },
    {
     "data": {
      "text/html": [
       "<pre>recommendations finished on 37000/60398 queries. users per second: 192428</pre>"
      ],
      "text/plain": [
       "recommendations finished on 37000/60398 queries. users per second: 192428"
      ]
     },
     "metadata": {},
     "output_type": "display_data"
    },
    {
     "data": {
      "text/html": [
       "<pre>recommendations finished on 38000/60398 queries. users per second: 193898</pre>"
      ],
      "text/plain": [
       "recommendations finished on 38000/60398 queries. users per second: 193898"
      ]
     },
     "metadata": {},
     "output_type": "display_data"
    },
    {
     "data": {
      "text/html": [
       "<pre>recommendations finished on 39000/60398 queries. users per second: 194511</pre>"
      ],
      "text/plain": [
       "recommendations finished on 39000/60398 queries. users per second: 194511"
      ]
     },
     "metadata": {},
     "output_type": "display_data"
    },
    {
     "data": {
      "text/html": [
       "<pre>recommendations finished on 40000/60398 queries. users per second: 196718</pre>"
      ],
      "text/plain": [
       "recommendations finished on 40000/60398 queries. users per second: 196718"
      ]
     },
     "metadata": {},
     "output_type": "display_data"
    },
    {
     "data": {
      "text/html": [
       "<pre>recommendations finished on 41000/60398 queries. users per second: 198395</pre>"
      ],
      "text/plain": [
       "recommendations finished on 41000/60398 queries. users per second: 198395"
      ]
     },
     "metadata": {},
     "output_type": "display_data"
    },
    {
     "data": {
      "text/html": [
       "<pre>recommendations finished on 42000/60398 queries. users per second: 199250</pre>"
      ],
      "text/plain": [
       "recommendations finished on 42000/60398 queries. users per second: 199250"
      ]
     },
     "metadata": {},
     "output_type": "display_data"
    },
    {
     "data": {
      "text/html": [
       "<pre>recommendations finished on 43000/60398 queries. users per second: 201015</pre>"
      ],
      "text/plain": [
       "recommendations finished on 43000/60398 queries. users per second: 201015"
      ]
     },
     "metadata": {},
     "output_type": "display_data"
    },
    {
     "data": {
      "text/html": [
       "<pre>recommendations finished on 44000/60398 queries. users per second: 200552</pre>"
      ],
      "text/plain": [
       "recommendations finished on 44000/60398 queries. users per second: 200552"
      ]
     },
     "metadata": {},
     "output_type": "display_data"
    },
    {
     "data": {
      "text/html": [
       "<pre>recommendations finished on 45000/60398 queries. users per second: 201871</pre>"
      ],
      "text/plain": [
       "recommendations finished on 45000/60398 queries. users per second: 201871"
      ]
     },
     "metadata": {},
     "output_type": "display_data"
    },
    {
     "data": {
      "text/html": [
       "<pre>recommendations finished on 46000/60398 queries. users per second: 202904</pre>"
      ],
      "text/plain": [
       "recommendations finished on 46000/60398 queries. users per second: 202904"
      ]
     },
     "metadata": {},
     "output_type": "display_data"
    },
    {
     "data": {
      "text/html": [
       "<pre>recommendations finished on 47000/60398 queries. users per second: 201940</pre>"
      ],
      "text/plain": [
       "recommendations finished on 47000/60398 queries. users per second: 201940"
      ]
     },
     "metadata": {},
     "output_type": "display_data"
    },
    {
     "data": {
      "text/html": [
       "<pre>recommendations finished on 48000/60398 queries. users per second: 201988</pre>"
      ],
      "text/plain": [
       "recommendations finished on 48000/60398 queries. users per second: 201988"
      ]
     },
     "metadata": {},
     "output_type": "display_data"
    },
    {
     "data": {
      "text/html": [
       "<pre>recommendations finished on 49000/60398 queries. users per second: 202561</pre>"
      ],
      "text/plain": [
       "recommendations finished on 49000/60398 queries. users per second: 202561"
      ]
     },
     "metadata": {},
     "output_type": "display_data"
    },
    {
     "data": {
      "text/html": [
       "<pre>recommendations finished on 50000/60398 queries. users per second: 202478</pre>"
      ],
      "text/plain": [
       "recommendations finished on 50000/60398 queries. users per second: 202478"
      ]
     },
     "metadata": {},
     "output_type": "display_data"
    },
    {
     "data": {
      "text/html": [
       "<pre>recommendations finished on 51000/60398 queries. users per second: 203912</pre>"
      ],
      "text/plain": [
       "recommendations finished on 51000/60398 queries. users per second: 203912"
      ]
     },
     "metadata": {},
     "output_type": "display_data"
    },
    {
     "data": {
      "text/html": [
       "<pre>recommendations finished on 52000/60398 queries. users per second: 205255</pre>"
      ],
      "text/plain": [
       "recommendations finished on 52000/60398 queries. users per second: 205255"
      ]
     },
     "metadata": {},
     "output_type": "display_data"
    },
    {
     "data": {
      "text/html": [
       "<pre>recommendations finished on 53000/60398 queries. users per second: 206264</pre>"
      ],
      "text/plain": [
       "recommendations finished on 53000/60398 queries. users per second: 206264"
      ]
     },
     "metadata": {},
     "output_type": "display_data"
    },
    {
     "data": {
      "text/html": [
       "<pre>recommendations finished on 54000/60398 queries. users per second: 207874</pre>"
      ],
      "text/plain": [
       "recommendations finished on 54000/60398 queries. users per second: 207874"
      ]
     },
     "metadata": {},
     "output_type": "display_data"
    },
    {
     "data": {
      "text/html": [
       "<pre>recommendations finished on 55000/60398 queries. users per second: 208478</pre>"
      ],
      "text/plain": [
       "recommendations finished on 55000/60398 queries. users per second: 208478"
      ]
     },
     "metadata": {},
     "output_type": "display_data"
    },
    {
     "data": {
      "text/html": [
       "<pre>recommendations finished on 56000/60398 queries. users per second: 203105</pre>"
      ],
      "text/plain": [
       "recommendations finished on 56000/60398 queries. users per second: 203105"
      ]
     },
     "metadata": {},
     "output_type": "display_data"
    },
    {
     "data": {
      "text/html": [
       "<pre>recommendations finished on 57000/60398 queries. users per second: 201205</pre>"
      ],
      "text/plain": [
       "recommendations finished on 57000/60398 queries. users per second: 201205"
      ]
     },
     "metadata": {},
     "output_type": "display_data"
    },
    {
     "data": {
      "text/html": [
       "<pre>recommendations finished on 58000/60398 queries. users per second: 200429</pre>"
      ],
      "text/plain": [
       "recommendations finished on 58000/60398 queries. users per second: 200429"
      ]
     },
     "metadata": {},
     "output_type": "display_data"
    },
    {
     "data": {
      "text/html": [
       "<pre>recommendations finished on 59000/60398 queries. users per second: 199885</pre>"
      ],
      "text/plain": [
       "recommendations finished on 59000/60398 queries. users per second: 199885"
      ]
     },
     "metadata": {},
     "output_type": "display_data"
    },
    {
     "data": {
      "text/html": [
       "<pre>recommendations finished on 60000/60398 queries. users per second: 197671</pre>"
      ],
      "text/plain": [
       "recommendations finished on 60000/60398 queries. users per second: 197671"
      ]
     },
     "metadata": {},
     "output_type": "display_data"
    },
    {
     "data": {
      "text/html": [
       "<pre>recommendations finished on 1000/8794 queries. users per second: 70492</pre>"
      ],
      "text/plain": [
       "recommendations finished on 1000/8794 queries. users per second: 70492"
      ]
     },
     "metadata": {},
     "output_type": "display_data"
    },
    {
     "data": {
      "text/html": [
       "<pre>recommendations finished on 2000/8794 queries. users per second: 88284.6</pre>"
      ],
      "text/plain": [
       "recommendations finished on 2000/8794 queries. users per second: 88284.6"
      ]
     },
     "metadata": {},
     "output_type": "display_data"
    },
    {
     "data": {
      "text/html": [
       "<pre>recommendations finished on 3000/8794 queries. users per second: 99091.7</pre>"
      ],
      "text/plain": [
       "recommendations finished on 3000/8794 queries. users per second: 99091.7"
      ]
     },
     "metadata": {},
     "output_type": "display_data"
    },
    {
     "data": {
      "text/html": [
       "<pre>recommendations finished on 4000/8794 queries. users per second: 106137</pre>"
      ],
      "text/plain": [
       "recommendations finished on 4000/8794 queries. users per second: 106137"
      ]
     },
     "metadata": {},
     "output_type": "display_data"
    },
    {
     "data": {
      "text/html": [
       "<pre>recommendations finished on 5000/8794 queries. users per second: 107439</pre>"
      ],
      "text/plain": [
       "recommendations finished on 5000/8794 queries. users per second: 107439"
      ]
     },
     "metadata": {},
     "output_type": "display_data"
    },
    {
     "data": {
      "text/html": [
       "<pre>recommendations finished on 6000/8794 queries. users per second: 108427</pre>"
      ],
      "text/plain": [
       "recommendations finished on 6000/8794 queries. users per second: 108427"
      ]
     },
     "metadata": {},
     "output_type": "display_data"
    },
    {
     "data": {
      "text/html": [
       "<pre>recommendations finished on 7000/8794 queries. users per second: 111295</pre>"
      ],
      "text/plain": [
       "recommendations finished on 7000/8794 queries. users per second: 111295"
      ]
     },
     "metadata": {},
     "output_type": "display_data"
    },
    {
     "data": {
      "text/html": [
       "<pre>recommendations finished on 8000/8794 queries. users per second: 107888</pre>"
      ],
      "text/plain": [
       "recommendations finished on 8000/8794 queries. users per second: 107888"
      ]
     },
     "metadata": {},
     "output_type": "display_data"
    },
    {
     "name": "stdout",
     "output_type": "stream",
     "text": [
      "\n",
      "Precision and recall summary statistics by cutoff\n",
      "+--------+----------------------+-----------------------+\n",
      "| cutoff |    mean_precision    |      mean_recall      |\n",
      "+--------+----------------------+-----------------------+\n",
      "|   1    | 0.00943825335455992  | 0.0058316649069535395 |\n",
      "|   2    | 0.010291107573345462 |  0.01359199219622101  |\n",
      "|   3    | 0.010764915472670724 |  0.021405189424995717 |\n",
      "|   4    | 0.00977939504207415  |   0.0259478872699451  |\n",
      "|   5    | 0.011735274050489039 |  0.040210280361653576 |\n",
      "|   6    | 0.010878629368508863 |   0.0451663109885962  |\n",
      "|   7    | 0.011078982423080667 |  0.05399998546361707  |\n",
      "|   8    | 0.010419035706163291 |  0.058253900470602325 |\n",
      "|   9    | 0.010512217926364044 |  0.06651336899843568  |\n",
      "|   10   | 0.010541278144189196 |  0.07357775863048506  |\n",
      "+--------+----------------------+-----------------------+\n",
      "[10 rows x 3 columns]\n",
      "\n",
      "\n",
      "Overall RMSE: 0.7483050295334681\n",
      "\n",
      "Per User RMSE (best)\n",
      "+------------+------+-------+\n",
      "| CustomerID | rmse | count |\n",
      "+------------+------+-------+\n",
      "|   16436    | 0.0  |   1   |\n",
      "+------------+------+-------+\n",
      "[1 rows x 3 columns]\n",
      "\n",
      "\n",
      "Per User RMSE (worst)\n",
      "+------------+--------------------+-------+\n",
      "| CustomerID |        rmse        | count |\n",
      "+------------+--------------------+-------+\n",
      "|   11032    | 3.7995885982956215 |   1   |\n",
      "+------------+--------------------+-------+\n",
      "[1 rows x 3 columns]\n",
      "\n",
      "\n",
      "Per Item RMSE (best)\n",
      "+-----------+------+-------+\n",
      "| ProductID | rmse | count |\n",
      "+-----------+------+-------+\n",
      "|    375    | 0.0  |   29  |\n",
      "+-----------+------+-------+\n",
      "[1 rows x 3 columns]\n",
      "\n",
      "\n",
      "Per Item RMSE (worst)\n",
      "+-----------+--------------------+-------+\n",
      "| ProductID |        rmse        | count |\n",
      "+-----------+--------------------+-------+\n",
      "|    225    | 1.2810756698773142 |  435  |\n",
      "+-----------+--------------------+-------+\n",
      "[1 rows x 3 columns]\n",
      "\n",
      "PROGRESS: Evaluate model Cosine Similarity on SalesOrderLineNumber\n"
     ]
    },
    {
     "data": {
      "text/html": [
       "<pre>recommendations finished on 1000/8794 queries. users per second: 78192.2</pre>"
      ],
      "text/plain": [
       "recommendations finished on 1000/8794 queries. users per second: 78192.2"
      ]
     },
     "metadata": {},
     "output_type": "display_data"
    },
    {
     "data": {
      "text/html": [
       "<pre>recommendations finished on 2000/8794 queries. users per second: 93962.9</pre>"
      ],
      "text/plain": [
       "recommendations finished on 2000/8794 queries. users per second: 93962.9"
      ]
     },
     "metadata": {},
     "output_type": "display_data"
    },
    {
     "data": {
      "text/html": [
       "<pre>recommendations finished on 3000/8794 queries. users per second: 99552</pre>"
      ],
      "text/plain": [
       "recommendations finished on 3000/8794 queries. users per second: 99552"
      ]
     },
     "metadata": {},
     "output_type": "display_data"
    },
    {
     "data": {
      "text/html": [
       "<pre>recommendations finished on 4000/8794 queries. users per second: 107296</pre>"
      ],
      "text/plain": [
       "recommendations finished on 4000/8794 queries. users per second: 107296"
      ]
     },
     "metadata": {},
     "output_type": "display_data"
    },
    {
     "data": {
      "text/html": [
       "<pre>recommendations finished on 5000/8794 queries. users per second: 106874</pre>"
      ],
      "text/plain": [
       "recommendations finished on 5000/8794 queries. users per second: 106874"
      ]
     },
     "metadata": {},
     "output_type": "display_data"
    },
    {
     "data": {
      "text/html": [
       "<pre>recommendations finished on 6000/8794 queries. users per second: 103756</pre>"
      ],
      "text/plain": [
       "recommendations finished on 6000/8794 queries. users per second: 103756"
      ]
     },
     "metadata": {},
     "output_type": "display_data"
    },
    {
     "data": {
      "text/html": [
       "<pre>recommendations finished on 7000/8794 queries. users per second: 102971</pre>"
      ],
      "text/plain": [
       "recommendations finished on 7000/8794 queries. users per second: 102971"
      ]
     },
     "metadata": {},
     "output_type": "display_data"
    },
    {
     "data": {
      "text/html": [
       "<pre>recommendations finished on 8000/8794 queries. users per second: 97042.6</pre>"
      ],
      "text/plain": [
       "recommendations finished on 8000/8794 queries. users per second: 97042.6"
      ]
     },
     "metadata": {},
     "output_type": "display_data"
    },
    {
     "name": "stdout",
     "output_type": "stream",
     "text": [
      "\n",
      "Precision and recall summary statistics by cutoff\n",
      "+--------+---------------------+---------------------+\n",
      "| cutoff |    mean_precision   |     mean_recall     |\n",
      "+--------+---------------------+---------------------+\n",
      "|   1    |  0.2607459631566976 | 0.20317285803646803 |\n",
      "|   2    | 0.19291562428928807 |  0.2948056204721845 |\n",
      "|   3    | 0.15048138882571446 | 0.34218592501404027 |\n",
      "|   4    | 0.12858198771889937 |  0.3892606658103521 |\n",
      "|   5    | 0.11394132362974749 | 0.43136596204011884 |\n",
      "|   6    | 0.10300583731331968 | 0.46798653765887493 |\n",
      "|   7    | 0.09322914974495566 | 0.49351519072284566 |\n",
      "|   8    | 0.08586820559472368 |  0.5186839155618006 |\n",
      "|   9    | 0.07986505951027223 |  0.541385541129017  |\n",
      "|   10   | 0.07464180122811012 |  0.5598354484349627 |\n",
      "+--------+---------------------+---------------------+\n",
      "[10 rows x 3 columns]\n",
      "\n",
      "\n",
      "Overall RMSE: 1.9665072267508719\n",
      "\n",
      "Per User RMSE (best)\n",
      "+------------+---------------------+-------+\n",
      "| CustomerID |         rmse        | count |\n",
      "+------------+---------------------+-------+\n",
      "|   28947    | 0.01009511947631836 |   1   |\n",
      "+------------+---------------------+-------+\n",
      "[1 rows x 3 columns]\n",
      "\n",
      "\n",
      "Per User RMSE (worst)\n",
      "+------------+-------------------+-------+\n",
      "| CustomerID |        rmse       | count |\n",
      "+------------+-------------------+-------+\n",
      "|   12291    | 5.931349033117295 |   1   |\n",
      "+------------+-------------------+-------+\n",
      "[1 rows x 3 columns]\n",
      "\n",
      "\n",
      "Per Item RMSE (best)\n",
      "+-----------+--------------------+-------+\n",
      "| ProductID |        rmse        | count |\n",
      "+-----------+--------------------+-------+\n",
      "|    584    | 0.8630184301443213 |   72  |\n",
      "+-----------+--------------------+-------+\n",
      "[1 rows x 3 columns]\n",
      "\n",
      "\n",
      "Per Item RMSE (worst)\n",
      "+-----------+--------------------+-------+\n",
      "| ProductID |        rmse        | count |\n",
      "+-----------+--------------------+-------+\n",
      "|    467    | 3.3073140147412894 |   80  |\n",
      "+-----------+--------------------+-------+\n",
      "[1 rows x 3 columns]\n",
      "\n",
      "PROGRESS: Evaluate model Pearson Similarity on SalesOrderLineNumber\n"
     ]
    },
    {
     "data": {
      "text/html": [
       "<pre>recommendations finished on 1000/8794 queries. users per second: 53812.6</pre>"
      ],
      "text/plain": [
       "recommendations finished on 1000/8794 queries. users per second: 53812.6"
      ]
     },
     "metadata": {},
     "output_type": "display_data"
    },
    {
     "data": {
      "text/html": [
       "<pre>recommendations finished on 2000/8794 queries. users per second: 69106.1</pre>"
      ],
      "text/plain": [
       "recommendations finished on 2000/8794 queries. users per second: 69106.1"
      ]
     },
     "metadata": {},
     "output_type": "display_data"
    },
    {
     "data": {
      "text/html": [
       "<pre>recommendations finished on 4000/8794 queries. users per second: 82822.6</pre>"
      ],
      "text/plain": [
       "recommendations finished on 4000/8794 queries. users per second: 82822.6"
      ]
     },
     "metadata": {},
     "output_type": "display_data"
    },
    {
     "data": {
      "text/html": [
       "<pre>recommendations finished on 3000/8794 queries. users per second: 77214.1</pre>"
      ],
      "text/plain": [
       "recommendations finished on 3000/8794 queries. users per second: 77214.1"
      ]
     },
     "metadata": {},
     "output_type": "display_data"
    },
    {
     "data": {
      "text/html": [
       "<pre>recommendations finished on 5000/8794 queries. users per second: 85612</pre>"
      ],
      "text/plain": [
       "recommendations finished on 5000/8794 queries. users per second: 85612"
      ]
     },
     "metadata": {},
     "output_type": "display_data"
    },
    {
     "data": {
      "text/html": [
       "<pre>recommendations finished on 6000/8794 queries. users per second: 86814.3</pre>"
      ],
      "text/plain": [
       "recommendations finished on 6000/8794 queries. users per second: 86814.3"
      ]
     },
     "metadata": {},
     "output_type": "display_data"
    },
    {
     "data": {
      "text/html": [
       "<pre>recommendations finished on 7000/8794 queries. users per second: 90504.8</pre>"
      ],
      "text/plain": [
       "recommendations finished on 7000/8794 queries. users per second: 90504.8"
      ]
     },
     "metadata": {},
     "output_type": "display_data"
    },
    {
     "data": {
      "text/html": [
       "<pre>recommendations finished on 8000/8794 queries. users per second: 91741</pre>"
      ],
      "text/plain": [
       "recommendations finished on 8000/8794 queries. users per second: 91741"
      ]
     },
     "metadata": {},
     "output_type": "display_data"
    },
    {
     "name": "stdout",
     "output_type": "stream",
     "text": [
      "\n",
      "Precision and recall summary statistics by cutoff\n",
      "+--------+----------------------+----------------------+\n",
      "| cutoff |    mean_precision    |     mean_recall      |\n",
      "+--------+----------------------+----------------------+\n",
      "|   1    | 0.00943825335455992  | 0.005831664906953542 |\n",
      "|   2    | 0.010347964521264512 | 0.013603363585804825 |\n",
      "|   3    | 0.010158441361534369 | 0.02011643193883091  |\n",
      "|   4    | 0.009779395042074132 | 0.025947887269945104 |\n",
      "|   5    | 0.011894473504662361 | 0.04069356441896538  |\n",
      "|   6    | 0.010859677052535857 | 0.04510945404067721  |\n",
      "|   7    | 0.01093277884271743  | 0.05303341734899345  |\n",
      "|   8    | 0.01030532181032522  | 0.05747685551570883  |\n",
      "|   9    | 0.010524852803679404 | 0.06661083805201122  |\n",
      "|   10   | 0.010654992040027247 | 0.07406970660367031  |\n",
      "+--------+----------------------+----------------------+\n",
      "[10 rows x 3 columns]\n",
      "\n",
      "\n",
      "Overall RMSE: 0.7368681427362532\n",
      "\n",
      "Per User RMSE (best)\n",
      "+------------+------+-------+\n",
      "| CustomerID | rmse | count |\n",
      "+------------+------+-------+\n",
      "|   16436    | 0.0  |   1   |\n",
      "+------------+------+-------+\n",
      "[1 rows x 3 columns]\n",
      "\n",
      "\n",
      "Per User RMSE (worst)\n",
      "+------------+------------------+-------+\n",
      "| CustomerID |       rmse       | count |\n",
      "+------------+------------------+-------+\n",
      "|   12863    | 3.70899393391675 |   3   |\n",
      "+------------+------------------+-------+\n",
      "[1 rows x 3 columns]\n",
      "\n",
      "\n",
      "Per Item RMSE (best)\n",
      "+-----------+------+-------+\n",
      "| ProductID | rmse | count |\n",
      "+-----------+------+-------+\n",
      "|    375    | 0.0  |   29  |\n",
      "+-----------+------+-------+\n",
      "[1 rows x 3 columns]\n",
      "\n",
      "\n",
      "Per Item RMSE (worst)\n",
      "+-----------+--------------------+-------+\n",
      "| ProductID |        rmse        | count |\n",
      "+-----------+--------------------+-------+\n",
      "|    225    | 1.2719228552289987 |  435  |\n",
      "+-----------+--------------------+-------+\n",
      "[1 rows x 3 columns]\n",
      "\n",
      "PROGRESS: Evaluate model Popularity Model on Purchase Dummy\n"
     ]
    },
    {
     "data": {
      "text/html": [
       "<pre>recommendations finished on 1000/8838 queries. users per second: 94091.1</pre>"
      ],
      "text/plain": [
       "recommendations finished on 1000/8838 queries. users per second: 94091.1"
      ]
     },
     "metadata": {},
     "output_type": "display_data"
    },
    {
     "data": {
      "text/html": [
       "<pre>recommendations finished on 2000/8838 queries. users per second: 110852</pre>"
      ],
      "text/plain": [
       "recommendations finished on 2000/8838 queries. users per second: 110852"
      ]
     },
     "metadata": {},
     "output_type": "display_data"
    },
    {
     "data": {
      "text/html": [
       "<pre>recommendations finished on 3000/8838 queries. users per second: 107365</pre>"
      ],
      "text/plain": [
       "recommendations finished on 3000/8838 queries. users per second: 107365"
      ]
     },
     "metadata": {},
     "output_type": "display_data"
    },
    {
     "data": {
      "text/html": [
       "<pre>recommendations finished on 4000/8838 queries. users per second: 116465</pre>"
      ],
      "text/plain": [
       "recommendations finished on 4000/8838 queries. users per second: 116465"
      ]
     },
     "metadata": {},
     "output_type": "display_data"
    },
    {
     "data": {
      "text/html": [
       "<pre>recommendations finished on 5000/8838 queries. users per second: 120814</pre>"
      ],
      "text/plain": [
       "recommendations finished on 5000/8838 queries. users per second: 120814"
      ]
     },
     "metadata": {},
     "output_type": "display_data"
    },
    {
     "data": {
      "text/html": [
       "<pre>recommendations finished on 6000/8838 queries. users per second: 124005</pre>"
      ],
      "text/plain": [
       "recommendations finished on 6000/8838 queries. users per second: 124005"
      ]
     },
     "metadata": {},
     "output_type": "display_data"
    },
    {
     "data": {
      "text/html": [
       "<pre>recommendations finished on 7000/8838 queries. users per second: 127370</pre>"
      ],
      "text/plain": [
       "recommendations finished on 7000/8838 queries. users per second: 127370"
      ]
     },
     "metadata": {},
     "output_type": "display_data"
    },
    {
     "data": {
      "text/html": [
       "<pre>recommendations finished on 8000/8838 queries. users per second: 130253</pre>"
      ],
      "text/plain": [
       "recommendations finished on 8000/8838 queries. users per second: 130253"
      ]
     },
     "metadata": {},
     "output_type": "display_data"
    },
    {
     "name": "stdout",
     "output_type": "stream",
     "text": [
      "\n",
      "Precision and recall summary statistics by cutoff\n",
      "+--------+-----------------------+-----------------------+\n",
      "| cutoff |     mean_precision    |      mean_recall      |\n",
      "+--------+-----------------------+-----------------------+\n",
      "|   1    |  0.002941842045711699 |  0.002130949686957837 |\n",
      "|   2    |  0.002376103190767145 | 0.0034227200724145745 |\n",
      "|   3    | 0.0026023987327449647 |  0.006032661989892135 |\n",
      "|   4    | 0.0025175379045032794 |  0.007795881421136009 |\n",
      "|   5    | 0.0029644715999094743 |  0.011416610092781174 |\n",
      "|   6    | 0.0034698649769932953 |  0.015936863543788184 |\n",
      "|   7    |  0.003442925031519729 |  0.01815644565135402  |\n",
      "|   8    | 0.0034085766010409596 |  0.020541977823036905 |\n",
      "|   9    | 0.0035452968243192187 |  0.02427585426567097  |\n",
      "|   10   |  0.003598099117447404 |  0.027198838349551176 |\n",
      "+--------+-----------------------+-----------------------+\n",
      "[10 rows x 3 columns]\n",
      "\n",
      "\n",
      "Overall RMSE: 0.0\n",
      "\n",
      "Per User RMSE (best)\n",
      "+------------+------+-------+\n",
      "| CustomerID | rmse | count |\n",
      "+------------+------+-------+\n",
      "|   15095    | 0.0  |   1   |\n",
      "+------------+------+-------+\n",
      "[1 rows x 3 columns]\n",
      "\n",
      "\n",
      "Per User RMSE (worst)\n",
      "+------------+------+-------+\n",
      "| CustomerID | rmse | count |\n",
      "+------------+------+-------+\n",
      "|   21855    | 0.0  |   1   |\n",
      "+------------+------+-------+\n",
      "[1 rows x 3 columns]\n",
      "\n",
      "\n",
      "Per Item RMSE (best)\n",
      "+-----------+------+-------+\n",
      "| ProductID | rmse | count |\n",
      "+-----------+------+-------+\n",
      "|    463    | 0.0  |   92  |\n",
      "+-----------+------+-------+\n",
      "[1 rows x 3 columns]\n",
      "\n",
      "\n",
      "Per Item RMSE (worst)\n",
      "+-----------+------+-------+\n",
      "| ProductID | rmse | count |\n",
      "+-----------+------+-------+\n",
      "|    537    | 0.0  |  260  |\n",
      "+-----------+------+-------+\n",
      "[1 rows x 3 columns]\n",
      "\n",
      "PROGRESS: Evaluate model Cosine Similarity on Purchase Dummy\n"
     ]
    },
    {
     "data": {
      "text/html": [
       "<pre>recommendations finished on 1000/8838 queries. users per second: 92601.2</pre>"
      ],
      "text/plain": [
       "recommendations finished on 1000/8838 queries. users per second: 92601.2"
      ]
     },
     "metadata": {},
     "output_type": "display_data"
    },
    {
     "data": {
      "text/html": [
       "<pre>recommendations finished on 2000/8838 queries. users per second: 89557.6</pre>"
      ],
      "text/plain": [
       "recommendations finished on 2000/8838 queries. users per second: 89557.6"
      ]
     },
     "metadata": {},
     "output_type": "display_data"
    },
    {
     "data": {
      "text/html": [
       "<pre>recommendations finished on 3000/8838 queries. users per second: 91449.5</pre>"
      ],
      "text/plain": [
       "recommendations finished on 3000/8838 queries. users per second: 91449.5"
      ]
     },
     "metadata": {},
     "output_type": "display_data"
    },
    {
     "data": {
      "text/html": [
       "<pre>recommendations finished on 4000/8838 queries. users per second: 94730.6</pre>"
      ],
      "text/plain": [
       "recommendations finished on 4000/8838 queries. users per second: 94730.6"
      ]
     },
     "metadata": {},
     "output_type": "display_data"
    },
    {
     "data": {
      "text/html": [
       "<pre>recommendations finished on 5000/8838 queries. users per second: 98314.9</pre>"
      ],
      "text/plain": [
       "recommendations finished on 5000/8838 queries. users per second: 98314.9"
      ]
     },
     "metadata": {},
     "output_type": "display_data"
    },
    {
     "data": {
      "text/html": [
       "<pre>recommendations finished on 6000/8838 queries. users per second: 97208.5</pre>"
      ],
      "text/plain": [
       "recommendations finished on 6000/8838 queries. users per second: 97208.5"
      ]
     },
     "metadata": {},
     "output_type": "display_data"
    },
    {
     "data": {
      "text/html": [
       "<pre>recommendations finished on 7000/8838 queries. users per second: 97051</pre>"
      ],
      "text/plain": [
       "recommendations finished on 7000/8838 queries. users per second: 97051"
      ]
     },
     "metadata": {},
     "output_type": "display_data"
    },
    {
     "data": {
      "text/html": [
       "<pre>recommendations finished on 8000/8838 queries. users per second: 95019.8</pre>"
      ],
      "text/plain": [
       "recommendations finished on 8000/8838 queries. users per second: 95019.8"
      ]
     },
     "metadata": {},
     "output_type": "display_data"
    },
    {
     "name": "stdout",
     "output_type": "stream",
     "text": [
      "\n",
      "Precision and recall summary statistics by cutoff\n",
      "+--------+---------------------+---------------------+\n",
      "| cutoff |    mean_precision   |     mean_recall     |\n",
      "+--------+---------------------+---------------------+\n",
      "|   1    | 0.26069246435845245 | 0.20520080911239372 |\n",
      "|   2    | 0.18641095270423172 |  0.2894226744861702 |\n",
      "|   3    | 0.15052425133891534 |  0.3492576852801088 |\n",
      "|   4    | 0.12624462548087795 |  0.3875422474991681 |\n",
      "|   5    | 0.11172210907445128 |  0.4289230826003023 |\n",
      "|   6    | 0.10049407859998497 |  0.4612884118851835 |\n",
      "|   7    |  0.0913910710244718 | 0.48830432800496854 |\n",
      "|   8    | 0.08331918986195967 |  0.5072643922297977 |\n",
      "|   9    | 0.07660104095949309 |  0.5232729650102654 |\n",
      "|   10   | 0.07081918986195976 |  0.5368755651709095 |\n",
      "+--------+---------------------+---------------------+\n",
      "[10 rows x 3 columns]\n",
      "\n",
      "\n",
      "Overall RMSE: 0.9147649335032153\n",
      "\n",
      "Per User RMSE (best)\n",
      "+------------+--------------------+-------+\n",
      "| CustomerID |        rmse        | count |\n",
      "+------------+--------------------+-------+\n",
      "|   26384    | 0.4351307153701782 |   1   |\n",
      "+------------+--------------------+-------+\n",
      "[1 rows x 3 columns]\n",
      "\n",
      "\n",
      "Per User RMSE (worst)\n",
      "+------------+------+-------+\n",
      "| CustomerID | rmse | count |\n",
      "+------------+------+-------+\n",
      "|   14515    | 1.0  |   2   |\n",
      "+------------+------+-------+\n",
      "[1 rows x 3 columns]\n",
      "\n",
      "\n",
      "Per Item RMSE (best)\n",
      "+-----------+--------------------+-------+\n",
      "| ProductID |        rmse        | count |\n",
      "+-----------+--------------------+-------+\n",
      "|    541    | 0.8078022134723376 |  187  |\n",
      "+-----------+--------------------+-------+\n",
      "[1 rows x 3 columns]\n",
      "\n",
      "\n",
      "Per Item RMSE (worst)\n",
      "+-----------+------+-------+\n",
      "| ProductID | rmse | count |\n",
      "+-----------+------+-------+\n",
      "|    322    | 1.0  |   3   |\n",
      "+-----------+------+-------+\n",
      "[1 rows x 3 columns]\n",
      "\n",
      "PROGRESS: Evaluate model Pearson Similarity on Purchase Dummy\n"
     ]
    },
    {
     "data": {
      "text/html": [
       "<pre>recommendations finished on 1000/8838 queries. users per second: 35832</pre>"
      ],
      "text/plain": [
       "recommendations finished on 1000/8838 queries. users per second: 35832"
      ]
     },
     "metadata": {},
     "output_type": "display_data"
    },
    {
     "data": {
      "text/html": [
       "<pre>recommendations finished on 2000/8838 queries. users per second: 54722.6</pre>"
      ],
      "text/plain": [
       "recommendations finished on 2000/8838 queries. users per second: 54722.6"
      ]
     },
     "metadata": {},
     "output_type": "display_data"
    },
    {
     "data": {
      "text/html": [
       "<pre>recommendations finished on 3000/8838 queries. users per second: 50417.6</pre>"
      ],
      "text/plain": [
       "recommendations finished on 3000/8838 queries. users per second: 50417.6"
      ]
     },
     "metadata": {},
     "output_type": "display_data"
    },
    {
     "data": {
      "text/html": [
       "<pre>recommendations finished on 4000/8838 queries. users per second: 52510</pre>"
      ],
      "text/plain": [
       "recommendations finished on 4000/8838 queries. users per second: 52510"
      ]
     },
     "metadata": {},
     "output_type": "display_data"
    },
    {
     "data": {
      "text/html": [
       "<pre>recommendations finished on 5000/8838 queries. users per second: 54014.3</pre>"
      ],
      "text/plain": [
       "recommendations finished on 5000/8838 queries. users per second: 54014.3"
      ]
     },
     "metadata": {},
     "output_type": "display_data"
    },
    {
     "data": {
      "text/html": [
       "<pre>recommendations finished on 6000/8838 queries. users per second: 57536.3</pre>"
      ],
      "text/plain": [
       "recommendations finished on 6000/8838 queries. users per second: 57536.3"
      ]
     },
     "metadata": {},
     "output_type": "display_data"
    },
    {
     "data": {
      "text/html": [
       "<pre>recommendations finished on 7000/8838 queries. users per second: 59840.8</pre>"
      ],
      "text/plain": [
       "recommendations finished on 7000/8838 queries. users per second: 59840.8"
      ]
     },
     "metadata": {},
     "output_type": "display_data"
    },
    {
     "data": {
      "text/html": [
       "<pre>recommendations finished on 8000/8838 queries. users per second: 59521.6</pre>"
      ],
      "text/plain": [
       "recommendations finished on 8000/8838 queries. users per second: 59521.6"
      ]
     },
     "metadata": {},
     "output_type": "display_data"
    },
    {
     "name": "stdout",
     "output_type": "stream",
     "text": [
      "\n",
      "Precision and recall summary statistics by cutoff\n",
      "+--------+-----------------------+-----------------------+\n",
      "| cutoff |     mean_precision    |      mean_recall      |\n",
      "+--------+-----------------------+-----------------------+\n",
      "|   1    |  0.002941842045711698 |  0.002130949686957833 |\n",
      "|   2    |  0.002376103190767142 | 0.0034227200724145698 |\n",
      "|   3    |  0.002602398732744963 |  0.006032661989892132 |\n",
      "|   4    |  0.002517537904503282 | 0.0077958814211359995 |\n",
      "|   5    | 0.0029644715999094773 |  0.011416610092781174 |\n",
      "|   6    | 0.0034698649769932923 |  0.015936863543788187 |\n",
      "|   7    |  0.003442925031519729 |  0.018156445651353985 |\n",
      "|   8    |  0.003408576601040961 |   0.0205419778230369  |\n",
      "|   9    |  0.003545296824319218 |  0.02427585426567096  |\n",
      "|   10   | 0.0035980991174474025 |  0.027198838349551165 |\n",
      "+--------+-----------------------+-----------------------+\n",
      "[10 rows x 3 columns]\n",
      "\n",
      "\n",
      "Overall RMSE: 1.0\n",
      "\n",
      "Per User RMSE (best)\n",
      "+------------+------+-------+\n",
      "| CustomerID | rmse | count |\n",
      "+------------+------+-------+\n",
      "|   15095    | 1.0  |   1   |\n",
      "+------------+------+-------+\n",
      "[1 rows x 3 columns]\n",
      "\n",
      "\n",
      "Per User RMSE (worst)\n",
      "+------------+------+-------+\n",
      "| CustomerID | rmse | count |\n",
      "+------------+------+-------+\n",
      "|   21855    | 1.0  |   1   |\n",
      "+------------+------+-------+\n",
      "[1 rows x 3 columns]\n",
      "\n",
      "\n",
      "Per Item RMSE (best)\n",
      "+-----------+------+-------+\n",
      "| ProductID | rmse | count |\n",
      "+-----------+------+-------+\n",
      "|    463    | 1.0  |   92  |\n",
      "+-----------+------+-------+\n",
      "[1 rows x 3 columns]\n",
      "\n",
      "\n",
      "Per Item RMSE (worst)\n",
      "+-----------+------+-------+\n",
      "| ProductID | rmse | count |\n",
      "+-----------+------+-------+\n",
      "|    537    | 1.0  |  260  |\n",
      "+-----------+------+-------+\n",
      "[1 rows x 3 columns]\n",
      "\n",
      "PROGRESS: Evaluate model Popularity Model on Scaled Purchase Counts\n"
     ]
    },
    {
     "data": {
      "text/html": [
       "<pre>recommendations finished on 1000/7432 queries. users per second: 59513.2</pre>"
      ],
      "text/plain": [
       "recommendations finished on 1000/7432 queries. users per second: 59513.2"
      ]
     },
     "metadata": {},
     "output_type": "display_data"
    },
    {
     "data": {
      "text/html": [
       "<pre>recommendations finished on 2000/7432 queries. users per second: 84631</pre>"
      ],
      "text/plain": [
       "recommendations finished on 2000/7432 queries. users per second: 84631"
      ]
     },
     "metadata": {},
     "output_type": "display_data"
    },
    {
     "data": {
      "text/html": [
       "<pre>recommendations finished on 3000/7432 queries. users per second: 92744.3</pre>"
      ],
      "text/plain": [
       "recommendations finished on 3000/7432 queries. users per second: 92744.3"
      ]
     },
     "metadata": {},
     "output_type": "display_data"
    },
    {
     "data": {
      "text/html": [
       "<pre>recommendations finished on 4000/7432 queries. users per second: 102690</pre>"
      ],
      "text/plain": [
       "recommendations finished on 4000/7432 queries. users per second: 102690"
      ]
     },
     "metadata": {},
     "output_type": "display_data"
    },
    {
     "data": {
      "text/html": [
       "<pre>recommendations finished on 5000/7432 queries. users per second: 107147</pre>"
      ],
      "text/plain": [
       "recommendations finished on 5000/7432 queries. users per second: 107147"
      ]
     },
     "metadata": {},
     "output_type": "display_data"
    },
    {
     "data": {
      "text/html": [
       "<pre>recommendations finished on 6000/7432 queries. users per second: 106212</pre>"
      ],
      "text/plain": [
       "recommendations finished on 6000/7432 queries. users per second: 106212"
      ]
     },
     "metadata": {},
     "output_type": "display_data"
    },
    {
     "data": {
      "text/html": [
       "<pre>recommendations finished on 7000/7432 queries. users per second: 103068</pre>"
      ],
      "text/plain": [
       "recommendations finished on 7000/7432 queries. users per second: 103068"
      ]
     },
     "metadata": {},
     "output_type": "display_data"
    },
    {
     "name": "stdout",
     "output_type": "stream",
     "text": [
      "\n",
      "Precision and recall summary statistics by cutoff\n",
      "+--------+----------------------+----------------------+\n",
      "| cutoff |    mean_precision    |     mean_recall      |\n",
      "+--------+----------------------+----------------------+\n",
      "|   1    | 0.01278256189451023  | 0.009809254702957614 |\n",
      "|   2    | 0.013388051668460715 | 0.019566984041553465 |\n",
      "|   3    | 0.01614639397201286  | 0.03671259632306456  |\n",
      "|   4    | 0.01365715823466093  | 0.04108798076101628  |\n",
      "|   5    | 0.011948331539289642 | 0.04504982743007498  |\n",
      "|   6    | 0.011078220308575538 | 0.05023012882942915  |\n",
      "|   7    | 0.012052129786252506 | 0.06388216122473372  |\n",
      "|   8    | 0.012042518837459637 | 0.07264809404206601  |\n",
      "|   9    | 0.011990192560698613 | 0.08069470073641224  |\n",
      "|   10   | 0.011719590958019353 | 0.08732027525757342  |\n",
      "+--------+----------------------+----------------------+\n",
      "[10 rows x 3 columns]\n",
      "\n",
      "\n",
      "Overall RMSE: 0.19775583281588435\n",
      "\n",
      "Per User RMSE (best)\n",
      "+------------+------+-------+\n",
      "| CustomerID | rmse | count |\n",
      "+------------+------+-------+\n",
      "|   28513    | 0.0  |   1   |\n",
      "+------------+------+-------+\n",
      "[1 rows x 3 columns]\n",
      "\n",
      "\n",
      "Per User RMSE (worst)\n",
      "+------------+------+-------+\n",
      "| CustomerID | rmse | count |\n",
      "+------------+------+-------+\n",
      "|   19308    | 1.0  |   1   |\n",
      "+------------+------+-------+\n",
      "[1 rows x 3 columns]\n",
      "\n",
      "\n",
      "Per Item RMSE (best)\n",
      "+-----------+----------------------+-------+\n",
      "| ProductID |         rmse         | count |\n",
      "+-----------+----------------------+-------+\n",
      "|    582    | 0.005405405405405406 |   31  |\n",
      "+-----------+----------------------+-------+\n",
      "[1 rows x 3 columns]\n",
      "\n",
      "\n",
      "Per Item RMSE (worst)\n",
      "+-----------+--------------------+-------+\n",
      "| ProductID |        rmse        | count |\n",
      "+-----------+--------------------+-------+\n",
      "|    537    | 0.3038284860559024 |  296  |\n",
      "+-----------+--------------------+-------+\n",
      "[1 rows x 3 columns]\n",
      "\n",
      "PROGRESS: Evaluate model Cosine Similarity on Scaled Purchase Counts\n"
     ]
    },
    {
     "data": {
      "text/html": [
       "<pre>recommendations finished on 1000/7432 queries. users per second: 16661.7</pre>"
      ],
      "text/plain": [
       "recommendations finished on 1000/7432 queries. users per second: 16661.7"
      ]
     },
     "metadata": {},
     "output_type": "display_data"
    },
    {
     "data": {
      "text/html": [
       "<pre>recommendations finished on 2000/7432 queries. users per second: 28168.6</pre>"
      ],
      "text/plain": [
       "recommendations finished on 2000/7432 queries. users per second: 28168.6"
      ]
     },
     "metadata": {},
     "output_type": "display_data"
    },
    {
     "data": {
      "text/html": [
       "<pre>recommendations finished on 3000/7432 queries. users per second: 25213.1</pre>"
      ],
      "text/plain": [
       "recommendations finished on 3000/7432 queries. users per second: 25213.1"
      ]
     },
     "metadata": {},
     "output_type": "display_data"
    },
    {
     "data": {
      "text/html": [
       "<pre>recommendations finished on 4000/7432 queries. users per second: 30786.8</pre>"
      ],
      "text/plain": [
       "recommendations finished on 4000/7432 queries. users per second: 30786.8"
      ]
     },
     "metadata": {},
     "output_type": "display_data"
    },
    {
     "data": {
      "text/html": [
       "<pre>recommendations finished on 5000/7432 queries. users per second: 35819.2</pre>"
      ],
      "text/plain": [
       "recommendations finished on 5000/7432 queries. users per second: 35819.2"
      ]
     },
     "metadata": {},
     "output_type": "display_data"
    },
    {
     "data": {
      "text/html": [
       "<pre>recommendations finished on 6000/7432 queries. users per second: 39961.1</pre>"
      ],
      "text/plain": [
       "recommendations finished on 6000/7432 queries. users per second: 39961.1"
      ]
     },
     "metadata": {},
     "output_type": "display_data"
    },
    {
     "data": {
      "text/html": [
       "<pre>recommendations finished on 7000/7432 queries. users per second: 42062.3</pre>"
      ],
      "text/plain": [
       "recommendations finished on 7000/7432 queries. users per second: 42062.3"
      ]
     },
     "metadata": {},
     "output_type": "display_data"
    },
    {
     "name": "stdout",
     "output_type": "stream",
     "text": [
      "\n",
      "Precision and recall summary statistics by cutoff\n",
      "+--------+---------------------+---------------------+\n",
      "| cutoff |    mean_precision   |     mean_recall     |\n",
      "+--------+---------------------+---------------------+\n",
      "|   1    |  0.2568622174381055 |  0.2073619867753342 |\n",
      "|   2    | 0.19227664155005378 | 0.30709731192441087 |\n",
      "|   3    | 0.15217976318622176 |  0.3596051822235891 |\n",
      "|   4    |  0.1283301937567275 |  0.4000577724810767 |\n",
      "|   5    | 0.11550053821313225 | 0.44762134356792616 |\n",
      "|   6    | 0.10557947613921767 |  0.4884155496608406 |\n",
      "|   7    | 0.09609026603106244 |  0.5168744233430717 |\n",
      "|   8    | 0.08919200753498391 |  0.5473373400310958 |\n",
      "|   9    | 0.08349778734601132 |  0.5766373853093446 |\n",
      "|   10   | 0.07835037674919271 |  0.6015992618791327 |\n",
      "+--------+---------------------+---------------------+\n",
      "[10 rows x 3 columns]\n",
      "\n",
      "\n",
      "Overall RMSE: 0.2976084799554144\n",
      "\n",
      "Per User RMSE (best)\n",
      "+------------+------+-------+\n",
      "| CustomerID | rmse | count |\n",
      "+------------+------+-------+\n",
      "|   23586    | 0.0  |   1   |\n",
      "+------------+------+-------+\n",
      "[1 rows x 3 columns]\n",
      "\n",
      "\n",
      "Per User RMSE (worst)\n",
      "+------------+------+-------+\n",
      "| CustomerID | rmse | count |\n",
      "+------------+------+-------+\n",
      "|   28954    | 1.0  |   1   |\n",
      "+------------+------+-------+\n",
      "[1 rows x 3 columns]\n",
      "\n",
      "\n",
      "Per Item RMSE (best)\n",
      "+-----------+------+-------+\n",
      "| ProductID | rmse | count |\n",
      "+-----------+------+-------+\n",
      "|    586    | 0.0  |   9   |\n",
      "+-----------+------+-------+\n",
      "[1 rows x 3 columns]\n",
      "\n",
      "\n",
      "Per Item RMSE (worst)\n",
      "+-----------+--------------------+-------+\n",
      "| ProductID |        rmse        | count |\n",
      "+-----------+--------------------+-------+\n",
      "|    471    | 0.4858642524830446 |   26  |\n",
      "+-----------+--------------------+-------+\n",
      "[1 rows x 3 columns]\n",
      "\n",
      "PROGRESS: Evaluate model Pearson Similarity on Scaled Purchase Counts\n"
     ]
    },
    {
     "data": {
      "text/html": [
       "<pre>recommendations finished on 1000/7432 queries. users per second: 33622.5</pre>"
      ],
      "text/plain": [
       "recommendations finished on 1000/7432 queries. users per second: 33622.5"
      ]
     },
     "metadata": {},
     "output_type": "display_data"
    },
    {
     "data": {
      "text/html": [
       "<pre>recommendations finished on 2000/7432 queries. users per second: 50886.7</pre>"
      ],
      "text/plain": [
       "recommendations finished on 2000/7432 queries. users per second: 50886.7"
      ]
     },
     "metadata": {},
     "output_type": "display_data"
    },
    {
     "data": {
      "text/html": [
       "<pre>recommendations finished on 3000/7432 queries. users per second: 60802.6</pre>"
      ],
      "text/plain": [
       "recommendations finished on 3000/7432 queries. users per second: 60802.6"
      ]
     },
     "metadata": {},
     "output_type": "display_data"
    },
    {
     "data": {
      "text/html": [
       "<pre>recommendations finished on 4000/7432 queries. users per second: 70451.1</pre>"
      ],
      "text/plain": [
       "recommendations finished on 4000/7432 queries. users per second: 70451.1"
      ]
     },
     "metadata": {},
     "output_type": "display_data"
    },
    {
     "data": {
      "text/html": [
       "<pre>recommendations finished on 5000/7432 queries. users per second: 77294.1</pre>"
      ],
      "text/plain": [
       "recommendations finished on 5000/7432 queries. users per second: 77294.1"
      ]
     },
     "metadata": {},
     "output_type": "display_data"
    },
    {
     "data": {
      "text/html": [
       "<pre>recommendations finished on 6000/7432 queries. users per second: 79509.2</pre>"
      ],
      "text/plain": [
       "recommendations finished on 6000/7432 queries. users per second: 79509.2"
      ]
     },
     "metadata": {},
     "output_type": "display_data"
    },
    {
     "data": {
      "text/html": [
       "<pre>recommendations finished on 7000/7432 queries. users per second: 82031.6</pre>"
      ],
      "text/plain": [
       "recommendations finished on 7000/7432 queries. users per second: 82031.6"
      ]
     },
     "metadata": {},
     "output_type": "display_data"
    },
    {
     "name": "stdout",
     "output_type": "stream",
     "text": [
      "\n",
      "Precision and recall summary statistics by cutoff\n",
      "+--------+----------------------+----------------------+\n",
      "| cutoff |    mean_precision    |     mean_recall      |\n",
      "+--------+----------------------+----------------------+\n",
      "|   1    | 0.012782561894510222 | 0.009809254702957607 |\n",
      "|   2    | 0.014128094725511305 | 0.020430367608112475 |\n",
      "|   3    | 0.014576605669178299 | 0.03257508286773638  |\n",
      "|   4    | 0.013858988159311091 | 0.041525278931091626 |\n",
      "|   5    | 0.012351991388589948 | 0.04618231756283424  |\n",
      "|   6    | 0.011930391101542889 | 0.05406489739778222  |\n",
      "|   7    | 0.011783023220052327 | 0.062267521827532556 |\n",
      "|   8    | 0.011958423035522065 |  0.0719080509850155  |\n",
      "|   9    | 0.01187058964238739  | 0.07987616826421995  |\n",
      "|   10   | 0.011652314316469327 | 0.08657574709108623  |\n",
      "+--------+----------------------+----------------------+\n",
      "[10 rows x 3 columns]\n",
      "\n",
      "\n",
      "Overall RMSE: 0.194982552259827\n",
      "\n",
      "Per User RMSE (best)\n",
      "+------------+------+-------+\n",
      "| CustomerID | rmse | count |\n",
      "+------------+------+-------+\n",
      "|   28513    | 0.0  |   1   |\n",
      "+------------+------+-------+\n",
      "[1 rows x 3 columns]\n",
      "\n",
      "\n",
      "Per User RMSE (worst)\n",
      "+------------+------+-------+\n",
      "| CustomerID | rmse | count |\n",
      "+------------+------+-------+\n",
      "|   19308    | 1.0  |   1   |\n",
      "+------------+------+-------+\n",
      "[1 rows x 3 columns]\n",
      "\n",
      "\n",
      "Per Item RMSE (best)\n",
      "+-----------+----------------------+-------+\n",
      "| ProductID |         rmse         | count |\n",
      "+-----------+----------------------+-------+\n",
      "|    582    | 0.005406212632842962 |   31  |\n",
      "+-----------+----------------------+-------+\n",
      "[1 rows x 3 columns]\n",
      "\n",
      "\n",
      "Per Item RMSE (worst)\n",
      "+-----------+--------------------+-------+\n",
      "| ProductID |        rmse        | count |\n",
      "+-----------+--------------------+-------+\n",
      "|    592    | 0.3030449016937084 |   10  |\n",
      "+-----------+--------------------+-------+\n",
      "[1 rows x 3 columns]\n",
      "\n"
     ]
    }
   ],
   "source": [
    "#Lets compare all the models we have built based on RMSE and precision-recall characteristics:\n",
    "\n",
    "eval_counts = tc.recommender.util.compare_models(test_data, models_w_counts, model_names=names_w_counts)\n",
    "eval_dummy = tc.recommender.util.compare_models(test_data_dummy, models_w_dummy, model_names=names_w_dummy)\n",
    "eval_norm = tc.recommender.util.compare_models(test_data_norm, models_w_norm, model_names=names_w_norm)"
   ]
  },
  {
   "cell_type": "markdown",
   "metadata": {},
   "source": [
    "# Evaluation Summary\n",
    "\n",
    "### Popularity v. Collaborative Filtering: \n",
    "We can see that the collaborative filtering algorithms work better than popularity model for SalesOrderLineNumber. Indeed, popularity model doesn’t give any personalizations as it only gives the same list of recommended items to every user.\n",
    "\n",
    "### Precision and recall:\n",
    "Looking at the summary above, we see that the precision and recall for SalesOrderLineNumber > Purchase Dummy > Normalized SalesOrderLineNumber. However, because the recommendation scores for the normalized purchase data is zero and constant, we choose the dummy. In fact, the RMSE isn’t much different between models on the dummy and those on the normalized data.\n",
    "\n",
    "### RMSE: \n",
    "Since RMSE is higher using pearson distance than cosine, we would choose model the smaller mean squared errors, which in this case would be cosine.\n",
    "\n",
    "# Final Output"
   ]
  },
  {
   "cell_type": "code",
   "execution_count": 24,
   "metadata": {},
   "outputs": [
    {
     "data": {
      "text/html": [
       "<pre>Preparing data set.</pre>"
      ],
      "text/plain": [
       "Preparing data set."
      ]
     },
     "metadata": {},
     "output_type": "display_data"
    },
    {
     "data": {
      "text/html": [
       "<pre>    Data has 48140 observations with 17472 users and 73 items.</pre>"
      ],
      "text/plain": [
       "    Data has 48140 observations with 17472 users and 73 items."
      ]
     },
     "metadata": {},
     "output_type": "display_data"
    },
    {
     "data": {
      "text/html": [
       "<pre>    Data prepared in: 0.091487s</pre>"
      ],
      "text/plain": [
       "    Data prepared in: 0.091487s"
      ]
     },
     "metadata": {},
     "output_type": "display_data"
    },
    {
     "data": {
      "text/html": [
       "<pre>Training model from provided data.</pre>"
      ],
      "text/plain": [
       "Training model from provided data."
      ]
     },
     "metadata": {},
     "output_type": "display_data"
    },
    {
     "data": {
      "text/html": [
       "<pre>Gathering per-item and per-user statistics.</pre>"
      ],
      "text/plain": [
       "Gathering per-item and per-user statistics."
      ]
     },
     "metadata": {},
     "output_type": "display_data"
    },
    {
     "data": {
      "text/html": [
       "<pre>+--------------------------------+------------+</pre>"
      ],
      "text/plain": [
       "+--------------------------------+------------+"
      ]
     },
     "metadata": {},
     "output_type": "display_data"
    },
    {
     "data": {
      "text/html": [
       "<pre>| Elapsed Time (Item Statistics) | % Complete |</pre>"
      ],
      "text/plain": [
       "| Elapsed Time (Item Statistics) | % Complete |"
      ]
     },
     "metadata": {},
     "output_type": "display_data"
    },
    {
     "data": {
      "text/html": [
       "<pre>+--------------------------------+------------+</pre>"
      ],
      "text/plain": [
       "+--------------------------------+------------+"
      ]
     },
     "metadata": {},
     "output_type": "display_data"
    },
    {
     "data": {
      "text/html": [
       "<pre>| 1.793ms                        | 5.5        |</pre>"
      ],
      "text/plain": [
       "| 1.793ms                        | 5.5        |"
      ]
     },
     "metadata": {},
     "output_type": "display_data"
    },
    {
     "data": {
      "text/html": [
       "<pre>| 9.986ms                        | 100        |</pre>"
      ],
      "text/plain": [
       "| 9.986ms                        | 100        |"
      ]
     },
     "metadata": {},
     "output_type": "display_data"
    },
    {
     "data": {
      "text/html": [
       "<pre>+--------------------------------+------------+</pre>"
      ],
      "text/plain": [
       "+--------------------------------+------------+"
      ]
     },
     "metadata": {},
     "output_type": "display_data"
    },
    {
     "data": {
      "text/html": [
       "<pre>Setting up lookup tables.</pre>"
      ],
      "text/plain": [
       "Setting up lookup tables."
      ]
     },
     "metadata": {},
     "output_type": "display_data"
    },
    {
     "data": {
      "text/html": [
       "<pre>Processing data in one pass using dense lookup tables.</pre>"
      ],
      "text/plain": [
       "Processing data in one pass using dense lookup tables."
      ]
     },
     "metadata": {},
     "output_type": "display_data"
    },
    {
     "data": {
      "text/html": [
       "<pre>+-------------------------------------+------------------+-----------------+</pre>"
      ],
      "text/plain": [
       "+-------------------------------------+------------------+-----------------+"
      ]
     },
     "metadata": {},
     "output_type": "display_data"
    },
    {
     "data": {
      "text/html": [
       "<pre>| Elapsed Time (Constructing Lookups) | Total % Complete | Items Processed |</pre>"
      ],
      "text/plain": [
       "| Elapsed Time (Constructing Lookups) | Total % Complete | Items Processed |"
      ]
     },
     "metadata": {},
     "output_type": "display_data"
    },
    {
     "data": {
      "text/html": [
       "<pre>+-------------------------------------+------------------+-----------------+</pre>"
      ],
      "text/plain": [
       "+-------------------------------------+------------------+-----------------+"
      ]
     },
     "metadata": {},
     "output_type": "display_data"
    },
    {
     "data": {
      "text/html": [
       "<pre>| 12.269ms                            | 0                | 0               |</pre>"
      ],
      "text/plain": [
       "| 12.269ms                            | 0                | 0               |"
      ]
     },
     "metadata": {},
     "output_type": "display_data"
    },
    {
     "data": {
      "text/html": [
       "<pre>| 66.622ms                            | 100              | 73              |</pre>"
      ],
      "text/plain": [
       "| 66.622ms                            | 100              | 73              |"
      ]
     },
     "metadata": {},
     "output_type": "display_data"
    },
    {
     "data": {
      "text/html": [
       "<pre>+-------------------------------------+------------------+-----------------+</pre>"
      ],
      "text/plain": [
       "+-------------------------------------+------------------+-----------------+"
      ]
     },
     "metadata": {},
     "output_type": "display_data"
    },
    {
     "name": "stdout",
     "output_type": "stream",
     "text": [
      "+------------+-----------+----------------------+------+\n",
      "| CustomerID | ProductID |        score         | rank |\n",
      "+------------+-----------+----------------------+------+\n",
      "|   21768    |    477    | 0.024141215085983277 |  1   |\n",
      "|   21768    |    528    | 0.017641897201538085 |  2   |\n",
      "|   21768    |    478    | 0.017101408243179322 |  3   |\n",
      "|   21768    |    485    | 0.017007005214691163 |  4   |\n",
      "|   21768    |    225    | 0.015925196409225465 |  5   |\n",
      "|   21768    |    480    | 0.015025767087936402 |  6   |\n",
      "|   21768    |    479    | 0.014914838075637817 |  7   |\n",
      "|   21768    |    214    | 0.014421181678771973 |  8   |\n",
      "|   21768    |    222    | 0.014229209423065185 |  9   |\n",
      "|   21768    |    217    | 0.014191017150878907 |  10  |\n",
      "|   28389    |    477    | 0.024141215085983277 |  1   |\n",
      "|   28389    |    528    | 0.017641897201538085 |  2   |\n",
      "|   28389    |    478    | 0.017101408243179322 |  3   |\n",
      "|   28389    |    485    | 0.017007005214691163 |  4   |\n",
      "|   28389    |    225    | 0.015925196409225465 |  5   |\n",
      "|   28389    |    480    | 0.015025767087936402 |  6   |\n",
      "|   28389    |    479    | 0.014914838075637817 |  7   |\n",
      "|   28389    |    214    | 0.014421181678771973 |  8   |\n",
      "|   28389    |    222    | 0.014229209423065185 |  9   |\n",
      "|   28389    |    217    | 0.014191017150878907 |  10  |\n",
      "|   25863    |    484    |  0.0454777330160141  |  1   |\n",
      "|   25863    |    478    | 0.04228951036930084  |  2   |\n",
      "|   25863    |    225    | 0.04173915088176727  |  3   |\n",
      "|   25863    |    528    | 0.041154518723487854 |  4   |\n",
      "|   25863    |    537    | 0.035557299852371216 |  5   |\n",
      "|   25863    |    214    | 0.03130894899368286  |  6   |\n",
      "|   25863    |    530    | 0.031263917684555054 |  7   |\n",
      "|   25863    |    222    | 0.030843526124954224 |  8   |\n",
      "|   25863    |    487    | 0.02979092299938202  |  9   |\n",
      "|   25863    |    529    | 0.029029294848442078 |  10  |\n",
      "+------------+-----------+----------------------+------+\n",
      "[603980 rows x 4 columns]\n",
      "\n"
     ]
    },
    {
     "data": {
      "text/html": [
       "<pre>Finalizing lookup tables.</pre>"
      ],
      "text/plain": [
       "Finalizing lookup tables."
      ]
     },
     "metadata": {},
     "output_type": "display_data"
    },
    {
     "data": {
      "text/html": [
       "<pre>Generating candidate set for working with new users.</pre>"
      ],
      "text/plain": [
       "Generating candidate set for working with new users."
      ]
     },
     "metadata": {},
     "output_type": "display_data"
    }
   ],
   "source": [
    "final_model = tc.item_similarity_recommender.create(tc.SFrame(data_norm), \n",
    "                                            user_id=user_id, \n",
    "                                            item_id=item_id, \n",
    "                                            target= target,\n",
    "                                                    similarity_type ='cosine')\n",
    "\n",
    "recom = final_model.recommend(users=users_to_recommend, k=n_rec)\n",
    "recom.print_rows(n_display)"
   ]
  },
  {
   "cell_type": "markdown",
   "metadata": {},
   "source": [
    "# CSV output file"
   ]
  },
  {
   "cell_type": "code",
   "execution_count": 25,
   "metadata": {},
   "outputs": [
    {
     "data": {
      "text/html": [
       "<pre>Finished training in 0.088104s</pre>"
      ],
      "text/plain": [
       "Finished training in 0.088104s"
      ]
     },
     "metadata": {},
     "output_type": "display_data"
    },
    {
     "data": {
      "text/html": [
       "<pre>recommendations finished on 1000/60398 queries. users per second: 18628.9</pre>"
      ],
      "text/plain": [
       "recommendations finished on 1000/60398 queries. users per second: 18628.9"
      ]
     },
     "metadata": {},
     "output_type": "display_data"
    },
    {
     "data": {
      "text/html": [
       "<pre>recommendations finished on 2000/60398 queries. users per second: 33596.5</pre>"
      ],
      "text/plain": [
       "recommendations finished on 2000/60398 queries. users per second: 33596.5"
      ]
     },
     "metadata": {},
     "output_type": "display_data"
    },
    {
     "data": {
      "text/html": [
       "<pre>recommendations finished on 3000/60398 queries. users per second: 39604</pre>"
      ],
      "text/plain": [
       "recommendations finished on 3000/60398 queries. users per second: 39604"
      ]
     },
     "metadata": {},
     "output_type": "display_data"
    },
    {
     "data": {
      "text/html": [
       "<pre>recommendations finished on 4000/60398 queries. users per second: 48406.8</pre>"
      ],
      "text/plain": [
       "recommendations finished on 4000/60398 queries. users per second: 48406.8"
      ]
     },
     "metadata": {},
     "output_type": "display_data"
    },
    {
     "data": {
      "text/html": [
       "<pre>recommendations finished on 5000/60398 queries. users per second: 56608.5</pre>"
      ],
      "text/plain": [
       "recommendations finished on 5000/60398 queries. users per second: 56608.5"
      ]
     },
     "metadata": {},
     "output_type": "display_data"
    },
    {
     "data": {
      "text/html": [
       "<pre>recommendations finished on 6000/60398 queries. users per second: 65742.6</pre>"
      ],
      "text/plain": [
       "recommendations finished on 6000/60398 queries. users per second: 65742.6"
      ]
     },
     "metadata": {},
     "output_type": "display_data"
    },
    {
     "data": {
      "text/html": [
       "<pre>recommendations finished on 7000/60398 queries. users per second: 72954.7</pre>"
      ],
      "text/plain": [
       "recommendations finished on 7000/60398 queries. users per second: 72954.7"
      ]
     },
     "metadata": {},
     "output_type": "display_data"
    },
    {
     "data": {
      "text/html": [
       "<pre>recommendations finished on 8000/60398 queries. users per second: 78521.4</pre>"
      ],
      "text/plain": [
       "recommendations finished on 8000/60398 queries. users per second: 78521.4"
      ]
     },
     "metadata": {},
     "output_type": "display_data"
    },
    {
     "data": {
      "text/html": [
       "<pre>recommendations finished on 9000/60398 queries. users per second: 84945.7</pre>"
      ],
      "text/plain": [
       "recommendations finished on 9000/60398 queries. users per second: 84945.7"
      ]
     },
     "metadata": {},
     "output_type": "display_data"
    },
    {
     "data": {
      "text/html": [
       "<pre>recommendations finished on 10000/60398 queries. users per second: 91426.1</pre>"
      ],
      "text/plain": [
       "recommendations finished on 10000/60398 queries. users per second: 91426.1"
      ]
     },
     "metadata": {},
     "output_type": "display_data"
    },
    {
     "data": {
      "text/html": [
       "<pre>recommendations finished on 11000/60398 queries. users per second: 97859.5</pre>"
      ],
      "text/plain": [
       "recommendations finished on 11000/60398 queries. users per second: 97859.5"
      ]
     },
     "metadata": {},
     "output_type": "display_data"
    },
    {
     "data": {
      "text/html": [
       "<pre>recommendations finished on 12000/60398 queries. users per second: 103983</pre>"
      ],
      "text/plain": [
       "recommendations finished on 12000/60398 queries. users per second: 103983"
      ]
     },
     "metadata": {},
     "output_type": "display_data"
    },
    {
     "data": {
      "text/html": [
       "<pre>recommendations finished on 13000/60398 queries. users per second: 108919</pre>"
      ],
      "text/plain": [
       "recommendations finished on 13000/60398 queries. users per second: 108919"
      ]
     },
     "metadata": {},
     "output_type": "display_data"
    },
    {
     "data": {
      "text/html": [
       "<pre>recommendations finished on 14000/60398 queries. users per second: 111014</pre>"
      ],
      "text/plain": [
       "recommendations finished on 14000/60398 queries. users per second: 111014"
      ]
     },
     "metadata": {},
     "output_type": "display_data"
    },
    {
     "data": {
      "text/html": [
       "<pre>recommendations finished on 15000/60398 queries. users per second: 113243</pre>"
      ],
      "text/plain": [
       "recommendations finished on 15000/60398 queries. users per second: 113243"
      ]
     },
     "metadata": {},
     "output_type": "display_data"
    },
    {
     "data": {
      "text/html": [
       "<pre>recommendations finished on 16000/60398 queries. users per second: 115867</pre>"
      ],
      "text/plain": [
       "recommendations finished on 16000/60398 queries. users per second: 115867"
      ]
     },
     "metadata": {},
     "output_type": "display_data"
    },
    {
     "data": {
      "text/html": [
       "<pre>recommendations finished on 17000/60398 queries. users per second: 116846</pre>"
      ],
      "text/plain": [
       "recommendations finished on 17000/60398 queries. users per second: 116846"
      ]
     },
     "metadata": {},
     "output_type": "display_data"
    },
    {
     "data": {
      "text/html": [
       "<pre>recommendations finished on 18000/60398 queries. users per second: 117852</pre>"
      ],
      "text/plain": [
       "recommendations finished on 18000/60398 queries. users per second: 117852"
      ]
     },
     "metadata": {},
     "output_type": "display_data"
    },
    {
     "data": {
      "text/html": [
       "<pre>recommendations finished on 19000/60398 queries. users per second: 119428</pre>"
      ],
      "text/plain": [
       "recommendations finished on 19000/60398 queries. users per second: 119428"
      ]
     },
     "metadata": {},
     "output_type": "display_data"
    },
    {
     "data": {
      "text/html": [
       "<pre>recommendations finished on 20000/60398 queries. users per second: 121137</pre>"
      ],
      "text/plain": [
       "recommendations finished on 20000/60398 queries. users per second: 121137"
      ]
     },
     "metadata": {},
     "output_type": "display_data"
    },
    {
     "data": {
      "text/html": [
       "<pre>recommendations finished on 21000/60398 queries. users per second: 123604</pre>"
      ],
      "text/plain": [
       "recommendations finished on 21000/60398 queries. users per second: 123604"
      ]
     },
     "metadata": {},
     "output_type": "display_data"
    },
    {
     "data": {
      "text/html": [
       "<pre>recommendations finished on 22000/60398 queries. users per second: 125772</pre>"
      ],
      "text/plain": [
       "recommendations finished on 22000/60398 queries. users per second: 125772"
      ]
     },
     "metadata": {},
     "output_type": "display_data"
    },
    {
     "data": {
      "text/html": [
       "<pre>recommendations finished on 23000/60398 queries. users per second: 128135</pre>"
      ],
      "text/plain": [
       "recommendations finished on 23000/60398 queries. users per second: 128135"
      ]
     },
     "metadata": {},
     "output_type": "display_data"
    },
    {
     "data": {
      "text/html": [
       "<pre>recommendations finished on 24000/60398 queries. users per second: 130400</pre>"
      ],
      "text/plain": [
       "recommendations finished on 24000/60398 queries. users per second: 130400"
      ]
     },
     "metadata": {},
     "output_type": "display_data"
    },
    {
     "data": {
      "text/html": [
       "<pre>recommendations finished on 25000/60398 queries. users per second: 132816</pre>"
      ],
      "text/plain": [
       "recommendations finished on 25000/60398 queries. users per second: 132816"
      ]
     },
     "metadata": {},
     "output_type": "display_data"
    },
    {
     "data": {
      "text/html": [
       "<pre>recommendations finished on 26000/60398 queries. users per second: 134335</pre>"
      ],
      "text/plain": [
       "recommendations finished on 26000/60398 queries. users per second: 134335"
      ]
     },
     "metadata": {},
     "output_type": "display_data"
    },
    {
     "data": {
      "text/html": [
       "<pre>recommendations finished on 27000/60398 queries. users per second: 135709</pre>"
      ],
      "text/plain": [
       "recommendations finished on 27000/60398 queries. users per second: 135709"
      ]
     },
     "metadata": {},
     "output_type": "display_data"
    },
    {
     "data": {
      "text/html": [
       "<pre>recommendations finished on 29000/60398 queries. users per second: 140328</pre>"
      ],
      "text/plain": [
       "recommendations finished on 29000/60398 queries. users per second: 140328"
      ]
     },
     "metadata": {},
     "output_type": "display_data"
    },
    {
     "data": {
      "text/html": [
       "<pre>recommendations finished on 28000/60398 queries. users per second: 138154</pre>"
      ],
      "text/plain": [
       "recommendations finished on 28000/60398 queries. users per second: 138154"
      ]
     },
     "metadata": {},
     "output_type": "display_data"
    },
    {
     "data": {
      "text/html": [
       "<pre>recommendations finished on 30000/60398 queries. users per second: 141991</pre>"
      ],
      "text/plain": [
       "recommendations finished on 30000/60398 queries. users per second: 141991"
      ]
     },
     "metadata": {},
     "output_type": "display_data"
    },
    {
     "data": {
      "text/html": [
       "<pre>recommendations finished on 31000/60398 queries. users per second: 144108</pre>"
      ],
      "text/plain": [
       "recommendations finished on 31000/60398 queries. users per second: 144108"
      ]
     },
     "metadata": {},
     "output_type": "display_data"
    },
    {
     "data": {
      "text/html": [
       "<pre>recommendations finished on 32000/60398 queries. users per second: 144141</pre>"
      ],
      "text/plain": [
       "recommendations finished on 32000/60398 queries. users per second: 144141"
      ]
     },
     "metadata": {},
     "output_type": "display_data"
    },
    {
     "data": {
      "text/html": [
       "<pre>recommendations finished on 33000/60398 queries. users per second: 144607</pre>"
      ],
      "text/plain": [
       "recommendations finished on 33000/60398 queries. users per second: 144607"
      ]
     },
     "metadata": {},
     "output_type": "display_data"
    },
    {
     "data": {
      "text/html": [
       "<pre>recommendations finished on 34000/60398 queries. users per second: 146007</pre>"
      ],
      "text/plain": [
       "recommendations finished on 34000/60398 queries. users per second: 146007"
      ]
     },
     "metadata": {},
     "output_type": "display_data"
    },
    {
     "data": {
      "text/html": [
       "<pre>recommendations finished on 35000/60398 queries. users per second: 145853</pre>"
      ],
      "text/plain": [
       "recommendations finished on 35000/60398 queries. users per second: 145853"
      ]
     },
     "metadata": {},
     "output_type": "display_data"
    },
    {
     "data": {
      "text/html": [
       "<pre>recommendations finished on 36000/60398 queries. users per second: 144435</pre>"
      ],
      "text/plain": [
       "recommendations finished on 36000/60398 queries. users per second: 144435"
      ]
     },
     "metadata": {},
     "output_type": "display_data"
    },
    {
     "data": {
      "text/html": [
       "<pre>recommendations finished on 37000/60398 queries. users per second: 145300</pre>"
      ],
      "text/plain": [
       "recommendations finished on 37000/60398 queries. users per second: 145300"
      ]
     },
     "metadata": {},
     "output_type": "display_data"
    },
    {
     "data": {
      "text/html": [
       "<pre>recommendations finished on 38000/60398 queries. users per second: 147573</pre>"
      ],
      "text/plain": [
       "recommendations finished on 38000/60398 queries. users per second: 147573"
      ]
     },
     "metadata": {},
     "output_type": "display_data"
    },
    {
     "data": {
      "text/html": [
       "<pre>recommendations finished on 39000/60398 queries. users per second: 149742</pre>"
      ],
      "text/plain": [
       "recommendations finished on 39000/60398 queries. users per second: 149742"
      ]
     },
     "metadata": {},
     "output_type": "display_data"
    },
    {
     "data": {
      "text/html": [
       "<pre>recommendations finished on 40000/60398 queries. users per second: 151927</pre>"
      ],
      "text/plain": [
       "recommendations finished on 40000/60398 queries. users per second: 151927"
      ]
     },
     "metadata": {},
     "output_type": "display_data"
    },
    {
     "data": {
      "text/html": [
       "<pre>recommendations finished on 41000/60398 queries. users per second: 153538</pre>"
      ],
      "text/plain": [
       "recommendations finished on 41000/60398 queries. users per second: 153538"
      ]
     },
     "metadata": {},
     "output_type": "display_data"
    },
    {
     "data": {
      "text/html": [
       "<pre>recommendations finished on 42000/60398 queries. users per second: 153734</pre>"
      ],
      "text/plain": [
       "recommendations finished on 42000/60398 queries. users per second: 153734"
      ]
     },
     "metadata": {},
     "output_type": "display_data"
    },
    {
     "data": {
      "text/html": [
       "<pre>recommendations finished on 43000/60398 queries. users per second: 155265</pre>"
      ],
      "text/plain": [
       "recommendations finished on 43000/60398 queries. users per second: 155265"
      ]
     },
     "metadata": {},
     "output_type": "display_data"
    },
    {
     "data": {
      "text/html": [
       "<pre>recommendations finished on 44000/60398 queries. users per second: 157010</pre>"
      ],
      "text/plain": [
       "recommendations finished on 44000/60398 queries. users per second: 157010"
      ]
     },
     "metadata": {},
     "output_type": "display_data"
    },
    {
     "data": {
      "text/html": [
       "<pre>recommendations finished on 45000/60398 queries. users per second: 158459</pre>"
      ],
      "text/plain": [
       "recommendations finished on 45000/60398 queries. users per second: 158459"
      ]
     },
     "metadata": {},
     "output_type": "display_data"
    },
    {
     "data": {
      "text/html": [
       "<pre>recommendations finished on 46000/60398 queries. users per second: 160055</pre>"
      ],
      "text/plain": [
       "recommendations finished on 46000/60398 queries. users per second: 160055"
      ]
     },
     "metadata": {},
     "output_type": "display_data"
    },
    {
     "data": {
      "text/html": [
       "<pre>recommendations finished on 47000/60398 queries. users per second: 161303</pre>"
      ],
      "text/plain": [
       "recommendations finished on 47000/60398 queries. users per second: 161303"
      ]
     },
     "metadata": {},
     "output_type": "display_data"
    },
    {
     "data": {
      "text/html": [
       "<pre>recommendations finished on 48000/60398 queries. users per second: 162551</pre>"
      ],
      "text/plain": [
       "recommendations finished on 48000/60398 queries. users per second: 162551"
      ]
     },
     "metadata": {},
     "output_type": "display_data"
    },
    {
     "data": {
      "text/html": [
       "<pre>recommendations finished on 49000/60398 queries. users per second: 163669</pre>"
      ],
      "text/plain": [
       "recommendations finished on 49000/60398 queries. users per second: 163669"
      ]
     },
     "metadata": {},
     "output_type": "display_data"
    },
    {
     "data": {
      "text/html": [
       "<pre>recommendations finished on 50000/60398 queries. users per second: 165434</pre>"
      ],
      "text/plain": [
       "recommendations finished on 50000/60398 queries. users per second: 165434"
      ]
     },
     "metadata": {},
     "output_type": "display_data"
    },
    {
     "data": {
      "text/html": [
       "<pre>recommendations finished on 51000/60398 queries. users per second: 163634</pre>"
      ],
      "text/plain": [
       "recommendations finished on 51000/60398 queries. users per second: 163634"
      ]
     },
     "metadata": {},
     "output_type": "display_data"
    },
    {
     "data": {
      "text/html": [
       "<pre>recommendations finished on 52000/60398 queries. users per second: 165055</pre>"
      ],
      "text/plain": [
       "recommendations finished on 52000/60398 queries. users per second: 165055"
      ]
     },
     "metadata": {},
     "output_type": "display_data"
    },
    {
     "data": {
      "text/html": [
       "<pre>recommendations finished on 53000/60398 queries. users per second: 164170</pre>"
      ],
      "text/plain": [
       "recommendations finished on 53000/60398 queries. users per second: 164170"
      ]
     },
     "metadata": {},
     "output_type": "display_data"
    },
    {
     "data": {
      "text/html": [
       "<pre>recommendations finished on 54000/60398 queries. users per second: 153357</pre>"
      ],
      "text/plain": [
       "recommendations finished on 54000/60398 queries. users per second: 153357"
      ]
     },
     "metadata": {},
     "output_type": "display_data"
    },
    {
     "data": {
      "text/html": [
       "<pre>recommendations finished on 55000/60398 queries. users per second: 154186</pre>"
      ],
      "text/plain": [
       "recommendations finished on 55000/60398 queries. users per second: 154186"
      ]
     },
     "metadata": {},
     "output_type": "display_data"
    },
    {
     "data": {
      "text/html": [
       "<pre>recommendations finished on 56000/60398 queries. users per second: 154849</pre>"
      ],
      "text/plain": [
       "recommendations finished on 56000/60398 queries. users per second: 154849"
      ]
     },
     "metadata": {},
     "output_type": "display_data"
    },
    {
     "data": {
      "text/html": [
       "<pre>recommendations finished on 57000/60398 queries. users per second: 152845</pre>"
      ],
      "text/plain": [
       "recommendations finished on 57000/60398 queries. users per second: 152845"
      ]
     },
     "metadata": {},
     "output_type": "display_data"
    },
    {
     "data": {
      "text/html": [
       "<pre>recommendations finished on 58000/60398 queries. users per second: 151519</pre>"
      ],
      "text/plain": [
       "recommendations finished on 58000/60398 queries. users per second: 151519"
      ]
     },
     "metadata": {},
     "output_type": "display_data"
    },
    {
     "data": {
      "text/html": [
       "<pre>recommendations finished on 59000/60398 queries. users per second: 149432</pre>"
      ],
      "text/plain": [
       "recommendations finished on 59000/60398 queries. users per second: 149432"
      ]
     },
     "metadata": {},
     "output_type": "display_data"
    },
    {
     "data": {
      "text/html": [
       "<pre>recommendations finished on 60000/60398 queries. users per second: 148232</pre>"
      ],
      "text/plain": [
       "recommendations finished on 60000/60398 queries. users per second: 148232"
      ]
     },
     "metadata": {},
     "output_type": "display_data"
    },
    {
     "name": "stdout",
     "output_type": "stream",
     "text": [
      "(603980, 4)\n"
     ]
    },
    {
     "data": {
      "text/html": [
       "<div>\n",
       "<style scoped>\n",
       "    .dataframe tbody tr th:only-of-type {\n",
       "        vertical-align: middle;\n",
       "    }\n",
       "\n",
       "    .dataframe tbody tr th {\n",
       "        vertical-align: top;\n",
       "    }\n",
       "\n",
       "    .dataframe thead th {\n",
       "        text-align: right;\n",
       "    }\n",
       "</style>\n",
       "<table border=\"1\" class=\"dataframe\">\n",
       "  <thead>\n",
       "    <tr style=\"text-align: right;\">\n",
       "      <th></th>\n",
       "      <th>CustomerID</th>\n",
       "      <th>ProductID</th>\n",
       "      <th>score</th>\n",
       "      <th>rank</th>\n",
       "    </tr>\n",
       "  </thead>\n",
       "  <tbody>\n",
       "    <tr>\n",
       "      <th>0</th>\n",
       "      <td>21768</td>\n",
       "      <td>477</td>\n",
       "      <td>0.024141</td>\n",
       "      <td>1</td>\n",
       "    </tr>\n",
       "    <tr>\n",
       "      <th>1</th>\n",
       "      <td>21768</td>\n",
       "      <td>528</td>\n",
       "      <td>0.017642</td>\n",
       "      <td>2</td>\n",
       "    </tr>\n",
       "    <tr>\n",
       "      <th>2</th>\n",
       "      <td>21768</td>\n",
       "      <td>478</td>\n",
       "      <td>0.017101</td>\n",
       "      <td>3</td>\n",
       "    </tr>\n",
       "    <tr>\n",
       "      <th>3</th>\n",
       "      <td>21768</td>\n",
       "      <td>485</td>\n",
       "      <td>0.017007</td>\n",
       "      <td>4</td>\n",
       "    </tr>\n",
       "    <tr>\n",
       "      <th>4</th>\n",
       "      <td>21768</td>\n",
       "      <td>225</td>\n",
       "      <td>0.015925</td>\n",
       "      <td>5</td>\n",
       "    </tr>\n",
       "  </tbody>\n",
       "</table>\n",
       "</div>"
      ],
      "text/plain": [
       "   CustomerID  ProductID     score  rank\n",
       "0       21768        477  0.024141     1\n",
       "1       21768        528  0.017642     2\n",
       "2       21768        478  0.017101     3\n",
       "3       21768        485  0.017007     4\n",
       "4       21768        225  0.015925     5"
      ]
     },
     "execution_count": 25,
     "metadata": {},
     "output_type": "execute_result"
    }
   ],
   "source": [
    "#Here we want to manipulate our result to a csv output. Let’s see what we have:\n",
    "\n",
    "df_rec = recom.to_dataframe()\n",
    "print(df_rec.shape)\n",
    "df_rec.head()"
   ]
  },
  {
   "cell_type": "code",
   "execution_count": 38,
   "metadata": {},
   "outputs": [
    {
     "data": {
      "text/plain": [
       "'/home/enearow'"
      ]
     },
     "execution_count": 38,
     "metadata": {},
     "output_type": "execute_result"
    }
   ],
   "source": [
    "import os\n",
    "os.getcwd() "
   ]
  },
  {
   "cell_type": "code",
   "execution_count": 55,
   "metadata": {},
   "outputs": [],
   "source": [
    "#Let’s define a function to create a desired output:\n",
    "def create_output(model, users_to_recommend, n_rec, print_csv=True):\n",
    "    recomendation = model.recommend(users=users_to_recommend, k=n_rec)\n",
    "    df_rec = recomendation.to_dataframe()\n",
    "    df_rec['recommendedProducts'] = df_rec.groupby([user_id])[item_id] \\\n",
    "        .transform(lambda x: '|'.join(x.astype(str)))\n",
    "    df_output = df_rec[['CustomerID', 'recommendedProducts']].drop_duplicates() \\\n",
    "        .sort_values('CustomerID').set_index('CustomerID')\n",
    "    if print_csv:\n",
    "        df_output.to_csv('C:\\\\Users\\\\Hp\\output\\Recommendation.csv')\n",
    "        print(\"An output file can be found in 'output' folder with name 'Recommendation.csv'\")\n",
    "    return df_output"
   ]
  },
  {
   "cell_type": "code",
   "execution_count": 56,
   "metadata": {},
   "outputs": [
    {
     "data": {
      "text/html": [
       "<pre>recommendations finished on 1000/60398 queries. users per second: 174551</pre>"
      ],
      "text/plain": [
       "recommendations finished on 1000/60398 queries. users per second: 174551"
      ]
     },
     "metadata": {},
     "output_type": "display_data"
    },
    {
     "data": {
      "text/html": [
       "<pre>recommendations finished on 2000/60398 queries. users per second: 155027</pre>"
      ],
      "text/plain": [
       "recommendations finished on 2000/60398 queries. users per second: 155027"
      ]
     },
     "metadata": {},
     "output_type": "display_data"
    },
    {
     "data": {
      "text/html": [
       "<pre>recommendations finished on 3000/60398 queries. users per second: 172722</pre>"
      ],
      "text/plain": [
       "recommendations finished on 3000/60398 queries. users per second: 172722"
      ]
     },
     "metadata": {},
     "output_type": "display_data"
    },
    {
     "data": {
      "text/html": [
       "<pre>recommendations finished on 4000/60398 queries. users per second: 199730</pre>"
      ],
      "text/plain": [
       "recommendations finished on 4000/60398 queries. users per second: 199730"
      ]
     },
     "metadata": {},
     "output_type": "display_data"
    },
    {
     "data": {
      "text/html": [
       "<pre>recommendations finished on 5000/60398 queries. users per second: 213038</pre>"
      ],
      "text/plain": [
       "recommendations finished on 5000/60398 queries. users per second: 213038"
      ]
     },
     "metadata": {},
     "output_type": "display_data"
    },
    {
     "data": {
      "text/html": [
       "<pre>recommendations finished on 6000/60398 queries. users per second: 230450</pre>"
      ],
      "text/plain": [
       "recommendations finished on 6000/60398 queries. users per second: 230450"
      ]
     },
     "metadata": {},
     "output_type": "display_data"
    },
    {
     "data": {
      "text/html": [
       "<pre>recommendations finished on 7000/60398 queries. users per second: 243106</pre>"
      ],
      "text/plain": [
       "recommendations finished on 7000/60398 queries. users per second: 243106"
      ]
     },
     "metadata": {},
     "output_type": "display_data"
    },
    {
     "data": {
      "text/html": [
       "<pre>recommendations finished on 8000/60398 queries. users per second: 241066</pre>"
      ],
      "text/plain": [
       "recommendations finished on 8000/60398 queries. users per second: 241066"
      ]
     },
     "metadata": {},
     "output_type": "display_data"
    },
    {
     "data": {
      "text/html": [
       "<pre>recommendations finished on 9000/60398 queries. users per second: 251734</pre>"
      ],
      "text/plain": [
       "recommendations finished on 9000/60398 queries. users per second: 251734"
      ]
     },
     "metadata": {},
     "output_type": "display_data"
    },
    {
     "data": {
      "text/html": [
       "<pre>recommendations finished on 10000/60398 queries. users per second: 260071</pre>"
      ],
      "text/plain": [
       "recommendations finished on 10000/60398 queries. users per second: 260071"
      ]
     },
     "metadata": {},
     "output_type": "display_data"
    },
    {
     "data": {
      "text/html": [
       "<pre>recommendations finished on 11000/60398 queries. users per second: 265990</pre>"
      ],
      "text/plain": [
       "recommendations finished on 11000/60398 queries. users per second: 265990"
      ]
     },
     "metadata": {},
     "output_type": "display_data"
    },
    {
     "data": {
      "text/html": [
       "<pre>recommendations finished on 12000/60398 queries. users per second: 269863</pre>"
      ],
      "text/plain": [
       "recommendations finished on 12000/60398 queries. users per second: 269863"
      ]
     },
     "metadata": {},
     "output_type": "display_data"
    },
    {
     "data": {
      "text/html": [
       "<pre>recommendations finished on 13000/60398 queries. users per second: 271467</pre>"
      ],
      "text/plain": [
       "recommendations finished on 13000/60398 queries. users per second: 271467"
      ]
     },
     "metadata": {},
     "output_type": "display_data"
    },
    {
     "data": {
      "text/html": [
       "<pre>recommendations finished on 14000/60398 queries. users per second: 275130</pre>"
      ],
      "text/plain": [
       "recommendations finished on 14000/60398 queries. users per second: 275130"
      ]
     },
     "metadata": {},
     "output_type": "display_data"
    },
    {
     "data": {
      "text/html": [
       "<pre>recommendations finished on 15000/60398 queries. users per second: 280973</pre>"
      ],
      "text/plain": [
       "recommendations finished on 15000/60398 queries. users per second: 280973"
      ]
     },
     "metadata": {},
     "output_type": "display_data"
    },
    {
     "data": {
      "text/html": [
       "<pre>recommendations finished on 16000/60398 queries. users per second: 276659</pre>"
      ],
      "text/plain": [
       "recommendations finished on 16000/60398 queries. users per second: 276659"
      ]
     },
     "metadata": {},
     "output_type": "display_data"
    },
    {
     "data": {
      "text/html": [
       "<pre>recommendations finished on 17000/60398 queries. users per second: 273347</pre>"
      ],
      "text/plain": [
       "recommendations finished on 17000/60398 queries. users per second: 273347"
      ]
     },
     "metadata": {},
     "output_type": "display_data"
    },
    {
     "data": {
      "text/html": [
       "<pre>recommendations finished on 18000/60398 queries. users per second: 268172</pre>"
      ],
      "text/plain": [
       "recommendations finished on 18000/60398 queries. users per second: 268172"
      ]
     },
     "metadata": {},
     "output_type": "display_data"
    },
    {
     "data": {
      "text/html": [
       "<pre>recommendations finished on 19000/60398 queries. users per second: 263918</pre>"
      ],
      "text/plain": [
       "recommendations finished on 19000/60398 queries. users per second: 263918"
      ]
     },
     "metadata": {},
     "output_type": "display_data"
    },
    {
     "data": {
      "text/html": [
       "<pre>recommendations finished on 20000/60398 queries. users per second: 257941</pre>"
      ],
      "text/plain": [
       "recommendations finished on 20000/60398 queries. users per second: 257941"
      ]
     },
     "metadata": {},
     "output_type": "display_data"
    },
    {
     "data": {
      "text/html": [
       "<pre>recommendations finished on 21000/60398 queries. users per second: 260030</pre>"
      ],
      "text/plain": [
       "recommendations finished on 21000/60398 queries. users per second: 260030"
      ]
     },
     "metadata": {},
     "output_type": "display_data"
    },
    {
     "data": {
      "text/html": [
       "<pre>recommendations finished on 22000/60398 queries. users per second: 236341</pre>"
      ],
      "text/plain": [
       "recommendations finished on 22000/60398 queries. users per second: 236341"
      ]
     },
     "metadata": {},
     "output_type": "display_data"
    },
    {
     "data": {
      "text/html": [
       "<pre>recommendations finished on 23000/60398 queries. users per second: 238478</pre>"
      ],
      "text/plain": [
       "recommendations finished on 23000/60398 queries. users per second: 238478"
      ]
     },
     "metadata": {},
     "output_type": "display_data"
    },
    {
     "data": {
      "text/html": [
       "<pre>recommendations finished on 24000/60398 queries. users per second: 242505</pre>"
      ],
      "text/plain": [
       "recommendations finished on 24000/60398 queries. users per second: 242505"
      ]
     },
     "metadata": {},
     "output_type": "display_data"
    },
    {
     "data": {
      "text/html": [
       "<pre>recommendations finished on 25000/60398 queries. users per second: 245761</pre>"
      ],
      "text/plain": [
       "recommendations finished on 25000/60398 queries. users per second: 245761"
      ]
     },
     "metadata": {},
     "output_type": "display_data"
    },
    {
     "data": {
      "text/html": [
       "<pre>recommendations finished on 26000/60398 queries. users per second: 248158</pre>"
      ],
      "text/plain": [
       "recommendations finished on 26000/60398 queries. users per second: 248158"
      ]
     },
     "metadata": {},
     "output_type": "display_data"
    },
    {
     "data": {
      "text/html": [
       "<pre>recommendations finished on 27000/60398 queries. users per second: 250420</pre>"
      ],
      "text/plain": [
       "recommendations finished on 27000/60398 queries. users per second: 250420"
      ]
     },
     "metadata": {},
     "output_type": "display_data"
    },
    {
     "data": {
      "text/html": [
       "<pre>recommendations finished on 28000/60398 queries. users per second: 246676</pre>"
      ],
      "text/plain": [
       "recommendations finished on 28000/60398 queries. users per second: 246676"
      ]
     },
     "metadata": {},
     "output_type": "display_data"
    },
    {
     "data": {
      "text/html": [
       "<pre>recommendations finished on 29000/60398 queries. users per second: 245021</pre>"
      ],
      "text/plain": [
       "recommendations finished on 29000/60398 queries. users per second: 245021"
      ]
     },
     "metadata": {},
     "output_type": "display_data"
    },
    {
     "data": {
      "text/html": [
       "<pre>recommendations finished on 30000/60398 queries. users per second: 242882</pre>"
      ],
      "text/plain": [
       "recommendations finished on 30000/60398 queries. users per second: 242882"
      ]
     },
     "metadata": {},
     "output_type": "display_data"
    },
    {
     "data": {
      "text/html": [
       "<pre>recommendations finished on 31000/60398 queries. users per second: 241708</pre>"
      ],
      "text/plain": [
       "recommendations finished on 31000/60398 queries. users per second: 241708"
      ]
     },
     "metadata": {},
     "output_type": "display_data"
    },
    {
     "data": {
      "text/html": [
       "<pre>recommendations finished on 32000/60398 queries. users per second: 238715</pre>"
      ],
      "text/plain": [
       "recommendations finished on 32000/60398 queries. users per second: 238715"
      ]
     },
     "metadata": {},
     "output_type": "display_data"
    },
    {
     "data": {
      "text/html": [
       "<pre>recommendations finished on 33000/60398 queries. users per second: 238760</pre>"
      ],
      "text/plain": [
       "recommendations finished on 33000/60398 queries. users per second: 238760"
      ]
     },
     "metadata": {},
     "output_type": "display_data"
    },
    {
     "data": {
      "text/html": [
       "<pre>recommendations finished on 34000/60398 queries. users per second: 239398</pre>"
      ],
      "text/plain": [
       "recommendations finished on 34000/60398 queries. users per second: 239398"
      ]
     },
     "metadata": {},
     "output_type": "display_data"
    },
    {
     "data": {
      "text/html": [
       "<pre>recommendations finished on 35000/60398 queries. users per second: 241135</pre>"
      ],
      "text/plain": [
       "recommendations finished on 35000/60398 queries. users per second: 241135"
      ]
     },
     "metadata": {},
     "output_type": "display_data"
    },
    {
     "data": {
      "text/html": [
       "<pre>recommendations finished on 36000/60398 queries. users per second: 242305</pre>"
      ],
      "text/plain": [
       "recommendations finished on 36000/60398 queries. users per second: 242305"
      ]
     },
     "metadata": {},
     "output_type": "display_data"
    },
    {
     "data": {
      "text/html": [
       "<pre>recommendations finished on 37000/60398 queries. users per second: 245036</pre>"
      ],
      "text/plain": [
       "recommendations finished on 37000/60398 queries. users per second: 245036"
      ]
     },
     "metadata": {},
     "output_type": "display_data"
    },
    {
     "data": {
      "text/html": [
       "<pre>recommendations finished on 38000/60398 queries. users per second: 248089</pre>"
      ],
      "text/plain": [
       "recommendations finished on 38000/60398 queries. users per second: 248089"
      ]
     },
     "metadata": {},
     "output_type": "display_data"
    },
    {
     "data": {
      "text/html": [
       "<pre>recommendations finished on 39000/60398 queries. users per second: 250767</pre>"
      ],
      "text/plain": [
       "recommendations finished on 39000/60398 queries. users per second: 250767"
      ]
     },
     "metadata": {},
     "output_type": "display_data"
    },
    {
     "data": {
      "text/html": [
       "<pre>recommendations finished on 40000/60398 queries. users per second: 251343</pre>"
      ],
      "text/plain": [
       "recommendations finished on 40000/60398 queries. users per second: 251343"
      ]
     },
     "metadata": {},
     "output_type": "display_data"
    },
    {
     "data": {
      "text/html": [
       "<pre>recommendations finished on 41000/60398 queries. users per second: 250763</pre>"
      ],
      "text/plain": [
       "recommendations finished on 41000/60398 queries. users per second: 250763"
      ]
     },
     "metadata": {},
     "output_type": "display_data"
    },
    {
     "data": {
      "text/html": [
       "<pre>recommendations finished on 42000/60398 queries. users per second: 251270</pre>"
      ],
      "text/plain": [
       "recommendations finished on 42000/60398 queries. users per second: 251270"
      ]
     },
     "metadata": {},
     "output_type": "display_data"
    },
    {
     "data": {
      "text/html": [
       "<pre>recommendations finished on 43000/60398 queries. users per second: 250640</pre>"
      ],
      "text/plain": [
       "recommendations finished on 43000/60398 queries. users per second: 250640"
      ]
     },
     "metadata": {},
     "output_type": "display_data"
    },
    {
     "data": {
      "text/html": [
       "<pre>recommendations finished on 44000/60398 queries. users per second: 250681</pre>"
      ],
      "text/plain": [
       "recommendations finished on 44000/60398 queries. users per second: 250681"
      ]
     },
     "metadata": {},
     "output_type": "display_data"
    },
    {
     "data": {
      "text/html": [
       "<pre>recommendations finished on 45000/60398 queries. users per second: 248664</pre>"
      ],
      "text/plain": [
       "recommendations finished on 45000/60398 queries. users per second: 248664"
      ]
     },
     "metadata": {},
     "output_type": "display_data"
    },
    {
     "data": {
      "text/html": [
       "<pre>recommendations finished on 46000/60398 queries. users per second: 249120</pre>"
      ],
      "text/plain": [
       "recommendations finished on 46000/60398 queries. users per second: 249120"
      ]
     },
     "metadata": {},
     "output_type": "display_data"
    },
    {
     "data": {
      "text/html": [
       "<pre>recommendations finished on 47000/60398 queries. users per second: 250286</pre>"
      ],
      "text/plain": [
       "recommendations finished on 47000/60398 queries. users per second: 250286"
      ]
     },
     "metadata": {},
     "output_type": "display_data"
    },
    {
     "data": {
      "text/html": [
       "<pre>recommendations finished on 48000/60398 queries. users per second: 251156</pre>"
      ],
      "text/plain": [
       "recommendations finished on 48000/60398 queries. users per second: 251156"
      ]
     },
     "metadata": {},
     "output_type": "display_data"
    },
    {
     "data": {
      "text/html": [
       "<pre>recommendations finished on 49000/60398 queries. users per second: 250751</pre>"
      ],
      "text/plain": [
       "recommendations finished on 49000/60398 queries. users per second: 250751"
      ]
     },
     "metadata": {},
     "output_type": "display_data"
    },
    {
     "data": {
      "text/html": [
       "<pre>recommendations finished on 50000/60398 queries. users per second: 251676</pre>"
      ],
      "text/plain": [
       "recommendations finished on 50000/60398 queries. users per second: 251676"
      ]
     },
     "metadata": {},
     "output_type": "display_data"
    },
    {
     "data": {
      "text/html": [
       "<pre>recommendations finished on 51000/60398 queries. users per second: 245460</pre>"
      ],
      "text/plain": [
       "recommendations finished on 51000/60398 queries. users per second: 245460"
      ]
     },
     "metadata": {},
     "output_type": "display_data"
    },
    {
     "data": {
      "text/html": [
       "<pre>recommendations finished on 52000/60398 queries. users per second: 246246</pre>"
      ],
      "text/plain": [
       "recommendations finished on 52000/60398 queries. users per second: 246246"
      ]
     },
     "metadata": {},
     "output_type": "display_data"
    },
    {
     "data": {
      "text/html": [
       "<pre>recommendations finished on 53000/60398 queries. users per second: 247090</pre>"
      ],
      "text/plain": [
       "recommendations finished on 53000/60398 queries. users per second: 247090"
      ]
     },
     "metadata": {},
     "output_type": "display_data"
    },
    {
     "data": {
      "text/html": [
       "<pre>recommendations finished on 54000/60398 queries. users per second: 244039</pre>"
      ],
      "text/plain": [
       "recommendations finished on 54000/60398 queries. users per second: 244039"
      ]
     },
     "metadata": {},
     "output_type": "display_data"
    },
    {
     "data": {
      "text/html": [
       "<pre>recommendations finished on 55000/60398 queries. users per second: 245259</pre>"
      ],
      "text/plain": [
       "recommendations finished on 55000/60398 queries. users per second: 245259"
      ]
     },
     "metadata": {},
     "output_type": "display_data"
    },
    {
     "data": {
      "text/html": [
       "<pre>recommendations finished on 56000/60398 queries. users per second: 247134</pre>"
      ],
      "text/plain": [
       "recommendations finished on 56000/60398 queries. users per second: 247134"
      ]
     },
     "metadata": {},
     "output_type": "display_data"
    },
    {
     "data": {
      "text/html": [
       "<pre>recommendations finished on 57000/60398 queries. users per second: 247704</pre>"
      ],
      "text/plain": [
       "recommendations finished on 57000/60398 queries. users per second: 247704"
      ]
     },
     "metadata": {},
     "output_type": "display_data"
    },
    {
     "data": {
      "text/html": [
       "<pre>recommendations finished on 58000/60398 queries. users per second: 244758</pre>"
      ],
      "text/plain": [
       "recommendations finished on 58000/60398 queries. users per second: 244758"
      ]
     },
     "metadata": {},
     "output_type": "display_data"
    },
    {
     "data": {
      "text/html": [
       "<pre>recommendations finished on 59000/60398 queries. users per second: 243237</pre>"
      ],
      "text/plain": [
       "recommendations finished on 59000/60398 queries. users per second: 243237"
      ]
     },
     "metadata": {},
     "output_type": "display_data"
    },
    {
     "data": {
      "text/html": [
       "<pre>recommendations finished on 60000/60398 queries. users per second: 238378</pre>"
      ],
      "text/plain": [
       "recommendations finished on 60000/60398 queries. users per second: 238378"
      ]
     },
     "metadata": {},
     "output_type": "display_data"
    },
    {
     "name": "stdout",
     "output_type": "stream",
     "text": [
      "An output file can be found in 'output' folder with name 'Recommendation.csv'\n",
      "(18484, 1)\n"
     ]
    },
    {
     "data": {
      "text/html": [
       "<div>\n",
       "<style scoped>\n",
       "    .dataframe tbody tr th:only-of-type {\n",
       "        vertical-align: middle;\n",
       "    }\n",
       "\n",
       "    .dataframe tbody tr th {\n",
       "        vertical-align: top;\n",
       "    }\n",
       "\n",
       "    .dataframe thead th {\n",
       "        text-align: right;\n",
       "    }\n",
       "</style>\n",
       "<table border=\"1\" class=\"dataframe\">\n",
       "  <thead>\n",
       "    <tr style=\"text-align: right;\">\n",
       "      <th></th>\n",
       "      <th>recommendedProducts</th>\n",
       "    </tr>\n",
       "    <tr>\n",
       "      <th>CustomerID</th>\n",
       "      <th></th>\n",
       "    </tr>\n",
       "  </thead>\n",
       "  <tbody>\n",
       "    <tr>\n",
       "      <th>11000</th>\n",
       "      <td>463|465|484|472|473|487|471|234|467|482|463|46...</td>\n",
       "    </tr>\n",
       "    <tr>\n",
       "      <th>11001</th>\n",
       "      <td>463|465|484|472|473|487|471|234|467|482|463|46...</td>\n",
       "    </tr>\n",
       "    <tr>\n",
       "      <th>11002</th>\n",
       "      <td>463|465|484|472|473|471|487|234|482|467|463|46...</td>\n",
       "    </tr>\n",
       "    <tr>\n",
       "      <th>11003</th>\n",
       "      <td>463|465|484|472|473|487|471|234|467|482|463|46...</td>\n",
       "    </tr>\n",
       "    <tr>\n",
       "      <th>11004</th>\n",
       "      <td>463|465|484|472|473|471|487|234|467|482|463|46...</td>\n",
       "    </tr>\n",
       "  </tbody>\n",
       "</table>\n",
       "</div>"
      ],
      "text/plain": [
       "                                          recommendedProducts\n",
       "CustomerID                                                   \n",
       "11000       463|465|484|472|473|487|471|234|467|482|463|46...\n",
       "11001       463|465|484|472|473|487|471|234|467|482|463|46...\n",
       "11002       463|465|484|472|473|471|487|234|482|467|463|46...\n",
       "11003       463|465|484|472|473|487|471|234|467|482|463|46...\n",
       "11004       463|465|484|472|473|471|487|234|467|482|463|46..."
      ]
     },
     "execution_count": 56,
     "metadata": {},
     "output_type": "execute_result"
    }
   ],
   "source": [
    "#Lets print the output below and setprint_csv to true, this way we could literally print out our output file in csv,\n",
    "\n",
    "df_output = create_output(pear_norm, users_to_recommend, n_rec, print_csv=True)\n",
    "print(df_output.shape)\n",
    "df_output.head()"
   ]
  },
  {
   "cell_type": "markdown",
   "metadata": {},
   "source": [
    "# Customer Recommendation Function"
   ]
  },
  {
   "cell_type": "code",
   "execution_count": 28,
   "metadata": {},
   "outputs": [],
   "source": [
    "def customer_recomendation(CustomerID):\n",
    "    if CustomerID not in df_output.index:\n",
    "        print('Customer not found.')\n",
    "        return CustomerID\n",
    "    return df_output.loc[CustomerID]"
   ]
  },
  {
   "cell_type": "code",
   "execution_count": 52,
   "metadata": {},
   "outputs": [
    {
     "data": {
      "text/plain": [
       "recommendedProducts    463|465|484|472|473|471|487|234|467|482|463|46...\n",
       "Name: 11004, dtype: object"
      ]
     },
     "execution_count": 52,
     "metadata": {},
     "output_type": "execute_result"
    }
   ],
   "source": [
    "customer_recomendation(11004)"
   ]
  },
  {
   "cell_type": "code",
   "execution_count": null,
   "metadata": {},
   "outputs": [],
   "source": []
  }
 ],
 "metadata": {
  "kernelspec": {
   "display_name": "Python 3",
   "language": "python",
   "name": "python3"
  },
  "language_info": {
   "codemirror_mode": {
    "name": "ipython",
    "version": 3
   },
   "file_extension": ".py",
   "mimetype": "text/x-python",
   "name": "python",
   "nbconvert_exporter": "python",
   "pygments_lexer": "ipython3",
   "version": "3.6.9"
  }
 },
 "nbformat": 4,
 "nbformat_minor": 4
}
